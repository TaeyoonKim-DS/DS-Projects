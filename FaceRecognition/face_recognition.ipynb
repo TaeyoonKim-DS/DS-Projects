{
 "cells": [
  {
   "cell_type": "code",
   "execution_count": 4,
   "id": "1474ce0b-d3a6-4c95-b976-e7e5ecdc5eae",
   "metadata": {},
   "outputs": [
    {
     "name": "stdout",
     "output_type": "stream",
     "text": [
      "Requirement already satisfied: opencv-contrib-python-headless in /home/studio-lab-user/.conda/envs/d2l/lib/python3.9/site-packages (4.6.0.66)\n",
      "Requirement already satisfied: numpy>=1.17.3 in /home/studio-lab-user/.conda/envs/d2l/lib/python3.9/site-packages (from opencv-contrib-python-headless) (1.22.4)\n"
     ]
    }
   ],
   "source": [
    "!pip install opencv-contrib-python-headless"
   ]
  },
  {
   "cell_type": "code",
   "execution_count": 5,
   "id": "a39d2ecc-46ad-4434-bbe9-5cfd622754c2",
   "metadata": {},
   "outputs": [
    {
     "name": "stdout",
     "output_type": "stream",
     "text": [
      "Requirement already satisfied: cmake in /home/studio-lab-user/.conda/envs/d2l/lib/python3.9/site-packages (3.22.5)\n",
      "Requirement already satisfied: dlib in /home/studio-lab-user/.conda/envs/d2l/lib/python3.9/site-packages (19.24.0)\n"
     ]
    }
   ],
   "source": [
    "!pip install cmake\n",
    "!pip install dlib"
   ]
  },
  {
   "cell_type": "code",
   "execution_count": 6,
   "id": "7c172834-58ac-44b0-ad5e-95c742111b33",
   "metadata": {},
   "outputs": [
    {
     "name": "stdout",
     "output_type": "stream",
     "text": [
      "Requirement already satisfied: face_recognition in /home/studio-lab-user/.conda/envs/d2l/lib/python3.9/site-packages (1.3.0)\n",
      "Requirement already satisfied: face-recognition-models>=0.3.0 in /home/studio-lab-user/.conda/envs/d2l/lib/python3.9/site-packages (from face_recognition) (0.3.0)\n",
      "Requirement already satisfied: Click>=6.0 in /home/studio-lab-user/.conda/envs/d2l/lib/python3.9/site-packages (from face_recognition) (8.1.3)\n",
      "Requirement already satisfied: numpy in /home/studio-lab-user/.conda/envs/d2l/lib/python3.9/site-packages (from face_recognition) (1.22.4)\n",
      "Requirement already satisfied: Pillow in /home/studio-lab-user/.conda/envs/d2l/lib/python3.9/site-packages (from face_recognition) (9.1.1)\n",
      "Requirement already satisfied: dlib>=19.7 in /home/studio-lab-user/.conda/envs/d2l/lib/python3.9/site-packages (from face_recognition) (19.24.0)\n"
     ]
    }
   ],
   "source": [
    "!pip install face_recognition"
   ]
  },
  {
   "cell_type": "code",
   "execution_count": 2,
   "id": "0037609b-d7e6-4039-b69b-6a0b71df5641",
   "metadata": {},
   "outputs": [
    {
     "name": "stdout",
     "output_type": "stream",
     "text": [
      "loading known faces\n"
     ]
    }
   ],
   "source": [
    "import os\n",
    "import cv2\n",
    "import face_recognition\n",
    "from PIL import Image\n",
    "import face_recognition\n",
    "\n",
    "KNOWN_FACES_DIR = \"known_faces\"\n",
    "UNKNOWN_FACES_DIR = \"unknown_faces\"\n",
    "TOLERANCE = 0.6\n",
    "FRAME_THICKNESS = 3\n",
    "FONT_THINKNESS = 2\n",
    "MODEL = \"cnn\"\n",
    "\n",
    "print(\"loading known faces\")"
   ]
  },
  {
   "cell_type": "code",
   "execution_count": 6,
   "id": "20d078bb-6a71-4466-a8ac-aab63f3c87f7",
   "metadata": {},
   "outputs": [
    {
     "name": "stdout",
     "output_type": "stream",
     "text": [
      "processing unknown faces\n",
      "Match found: kim4.jpg, kim\n",
      "Match found: kim4.jpg, kim\n",
      "kim4.jpg, not match\n",
      "kim4.jpg, not match\n",
      "Match found: kim8.jpg, kim\n",
      "Match found: kim6.jpg, kim\n",
      "Match found: kim7.jpg, kim\n",
      "kim10.jpg, not match\n",
      "Match found: kim10.jpg, kim\n",
      "cat2.jpg, not match\n",
      "cat2.jpg, not match\n",
      "cat3.jpg, not match\n",
      "cat1.jpg, not match\n"
     ]
    }
   ],
   "source": [
    "known_faces = []\n",
    "known_names = []\n",
    "\n",
    "for name in os.listdir(KNOWN_FACES_DIR):\n",
    "    for filename in os.listdir(f\"{KNOWN_FACES_DIR}/{name}\"):\n",
    "        image = face_recognition.load_image_file(f\"{KNOWN_FACES_DIR}/{name}/{filename}\")\n",
    "        encoding = face_recognition.face_encodings(image)[0]\n",
    "        known_faces.append(encoding)\n",
    "        known_names.append(name)\n",
    "        \n",
    "print(\"processing unknown faces\")\n",
    "\n",
    "for filename in os.listdir(UNKNOWN_FACES_DIR):\n",
    "    image = face_recognition.load_image_file(f\"{UNKNOWN_FACES_DIR}/{filename}\")\n",
    "    locations = face_recognition.face_locations(image, model = MODEL)\n",
    "    encodings = face_recognition.face_encodings(image, locations)\n",
    "    image = cv2.cvtColor(image, cv2.COLOR_RGB2BGR)\n",
    "    \n",
    "    for face_encoding, face_location in zip(encodings, locations):\n",
    "        results = face_recognition.compare_faces(known_faces, face_encoding, TOLERANCE)\n",
    "        match = None\n",
    "        if True in results:\n",
    "            match = known_names[results.index(True)]\n",
    "            print(f\"Match found: {filename}, {match}\")\n",
    "        else:\n",
    "            print(f\"{filename}, not match\")"
   ]
  },
  {
   "cell_type": "code",
   "execution_count": null,
   "id": "452af8e7-b785-40da-8b64-a80ba57193ef",
   "metadata": {},
   "outputs": [],
   "source": []
  }
 ],
 "metadata": {
  "kernelspec": {
   "display_name": "d2l:Python",
   "language": "python",
   "name": "conda-env-d2l-py"
  },
  "language_info": {
   "codemirror_mode": {
    "name": "ipython",
    "version": 3
   },
   "file_extension": ".py",
   "mimetype": "text/x-python",
   "name": "python",
   "nbconvert_exporter": "python",
   "pygments_lexer": "ipython3",
   "version": "3.9.13"
  }
 },
 "nbformat": 4,
 "nbformat_minor": 5
}
