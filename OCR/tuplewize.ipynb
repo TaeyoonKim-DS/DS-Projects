{
 "cells": [
  {
   "cell_type": "code",
   "execution_count": 26,
   "id": "c6b70e59-5fbf-41d7-a82e-a2a87de9864d",
   "metadata": {},
   "outputs": [
    {
     "name": "stderr",
     "output_type": "stream",
     "text": [
      "/home/studio-lab-user/.conda/envs/default/lib/python3.9/site-packages/scipy/__init__.py:146: UserWarning: A NumPy version >=1.16.5 and <1.23.0 is required for this version of SciPy (detected version 1.23.1\n",
      "  warnings.warn(f\"A NumPy version >={np_minversion} and <{np_maxversion}\"\n"
     ]
    }
   ],
   "source": [
    "import numpy as np\n",
    "import itertools\n",
    "import nltk"
   ]
  },
  {
   "cell_type": "code",
   "execution_count": 27,
   "id": "954863ac-e09c-462f-b9a8-34d358808bec",
   "metadata": {},
   "outputs": [],
   "source": [
    "# helper functions for funal scoring function\n",
    "\n",
    "def advance(iterator, step):\n",
    "    next(itertools.islice(iterator, step, step), None) #iteratore = iterable 객체. step = 시작, step = 정지 범위안에서 None번째 안에서 잘라라.\n",
    "\n",
    "def tuplewize(iterable, size): \n",
    "    iterators = itertools.tee(iterable, size)\n",
    "    for position, iterator in enumerate(iterators):\n",
    "        advance(iterator, position)\n",
    "    return zip(*iterators)"
   ]
  },
  {
   "cell_type": "code",
   "execution_count": 28,
   "id": "a16007ea-ccf7-45e6-bb9a-e5d2a5a948a4",
   "metadata": {},
   "outputs": [
    {
     "name": "stdout",
     "output_type": "stream",
     "text": [
      "group 2 numbers into a tuple\n",
      "(10, 11)\n",
      "(11, 12)\n",
      "(12, 13)\n",
      "(13, 26)\n",
      "(26, 28)\n",
      "\n",
      " group 3 numbers into a tuple\n",
      "(10, 11, 12)\n",
      "(11, 12, 13)\n",
      "(12, 13, 26)\n",
      "(13, 26, 28)\n"
     ]
    }
   ],
   "source": [
    "# https://ko.qastack.cloud/codereview_threads/questions/196350/slice-a-list-or-numpy-array-into-consecutive-tuples\n",
    "lst = np.array([10, 11, 12, 13, 26, 28])\n",
    "\n",
    "print(\"group 2 numbers into a tuple\")\n",
    "for t in tuplewize(lst, 2):\n",
    "    print(t)\n",
    "\n",
    "    \n",
    "print(\"\\n group 3 numbers into a tuple\")\n",
    "for t in tuplewize(lst, 3):\n",
    "    print(t)"
   ]
  },
  {
   "cell_type": "markdown",
   "id": "41d37b96-6bcc-451a-99de-82a434bb34d1",
   "metadata": {},
   "source": [
    "### lst ==> iterable 한 객체, i는 묶을 갯수. 묶을 갯수는 len(target.split())"
   ]
  },
  {
   "cell_type": "code",
   "execution_count": 29,
   "id": "024a8357-d78f-4ac3-80d0-07c8aa57ddc3",
   "metadata": {},
   "outputs": [
    {
     "data": {
      "text/html": [
       "<div>\n",
       "<style scoped>\n",
       "    .dataframe tbody tr th:only-of-type {\n",
       "        vertical-align: middle;\n",
       "    }\n",
       "\n",
       "    .dataframe tbody tr th {\n",
       "        vertical-align: top;\n",
       "    }\n",
       "\n",
       "    .dataframe thead th {\n",
       "        text-align: right;\n",
       "    }\n",
       "</style>\n",
       "<table border=\"1\" class=\"dataframe\">\n",
       "  <thead>\n",
       "    <tr style=\"text-align: right;\">\n",
       "      <th></th>\n",
       "      <th>words_scores</th>\n",
       "    </tr>\n",
       "  </thead>\n",
       "  <tbody>\n",
       "    <tr>\n",
       "      <th>0</th>\n",
       "      <td>[[among us yo, garbage dfsd, kdhalq], [0.8, 0....</td>\n",
       "    </tr>\n",
       "    <tr>\n",
       "      <th>1</th>\n",
       "      <td>[[among us, garbage dfsd, kdhalq], [0.8, 0.2, ...</td>\n",
       "    </tr>\n",
       "    <tr>\n",
       "      <th>2</th>\n",
       "      <td>[[amongus], [1.0]]</td>\n",
       "    </tr>\n",
       "    <tr>\n",
       "      <th>3</th>\n",
       "      <td>[[innerslothpresent, amongus], [1, 1]]</td>\n",
       "    </tr>\n",
       "  </tbody>\n",
       "</table>\n",
       "</div>"
      ],
      "text/plain": [
       "                                        words_scores\n",
       "0  [[among us yo, garbage dfsd, kdhalq], [0.8, 0....\n",
       "1  [[among us, garbage dfsd, kdhalq], [0.8, 0.2, ...\n",
       "2                                 [[amongus], [1.0]]\n",
       "3             [[innerslothpresent, amongus], [1, 1]]"
      ]
     },
     "execution_count": 29,
     "metadata": {},
     "output_type": "execute_result"
    }
   ],
   "source": [
    "import pandas as pd\n",
    "words_scores = [\n",
    "               [[\"among us yo\", \"garbage dfsd\", \"kdhalq\"], [0.8, 0.2, 0.1]],\n",
    "               [[\"among us\", \"garbage dfsd\", \"kdhalq\"], [0.8, 0.2, 0.1]],\n",
    "               [[\"amongus\"],[1.0]],\n",
    "               [['innerslothpresent', 'amongus'], [1, 1]]\n",
    "                ]\n",
    "test_df = pd.DataFrame()\n",
    "test_df[\"words_scores\"] = words_scores\n",
    "test_df"
   ]
  },
  {
   "cell_type": "code",
   "execution_count": 46,
   "id": "ad915462-d695-4c77-ab86-d205dad5454e",
   "metadata": {},
   "outputs": [],
   "source": [
    "# define function to produce final scores\n",
    "\n",
    "def get_final_score(row):\n",
    "    sample_list = row[\"words_scores\"][0]\n",
    "    score_list = row[\"words_scores\"][1]\n",
    "    max_score = 0\n",
    "    \n",
    "    for target in targets:\n",
    "        phrase_length = len(target.split())\n",
    "        for i in range(1, phrase_length+1):\n",
    "            for c, s in zip(tuplewize(sample_list, i), tuplewize(score_list, i)):\n",
    "                print(c) #output은 tuple 형태로 1개의 단어만 가져왔음 i가 1부터 시작하기 때문에. i가 2인경우엔 스코어 2개가져옴\n",
    "                print(s) #output은 score 형태로 1개의 단어만 가져옴. i가 2인 경우엔? 스코어 2개 가져옴.\n",
    "                new_sample = \" \".join(c) # new sample은 2개의 단어 이어붙임. 이어붙이는 동시에 score는 2개의 평균값으로 가져옴.\n",
    "                print(new_sample)\n",
    "                edit_distance = nltk.edit_distance(target, new_sample)\n",
    "                closeness = (len(target)-edit_distance)/len(target)\n",
    "                confidence_score = np.mean(s)\n",
    "                final_score = closeness * confidence_score\n",
    "                if final_score > max_score:\n",
    "                    max_score = final_score\n",
    "             \n",
    "    return max_score"
   ]
  },
  {
   "cell_type": "code",
   "execution_count": 47,
   "id": "0c3546d7-a376-4c9d-8954-f43d539909c8",
   "metadata": {},
   "outputs": [
    {
     "name": "stdout",
     "output_type": "stream",
     "text": [
      "('among us yo',)\n",
      "(0.8,)\n",
      "among us yo\n",
      "('garbage dfsd',)\n",
      "(0.2,)\n",
      "garbage dfsd\n",
      "('kdhalq',)\n",
      "(0.1,)\n",
      "kdhalq\n",
      "('among us yo', 'garbage dfsd')\n",
      "(0.8, 0.2)\n",
      "among us yo garbage dfsd\n",
      "('garbage dfsd', 'kdhalq')\n",
      "(0.2, 0.1)\n",
      "garbage dfsd kdhalq\n",
      "('among us',)\n",
      "(0.8,)\n",
      "among us\n",
      "('garbage dfsd',)\n",
      "(0.2,)\n",
      "garbage dfsd\n",
      "('kdhalq',)\n",
      "(0.1,)\n",
      "kdhalq\n",
      "('among us', 'garbage dfsd')\n",
      "(0.8, 0.2)\n",
      "among us garbage dfsd\n",
      "('garbage dfsd', 'kdhalq')\n",
      "(0.2, 0.1)\n",
      "garbage dfsd kdhalq\n",
      "('amongus',)\n",
      "(1.0,)\n",
      "amongus\n",
      "('innerslothpresent',)\n",
      "(1,)\n",
      "innerslothpresent\n",
      "('amongus',)\n",
      "(1,)\n",
      "amongus\n",
      "('innerslothpresent', 'amongus')\n",
      "(1, 1)\n",
      "innerslothpresent amongus\n"
     ]
    }
   ],
   "source": [
    "test_df[\"OCR_score\"] = test_df.apply(get_final_score, axis=1)"
   ]
  },
  {
   "cell_type": "code",
   "execution_count": null,
   "id": "04827477-90f9-4cb4-ab17-cc04f4369f32",
   "metadata": {},
   "outputs": [],
   "source": []
  }
 ],
 "metadata": {
  "kernelspec": {
   "display_name": "default:Python",
   "language": "python",
   "name": "conda-env-default-py"
  },
  "language_info": {
   "codemirror_mode": {
    "name": "ipython",
    "version": 3
   },
   "file_extension": ".py",
   "mimetype": "text/x-python",
   "name": "python",
   "nbconvert_exporter": "python",
   "pygments_lexer": "ipython3",
   "version": "3.9.10"
  }
 },
 "nbformat": 4,
 "nbformat_minor": 5
}
