{
 "cells": [
  {
   "cell_type": "code",
   "execution_count": 1,
   "id": "1f97725b-4376-40f1-9202-1e4d269f464e",
   "metadata": {},
   "outputs": [
    {
     "name": "stderr",
     "output_type": "stream",
     "text": [
      "/home/studio-lab-user/.conda/envs/default/lib/python3.9/site-packages/scipy/__init__.py:146: UserWarning: A NumPy version >=1.16.5 and <1.23.0 is required for this version of SciPy (detected version 1.23.1\n",
      "  warnings.warn(f\"A NumPy version >={np_minversion} and <{np_maxversion}\"\n"
     ]
    }
   ],
   "source": [
    "## Imports\n",
    "\n",
    "import pandas as pd\n",
    "import io\n",
    "import matplotlib.pyplot as plt\n",
    "import time\n",
    "from sklearn.metrics import roc_auc_score\n",
    "\n",
    "import re\n",
    "import string\n",
    "import nltk\n",
    "import itertools\n",
    "import numpy as np\n",
    "\n",
    "# this allows you to apply a progress bar to pandas operations\n",
    "from tqdm import tqdm\n",
    "tqdm.pandas()"
   ]
  },
  {
   "cell_type": "code",
   "execution_count": 2,
   "id": "85538ff1-2971-45bc-99a6-59e0d1da73a0",
   "metadata": {
    "tags": []
   },
   "outputs": [
    {
     "name": "stdout",
     "output_type": "stream",
     "text": [
      "Looking in indexes: https://mirror.baidu.com/pypi/simple\n",
      "Requirement already satisfied: paddlepaddle in /home/studio-lab-user/.conda/envs/default/lib/python3.9/site-packages (2.1.2)\n",
      "Requirement already satisfied: Pillow in /home/studio-lab-user/.conda/envs/default/lib/python3.9/site-packages (from paddlepaddle) (9.2.0)\n",
      "Requirement already satisfied: six in /home/studio-lab-user/.conda/envs/default/lib/python3.9/site-packages (from paddlepaddle) (1.16.0)\n",
      "Requirement already satisfied: gast<=0.4.0,>=0.3.3 in /home/studio-lab-user/.conda/envs/default/lib/python3.9/site-packages (from paddlepaddle) (0.4.0)\n",
      "Requirement already satisfied: astor in /home/studio-lab-user/.conda/envs/default/lib/python3.9/site-packages (from paddlepaddle) (0.8.1)\n",
      "Requirement already satisfied: protobuf>=3.1.0 in /home/studio-lab-user/.conda/envs/default/lib/python3.9/site-packages (from paddlepaddle) (3.20.1)\n",
      "Requirement already satisfied: numpy>=1.13 in /home/studio-lab-user/.conda/envs/default/lib/python3.9/site-packages (from paddlepaddle) (1.23.1)\n",
      "Requirement already satisfied: requests>=2.20.0 in /home/studio-lab-user/.conda/envs/default/lib/python3.9/site-packages (from paddlepaddle) (2.27.1)\n",
      "Requirement already satisfied: decorator in /home/studio-lab-user/.conda/envs/default/lib/python3.9/site-packages (from paddlepaddle) (5.1.1)\n",
      "Requirement already satisfied: urllib3<1.27,>=1.21.1 in /home/studio-lab-user/.conda/envs/default/lib/python3.9/site-packages (from requests>=2.20.0->paddlepaddle) (1.26.6)\n",
      "Requirement already satisfied: charset-normalizer~=2.0.0 in /home/studio-lab-user/.conda/envs/default/lib/python3.9/site-packages (from requests>=2.20.0->paddlepaddle) (2.0.12)\n",
      "Requirement already satisfied: certifi>=2017.4.17 in /home/studio-lab-user/.conda/envs/default/lib/python3.9/site-packages (from requests>=2.20.0->paddlepaddle) (2021.5.30)\n",
      "Requirement already satisfied: idna<4,>=2.5 in /home/studio-lab-user/.conda/envs/default/lib/python3.9/site-packages (from requests>=2.20.0->paddlepaddle) (2.10)\n",
      "Requirement already satisfied: paddleocr in /home/studio-lab-user/.conda/envs/default/lib/python3.9/site-packages (2.6)\n",
      "Requirement already satisfied: openpyxl in /home/studio-lab-user/.conda/envs/default/lib/python3.9/site-packages (from paddleocr) (3.0.10)\n",
      "Requirement already satisfied: tqdm in /home/studio-lab-user/.conda/envs/default/lib/python3.9/site-packages (from paddleocr) (4.64.0)\n",
      "Requirement already satisfied: lmdb in /home/studio-lab-user/.conda/envs/default/lib/python3.9/site-packages (from paddleocr) (1.3.0)\n",
      "Requirement already satisfied: cython in /home/studio-lab-user/.conda/envs/default/lib/python3.9/site-packages (from paddleocr) (0.29.32)\n",
      "Requirement already satisfied: numpy in /home/studio-lab-user/.conda/envs/default/lib/python3.9/site-packages (from paddleocr) (1.23.1)\n",
      "Requirement already satisfied: visualdl in /home/studio-lab-user/.conda/envs/default/lib/python3.9/site-packages (from paddleocr) (2.4.0)\n",
      "Requirement already satisfied: premailer in /home/studio-lab-user/.conda/envs/default/lib/python3.9/site-packages (from paddleocr) (3.10.0)\n",
      "Requirement already satisfied: attrdict in /home/studio-lab-user/.conda/envs/default/lib/python3.9/site-packages (from paddleocr) (2.0.1)\n",
      "Requirement already satisfied: imgaug in /home/studio-lab-user/.conda/envs/default/lib/python3.9/site-packages (from paddleocr) (0.4.0)\n",
      "Requirement already satisfied: opencv-contrib-python in /home/studio-lab-user/.conda/envs/default/lib/python3.9/site-packages (from paddleocr) (4.6.0.66)\n",
      "Requirement already satisfied: lxml in /home/studio-lab-user/.conda/envs/default/lib/python3.9/site-packages (from paddleocr) (4.9.1)\n",
      "Requirement already satisfied: rapidfuzz in /home/studio-lab-user/.conda/envs/default/lib/python3.9/site-packages (from paddleocr) (2.6.0)\n",
      "Requirement already satisfied: shapely in /home/studio-lab-user/.conda/envs/default/lib/python3.9/site-packages (from paddleocr) (1.8.4)\n",
      "Requirement already satisfied: scikit-image in /home/studio-lab-user/.conda/envs/default/lib/python3.9/site-packages (from paddleocr) (0.19.3)\n",
      "Requirement already satisfied: pyclipper in /home/studio-lab-user/.conda/envs/default/lib/python3.9/site-packages (from paddleocr) (1.3.0.post3)\n",
      "Requirement already satisfied: six in /home/studio-lab-user/.conda/envs/default/lib/python3.9/site-packages (from attrdict->paddleocr) (1.16.0)\n",
      "Requirement already satisfied: scipy in /home/studio-lab-user/.conda/envs/default/lib/python3.9/site-packages (from imgaug->paddleocr) (1.8.1)\n",
      "Requirement already satisfied: opencv-python in /home/studio-lab-user/.conda/envs/default/lib/python3.9/site-packages (from imgaug->paddleocr) (4.5.5.64)\n",
      "Requirement already satisfied: imageio in /home/studio-lab-user/.conda/envs/default/lib/python3.9/site-packages (from imgaug->paddleocr) (2.21.2)\n",
      "Requirement already satisfied: matplotlib in /home/studio-lab-user/.conda/envs/default/lib/python3.9/site-packages (from imgaug->paddleocr) (3.5.2)\n",
      "Requirement already satisfied: Pillow in /home/studio-lab-user/.conda/envs/default/lib/python3.9/site-packages (from imgaug->paddleocr) (9.2.0)\n",
      "Requirement already satisfied: tifffile>=2019.7.26 in /home/studio-lab-user/.conda/envs/default/lib/python3.9/site-packages (from scikit-image->paddleocr) (2022.8.12)\n",
      "Requirement already satisfied: packaging>=20.0 in /home/studio-lab-user/.conda/envs/default/lib/python3.9/site-packages (from scikit-image->paddleocr) (21.3)\n",
      "Requirement already satisfied: networkx>=2.2 in /home/studio-lab-user/.conda/envs/default/lib/python3.9/site-packages (from scikit-image->paddleocr) (2.8.6)\n",
      "Requirement already satisfied: PyWavelets>=1.1.1 in /home/studio-lab-user/.conda/envs/default/lib/python3.9/site-packages (from scikit-image->paddleocr) (1.3.0)\n",
      "Requirement already satisfied: et-xmlfile in /home/studio-lab-user/.conda/envs/default/lib/python3.9/site-packages (from openpyxl->paddleocr) (1.1.0)\n",
      "Requirement already satisfied: requests in /home/studio-lab-user/.conda/envs/default/lib/python3.9/site-packages (from premailer->paddleocr) (2.27.1)\n",
      "Requirement already satisfied: cssselect in /home/studio-lab-user/.conda/envs/default/lib/python3.9/site-packages (from premailer->paddleocr) (1.1.0)\n",
      "Requirement already satisfied: cssutils in /home/studio-lab-user/.conda/envs/default/lib/python3.9/site-packages (from premailer->paddleocr) (2.6.0)\n",
      "Requirement already satisfied: cachetools in /home/studio-lab-user/.conda/envs/default/lib/python3.9/site-packages (from premailer->paddleocr) (5.2.0)\n",
      "Requirement already satisfied: jarowinkler<2.0.0,>=1.2.0 in /home/studio-lab-user/.conda/envs/default/lib/python3.9/site-packages (from rapidfuzz->paddleocr) (1.2.1)\n",
      "Requirement already satisfied: protobuf>=3.11.0 in /home/studio-lab-user/.conda/envs/default/lib/python3.9/site-packages (from visualdl->paddleocr) (3.20.1)\n",
      "Requirement already satisfied: Flask-Babel>=1.0.0 in /home/studio-lab-user/.conda/envs/default/lib/python3.9/site-packages (from visualdl->paddleocr) (2.0.0)\n",
      "Requirement already satisfied: pandas in /home/studio-lab-user/.conda/envs/default/lib/python3.9/site-packages (from visualdl->paddleocr) (1.4.2)\n",
      "Requirement already satisfied: bce-python-sdk in /home/studio-lab-user/.conda/envs/default/lib/python3.9/site-packages (from visualdl->paddleocr) (0.8.74)\n",
      "Requirement already satisfied: flask>=1.1.1 in /home/studio-lab-user/.conda/envs/default/lib/python3.9/site-packages (from visualdl->paddleocr) (2.2.2)\n",
      "Requirement already satisfied: click>=8.0 in /home/studio-lab-user/.conda/envs/default/lib/python3.9/site-packages (from flask>=1.1.1->visualdl->paddleocr) (8.1.3)\n",
      "Requirement already satisfied: Jinja2>=3.0 in /home/studio-lab-user/.conda/envs/default/lib/python3.9/site-packages (from flask>=1.1.1->visualdl->paddleocr) (3.0.3)\n",
      "Requirement already satisfied: itsdangerous>=2.0 in /home/studio-lab-user/.conda/envs/default/lib/python3.9/site-packages (from flask>=1.1.1->visualdl->paddleocr) (2.1.2)\n",
      "Requirement already satisfied: importlib-metadata>=3.6.0 in /home/studio-lab-user/.conda/envs/default/lib/python3.9/site-packages (from flask>=1.1.1->visualdl->paddleocr) (4.11.1)\n",
      "Requirement already satisfied: Werkzeug>=2.2.2 in /home/studio-lab-user/.conda/envs/default/lib/python3.9/site-packages (from flask>=1.1.1->visualdl->paddleocr) (2.2.2)\n",
      "Requirement already satisfied: pytz in /home/studio-lab-user/.conda/envs/default/lib/python3.9/site-packages (from Flask-Babel>=1.0.0->visualdl->paddleocr) (2022.1)\n",
      "Requirement already satisfied: Babel>=2.3 in /home/studio-lab-user/.conda/envs/default/lib/python3.9/site-packages (from Flask-Babel>=1.0.0->visualdl->paddleocr) (2.10.3)\n",
      "Requirement already satisfied: pyparsing!=3.0.5,>=2.0.2 in /home/studio-lab-user/.conda/envs/default/lib/python3.9/site-packages (from packaging>=20.0->scikit-image->paddleocr) (2.4.7)\n",
      "Requirement already satisfied: pycryptodome>=3.8.0 in /home/studio-lab-user/.conda/envs/default/lib/python3.9/site-packages (from bce-python-sdk->visualdl->paddleocr) (3.15.0)\n",
      "Requirement already satisfied: future>=0.6.0 in /home/studio-lab-user/.conda/envs/default/lib/python3.9/site-packages (from bce-python-sdk->visualdl->paddleocr) (0.18.2)\n",
      "Requirement already satisfied: kiwisolver>=1.0.1 in /home/studio-lab-user/.conda/envs/default/lib/python3.9/site-packages (from matplotlib->imgaug->paddleocr) (1.3.1)\n",
      "Requirement already satisfied: python-dateutil>=2.7 in /home/studio-lab-user/.conda/envs/default/lib/python3.9/site-packages (from matplotlib->imgaug->paddleocr) (2.8.2)\n",
      "Requirement already satisfied: cycler>=0.10 in /home/studio-lab-user/.conda/envs/default/lib/python3.9/site-packages (from matplotlib->imgaug->paddleocr) (0.10.0)\n",
      "Requirement already satisfied: fonttools>=4.22.0 in /home/studio-lab-user/.conda/envs/default/lib/python3.9/site-packages (from matplotlib->imgaug->paddleocr) (4.33.3)\n",
      "Requirement already satisfied: urllib3<1.27,>=1.21.1 in /home/studio-lab-user/.conda/envs/default/lib/python3.9/site-packages (from requests->premailer->paddleocr) (1.26.6)\n",
      "Requirement already satisfied: certifi>=2017.4.17 in /home/studio-lab-user/.conda/envs/default/lib/python3.9/site-packages (from requests->premailer->paddleocr) (2021.5.30)\n",
      "Requirement already satisfied: idna<4,>=2.5 in /home/studio-lab-user/.conda/envs/default/lib/python3.9/site-packages (from requests->premailer->paddleocr) (2.10)\n",
      "Requirement already satisfied: charset-normalizer~=2.0.0 in /home/studio-lab-user/.conda/envs/default/lib/python3.9/site-packages (from requests->premailer->paddleocr) (2.0.12)\n",
      "Requirement already satisfied: zipp>=0.5 in /home/studio-lab-user/.conda/envs/default/lib/python3.9/site-packages (from importlib-metadata>=3.6.0->flask>=1.1.1->visualdl->paddleocr) (3.7.0)\n",
      "Requirement already satisfied: MarkupSafe>=2.0 in /home/studio-lab-user/.conda/envs/default/lib/python3.9/site-packages (from Jinja2>=3.0->flask>=1.1.1->visualdl->paddleocr) (2.1.1)\n",
      "fatal: destination path 'PaddleOCR' already exists and is not an empty directory.\n",
      "Requirement already satisfied: opencv-python-headless<4.3 in /home/studio-lab-user/.conda/envs/default/lib/python3.9/site-packages (3.4.18.65)\n",
      "Requirement already satisfied: numpy>=1.19.3 in /home/studio-lab-user/.conda/envs/default/lib/python3.9/site-packages (from opencv-python-headless<4.3) (1.23.1)\n"
     ]
    }
   ],
   "source": [
    "# Github repo installation of paddle\n",
    "!python -m pip install paddlepaddle -i https://mirror.baidu.com/pypi/simple\n",
    "# Install paddle OCR\n",
    "!pip install paddleocr\n",
    "# git clone\n",
    "!git clone https://github.com/PaddlePaddle/PaddleOCR.git\n",
    "# cv2\n",
    "!pip install \"opencv-python-headless<4.3\"\n"
   ]
  },
  {
   "cell_type": "code",
   "execution_count": 3,
   "id": "cab0ddd5-f5b3-4b82-b4c2-2e526102dd34",
   "metadata": {
    "tags": []
   },
   "outputs": [
    {
     "name": "stderr",
     "output_type": "stream",
     "text": [
      "/home/studio-lab-user/.conda/envs/default/lib/python3.9/site-packages/paddle/vision/transforms/functional_pil.py:36: DeprecationWarning: NEAREST is deprecated and will be removed in Pillow 10 (2023-07-01). Use Resampling.NEAREST or Dither.NONE instead.\n",
      "  'nearest': Image.NEAREST,\n",
      "/home/studio-lab-user/.conda/envs/default/lib/python3.9/site-packages/paddle/vision/transforms/functional_pil.py:37: DeprecationWarning: BILINEAR is deprecated and will be removed in Pillow 10 (2023-07-01). Use Resampling.BILINEAR instead.\n",
      "  'bilinear': Image.BILINEAR,\n",
      "/home/studio-lab-user/.conda/envs/default/lib/python3.9/site-packages/paddle/vision/transforms/functional_pil.py:38: DeprecationWarning: BICUBIC is deprecated and will be removed in Pillow 10 (2023-07-01). Use Resampling.BICUBIC instead.\n",
      "  'bicubic': Image.BICUBIC,\n",
      "/home/studio-lab-user/.conda/envs/default/lib/python3.9/site-packages/paddle/vision/transforms/functional_pil.py:39: DeprecationWarning: BOX is deprecated and will be removed in Pillow 10 (2023-07-01). Use Resampling.BOX instead.\n",
      "  'box': Image.BOX,\n",
      "/home/studio-lab-user/.conda/envs/default/lib/python3.9/site-packages/paddle/vision/transforms/functional_pil.py:40: DeprecationWarning: LANCZOS is deprecated and will be removed in Pillow 10 (2023-07-01). Use Resampling.LANCZOS instead.\n",
      "  'lanczos': Image.LANCZOS,\n",
      "/home/studio-lab-user/.conda/envs/default/lib/python3.9/site-packages/paddle/vision/transforms/functional_pil.py:41: DeprecationWarning: HAMMING is deprecated and will be removed in Pillow 10 (2023-07-01). Use Resampling.HAMMING instead.\n",
      "  'hamming': Image.HAMMING\n"
     ]
    }
   ],
   "source": [
    "import cv2\n",
    "from paddleocr import PaddleOCR, draw_ocr\n",
    "from matplotlib import pyplot as plt\n",
    "import os"
   ]
  },
  {
   "cell_type": "code",
   "execution_count": 4,
   "id": "6ccc9dfc-7719-4d65-a24a-466faa9ff560",
   "metadata": {
    "tags": []
   },
   "outputs": [
    {
     "name": "stdout",
     "output_type": "stream",
     "text": [
      "[2022/09/06 14:10:50] ppocr DEBUG: Namespace(help='==SUPPRESS==', use_gpu=False, use_xpu=False, ir_optim=True, use_tensorrt=False, min_subgraph_size=15, shape_info_filename=None, precision='fp32', gpu_mem=500, image_dir=None, det_algorithm='DB', det_model_dir='/home/studio-lab-user/.paddleocr/whl/det/en/en_PP-OCRv3_det_infer', det_limit_side_len=960, det_limit_type='max', det_db_thresh=0.3, det_db_box_thresh=0.6, det_db_unclip_ratio=1.5, max_batch_size=10, use_dilation=False, det_db_score_mode='fast', det_east_score_thresh=0.8, det_east_cover_thresh=0.1, det_east_nms_thresh=0.2, det_sast_score_thresh=0.5, det_sast_nms_thresh=0.2, det_sast_polygon=False, det_pse_thresh=0, det_pse_box_thresh=0.85, det_pse_min_area=16, det_pse_box_type='quad', det_pse_scale=1, scales=[8, 16, 32], alpha=1.0, beta=1.0, fourier_degree=5, det_fce_box_type='poly', rec_algorithm='SVTR_LCNet', rec_model_dir='/home/studio-lab-user/.paddleocr/whl/rec/en/en_PP-OCRv3_rec_infer', rec_image_shape='3, 48, 320', rec_batch_num=6, max_text_length=25, rec_char_dict_path='/home/studio-lab-user/.conda/envs/default/lib/python3.9/site-packages/paddleocr/ppocr/utils/en_dict.txt', use_space_char=True, vis_font_path='./doc/fonts/simfang.ttf', drop_score=0.5, e2e_algorithm='PGNet', e2e_model_dir=None, e2e_limit_side_len=768, e2e_limit_type='max', e2e_pgnet_score_thresh=0.5, e2e_char_dict_path='./ppocr/utils/ic15_dict.txt', e2e_pgnet_valid_set='totaltext', e2e_pgnet_mode='fast', use_angle_cls=False, cls_model_dir='/home/studio-lab-user/.paddleocr/whl/cls/ch_ppocr_mobile_v2.0_cls_infer', cls_image_shape='3, 48, 192', label_list=['0', '180'], cls_batch_num=6, cls_thresh=0.9, enable_mkldnn=False, cpu_threads=10, use_pdserving=False, warmup=False, sr_model_dir=None, sr_image_shape='3, 32, 128', sr_batch_num=1, draw_img_save_dir='./inference_results', save_crop_res=False, crop_res_save_dir='./output', use_mp=False, total_process_num=1, process_id=0, benchmark=False, save_log_path='./log_output/', show_log=True, use_onnx=False, output='./output', table_max_len=488, table_algorithm='TableAttn', table_model_dir=None, merge_no_span_structure=True, table_char_dict_path=None, layout_model_dir=None, layout_dict_path=None, layout_score_threshold=0.5, layout_nms_threshold=0.5, kie_algorithm='LayoutXLM', ser_model_dir=None, ser_dict_path='../train_data/XFUND/class_list_xfun.txt', ocr_order_method=None, mode='structure', image_orientation=False, layout=True, table=True, ocr=True, recovery=False, save_pdf=False, lang='en', det=True, rec=True, type='ocr', ocr_version='PP-OCRv3', structure_version='PP-Structurev2')\n"
     ]
    },
    {
     "name": "stderr",
     "output_type": "stream",
     "text": [
      "\u001b[37m---    Fused 0 subgraphs into layer_norm op.\u001b[0m\n",
      "\u001b[37m---    Fused 0 subgraphs into layer_norm op.\u001b[0m\n"
     ]
    }
   ],
   "source": [
    "ocr_model = PaddleOCR(lang='en')\n",
    "\n",
    "def extract_text(image_path):\n",
    "    result = ocr_model.ocr(image_path)\n",
    "    \n",
    "    return [res[1][0] for res in result]"
   ]
  },
  {
   "cell_type": "code",
   "execution_count": 5,
   "id": "41e9aa4d-9a7c-43a8-90b1-03526a27f11c",
   "metadata": {
    "tags": []
   },
   "outputs": [
    {
     "data": {
      "text/html": [
       "<div>\n",
       "<style scoped>\n",
       "    .dataframe tbody tr th:only-of-type {\n",
       "        vertical-align: middle;\n",
       "    }\n",
       "\n",
       "    .dataframe tbody tr th {\n",
       "        vertical-align: top;\n",
       "    }\n",
       "\n",
       "    .dataframe thead th {\n",
       "        text-align: right;\n",
       "    }\n",
       "</style>\n",
       "<table border=\"1\" class=\"dataframe\">\n",
       "  <thead>\n",
       "    <tr style=\"text-align: right;\">\n",
       "      <th></th>\n",
       "      <th>Unnamed: 0</th>\n",
       "      <th>id</th>\n",
       "      <th>description</th>\n",
       "      <th>image</th>\n",
       "      <th>images</th>\n",
       "      <th>relevant</th>\n",
       "      <th>processed_description</th>\n",
       "      <th>text_score</th>\n",
       "    </tr>\n",
       "  </thead>\n",
       "  <tbody>\n",
       "    <tr>\n",
       "      <th>0</th>\n",
       "      <td>0</td>\n",
       "      <td>918707</td>\n",
       "      <td>Boys Among Us Hoodies Super Cool Print Clothes...</td>\n",
       "      <td>968bf5e6c99211c2ad8ac27fa55e4651b941d137</td>\n",
       "      <td>['968bf5e6c99211c2ad8ac27fa55e4651b941d137']</td>\n",
       "      <td>1</td>\n",
       "      <td>boys among us hoodies super cool print clothes...</td>\n",
       "      <td>0.192416</td>\n",
       "    </tr>\n",
       "    <tr>\n",
       "      <th>1</th>\n",
       "      <td>1</td>\n",
       "      <td>918708</td>\n",
       "      <td>Cat And Dog Cardboard Printing Jigsaw Puzzle M...</td>\n",
       "      <td>68ece3fab138feb537eee296f3348f3543e23a1d</td>\n",
       "      <td>['68ece3fab138feb537eee296f3348f3543e23a1d', '...</td>\n",
       "      <td>0</td>\n",
       "      <td>cat dog cardboard printing jigsaw puzzle manuf...</td>\n",
       "      <td>0.030835</td>\n",
       "    </tr>\n",
       "    <tr>\n",
       "      <th>2</th>\n",
       "      <td>2</td>\n",
       "      <td>918709</td>\n",
       "      <td>0098 30 Pcs 21pack Sensory 4 Piece Puzzle Fidg...</td>\n",
       "      <td>a31d8c30452d17221b0d8d4f9ccf50bf8dfff0cf</td>\n",
       "      <td>['a31d8c30452d17221b0d8d4f9ccf50bf8dfff0cf', '...</td>\n",
       "      <td>0</td>\n",
       "      <td>0098 30 pcs 21pack sensory 4 piece puzzle fidg...</td>\n",
       "      <td>0.001173</td>\n",
       "    </tr>\n",
       "    <tr>\n",
       "      <th>3</th>\n",
       "      <td>3</td>\n",
       "      <td>918710</td>\n",
       "      <td>Boys Sweatshirt Among us 3D Hoodies Cool Fashi...</td>\n",
       "      <td>a278812a832f24a822e2602b91a7b1f5749926cb</td>\n",
       "      <td>['a278812a832f24a822e2602b91a7b1f5749926cb']</td>\n",
       "      <td>1</td>\n",
       "      <td>boys sweatshirt among us 3d hoodies cool fashi...</td>\n",
       "      <td>0.275841</td>\n",
       "    </tr>\n",
       "    <tr>\n",
       "      <th>4</th>\n",
       "      <td>4</td>\n",
       "      <td>918711</td>\n",
       "      <td>20cm Among Us Soft Plush Toys Vocal Butt Toy S...</td>\n",
       "      <td>3f7fc0f877323f4b74cb9a4c3847d3eea6f3ae5a</td>\n",
       "      <td>['3f7fc0f877323f4b74cb9a4c3847d3eea6f3ae5a']</td>\n",
       "      <td>0</td>\n",
       "      <td>20cm among us soft plush toys vocal butt toy s...</td>\n",
       "      <td>0.000861</td>\n",
       "    </tr>\n",
       "  </tbody>\n",
       "</table>\n",
       "</div>"
      ],
      "text/plain": [
       "   Unnamed: 0      id                                        description  \\\n",
       "0           0  918707  Boys Among Us Hoodies Super Cool Print Clothes...   \n",
       "1           1  918708  Cat And Dog Cardboard Printing Jigsaw Puzzle M...   \n",
       "2           2  918709  0098 30 Pcs 21pack Sensory 4 Piece Puzzle Fidg...   \n",
       "3           3  918710  Boys Sweatshirt Among us 3D Hoodies Cool Fashi...   \n",
       "4           4  918711  20cm Among Us Soft Plush Toys Vocal Butt Toy S...   \n",
       "\n",
       "                                      image  \\\n",
       "0  968bf5e6c99211c2ad8ac27fa55e4651b941d137   \n",
       "1  68ece3fab138feb537eee296f3348f3543e23a1d   \n",
       "2  a31d8c30452d17221b0d8d4f9ccf50bf8dfff0cf   \n",
       "3  a278812a832f24a822e2602b91a7b1f5749926cb   \n",
       "4  3f7fc0f877323f4b74cb9a4c3847d3eea6f3ae5a   \n",
       "\n",
       "                                              images  relevant  \\\n",
       "0       ['968bf5e6c99211c2ad8ac27fa55e4651b941d137']         1   \n",
       "1  ['68ece3fab138feb537eee296f3348f3543e23a1d', '...         0   \n",
       "2  ['a31d8c30452d17221b0d8d4f9ccf50bf8dfff0cf', '...         0   \n",
       "3       ['a278812a832f24a822e2602b91a7b1f5749926cb']         1   \n",
       "4       ['3f7fc0f877323f4b74cb9a4c3847d3eea6f3ae5a']         0   \n",
       "\n",
       "                               processed_description  text_score  \n",
       "0  boys among us hoodies super cool print clothes...    0.192416  \n",
       "1  cat dog cardboard printing jigsaw puzzle manuf...    0.030835  \n",
       "2  0098 30 pcs 21pack sensory 4 piece puzzle fidg...    0.001173  \n",
       "3  boys sweatshirt among us 3d hoodies cool fashi...    0.275841  \n",
       "4  20cm among us soft plush toys vocal butt toy s...    0.000861  "
      ]
     },
     "execution_count": 5,
     "metadata": {},
     "output_type": "execute_result"
    }
   ],
   "source": [
    "# To pull in previusly save data\n",
    "import pandas as pd\n",
    "data = pd.read_csv(\"image_relevant.csv\", encoding='latin')\n",
    "data.head()"
   ]
  },
  {
   "cell_type": "code",
   "execution_count": 6,
   "id": "0fffcc50-f0be-40c4-8a95-9b0db8269523",
   "metadata": {},
   "outputs": [
    {
     "name": "stdout",
     "output_type": "stream",
     "text": [
      "/home/studio-lab-user/DS-Projects/OCR\n"
     ]
    }
   ],
   "source": [
    "%cd /home/studio-lab-user/DS-Projects/OCR"
   ]
  },
  {
   "cell_type": "code",
   "execution_count": 7,
   "id": "410a7585-28f6-40e4-bdfb-63b58580ddd4",
   "metadata": {},
   "outputs": [],
   "source": [
    "image_df = data[['image','relevant']]"
   ]
  },
  {
   "cell_type": "code",
   "execution_count": 8,
   "id": "4ad8a5a5-3cdd-45aa-bfa7-21e65d4f8966",
   "metadata": {
    "tags": []
   },
   "outputs": [
    {
     "data": {
      "text/html": [
       "<div>\n",
       "<style scoped>\n",
       "    .dataframe tbody tr th:only-of-type {\n",
       "        vertical-align: middle;\n",
       "    }\n",
       "\n",
       "    .dataframe tbody tr th {\n",
       "        vertical-align: top;\n",
       "    }\n",
       "\n",
       "    .dataframe thead th {\n",
       "        text-align: right;\n",
       "    }\n",
       "</style>\n",
       "<table border=\"1\" class=\"dataframe\">\n",
       "  <thead>\n",
       "    <tr style=\"text-align: right;\">\n",
       "      <th></th>\n",
       "      <th>image</th>\n",
       "      <th>relevant</th>\n",
       "    </tr>\n",
       "  </thead>\n",
       "  <tbody>\n",
       "    <tr>\n",
       "      <th>0</th>\n",
       "      <td>968bf5e6c99211c2ad8ac27fa55e4651b941d137</td>\n",
       "      <td>1</td>\n",
       "    </tr>\n",
       "    <tr>\n",
       "      <th>1</th>\n",
       "      <td>68ece3fab138feb537eee296f3348f3543e23a1d</td>\n",
       "      <td>0</td>\n",
       "    </tr>\n",
       "    <tr>\n",
       "      <th>2</th>\n",
       "      <td>a31d8c30452d17221b0d8d4f9ccf50bf8dfff0cf</td>\n",
       "      <td>0</td>\n",
       "    </tr>\n",
       "    <tr>\n",
       "      <th>3</th>\n",
       "      <td>a278812a832f24a822e2602b91a7b1f5749926cb</td>\n",
       "      <td>1</td>\n",
       "    </tr>\n",
       "    <tr>\n",
       "      <th>4</th>\n",
       "      <td>3f7fc0f877323f4b74cb9a4c3847d3eea6f3ae5a</td>\n",
       "      <td>0</td>\n",
       "    </tr>\n",
       "    <tr>\n",
       "      <th>...</th>\n",
       "      <td>...</td>\n",
       "      <td>...</td>\n",
       "    </tr>\n",
       "    <tr>\n",
       "      <th>464</th>\n",
       "      <td>43a18980d983e7835ce8a9f50ae8953390197f73</td>\n",
       "      <td>0</td>\n",
       "    </tr>\n",
       "    <tr>\n",
       "      <th>465</th>\n",
       "      <td>a2db2c697881750d70feaa1a90d4f271338b9337</td>\n",
       "      <td>0</td>\n",
       "    </tr>\n",
       "    <tr>\n",
       "      <th>466</th>\n",
       "      <td>077d6694396e202064fb5b01b42837d2949e4ce7</td>\n",
       "      <td>0</td>\n",
       "    </tr>\n",
       "    <tr>\n",
       "      <th>467</th>\n",
       "      <td>a8057438d83d4fc141347237c23e2d3fc714d43f</td>\n",
       "      <td>0</td>\n",
       "    </tr>\n",
       "    <tr>\n",
       "      <th>468</th>\n",
       "      <td>af6b53e008d28fdfae13e1858e71b25b040a8039</td>\n",
       "      <td>0</td>\n",
       "    </tr>\n",
       "  </tbody>\n",
       "</table>\n",
       "<p>469 rows × 2 columns</p>\n",
       "</div>"
      ],
      "text/plain": [
       "                                        image  relevant\n",
       "0    968bf5e6c99211c2ad8ac27fa55e4651b941d137         1\n",
       "1    68ece3fab138feb537eee296f3348f3543e23a1d         0\n",
       "2    a31d8c30452d17221b0d8d4f9ccf50bf8dfff0cf         0\n",
       "3    a278812a832f24a822e2602b91a7b1f5749926cb         1\n",
       "4    3f7fc0f877323f4b74cb9a4c3847d3eea6f3ae5a         0\n",
       "..                                        ...       ...\n",
       "464  43a18980d983e7835ce8a9f50ae8953390197f73         0\n",
       "465  a2db2c697881750d70feaa1a90d4f271338b9337         0\n",
       "466  077d6694396e202064fb5b01b42837d2949e4ce7         0\n",
       "467  a8057438d83d4fc141347237c23e2d3fc714d43f         0\n",
       "468  af6b53e008d28fdfae13e1858e71b25b040a8039         0\n",
       "\n",
       "[469 rows x 2 columns]"
      ]
     },
     "execution_count": 8,
     "metadata": {},
     "output_type": "execute_result"
    }
   ],
   "source": [
    "image_df = image_df\n",
    "image_df"
   ]
  },
  {
   "cell_type": "code",
   "execution_count": 9,
   "id": "7a3fd1e4-6447-4fe4-9cd2-e944b4db2d60",
   "metadata": {},
   "outputs": [],
   "source": [
    "# # OCR_images에 있는 리스트들로 컬럼 하나 만들기. 리스트 이름 따기.\n",
    "# import pandas as pd\n",
    "# import os\n",
    "# image_df = pd.DataFrame(os.listdir(), columns=['image'])"
   ]
  },
  {
   "cell_type": "code",
   "execution_count": 10,
   "id": "9ba70109-5697-4a80-ab2e-d0ed82476223",
   "metadata": {},
   "outputs": [],
   "source": [
    "# image_dff\n",
    "# image_dff.drop(index=0, inplace=True)"
   ]
  },
  {
   "cell_type": "code",
   "execution_count": 11,
   "id": "c28bbd06-15ca-44ab-a069-e0f85fcb133c",
   "metadata": {
    "tags": []
   },
   "outputs": [],
   "source": [
    "# image_list = image_dff['image'].tolist()\n",
    "# len(image_list)"
   ]
  },
  {
   "cell_type": "code",
   "execution_count": 12,
   "id": "71841490-20e7-4927-910d-ab12282b2e20",
   "metadata": {
    "tags": []
   },
   "outputs": [],
   "source": [
    "# text_list = []\n",
    "# for image_path in image_list:\n",
    "#     result = ocr_model.ocr(image_path)\n",
    "#     text = [res[1][0] for res in result]\n",
    "#     text_list.append(text)\n",
    "# print(text_list)"
   ]
  },
  {
   "cell_type": "code",
   "execution_count": 8,
   "id": "00bcaac9-2a69-4b05-acc1-fb3742577036",
   "metadata": {},
   "outputs": [],
   "source": [
    "image_path = f\"/home/studio-lab-user/DS-Projects/OCR/SWOOP_OCR_images/000e7696e9936c1f2d2e2214cdfbdb54b8878374.jpg\"\n"
   ]
  },
  {
   "cell_type": "code",
   "execution_count": 9,
   "id": "193613f7-15e8-4b08-9beb-b974fbc6902d",
   "metadata": {},
   "outputs": [
    {
     "name": "stdout",
     "output_type": "stream",
     "text": [
      "[2022/09/05 13:32:10] ppocr WARNING: Since the angle classifier is not initialized, the angle classifier will not be uesd during the forward process\n",
      "[2022/09/05 13:32:11] ppocr DEBUG: dt_boxes num : 3, elapse : 1.0296854972839355\n",
      "[2022/09/05 13:32:12] ppocr DEBUG: rec_res num  : 3, elapse : 0.267653226852417\n"
     ]
    },
    {
     "data": {
      "text/plain": [
       "['VWoud n2', 'AMONG US', 'IMPOSTOR']"
      ]
     },
     "execution_count": 9,
     "metadata": {},
     "output_type": "execute_result"
    }
   ],
   "source": [
    "image_path = f\"/home/studio-lab-user/DS-Projects/OCR/SWOOP_OCR_images/000e7696e9936c1f2d2e2214cdfbdb54b8878374.jpg\"\n",
    "result = ocr_model.ocr(image_path)\n",
    "texts = [res[1][0] for res in result]\n",
    "texts"
   ]
  },
  {
   "cell_type": "code",
   "execution_count": 10,
   "id": "ac00b48e-3c12-42ee-ad57-6718cb42bfef",
   "metadata": {},
   "outputs": [
    {
     "data": {
      "text/plain": [
       "[[[[125.0, 353.0], [181.0, 360.0], [148.0, 608.0], [92.0, 601.0]],\n",
       "  ('VWoud n2', 0.818354606628418)],\n",
       " [[[617.0, 361.0], [672.0, 354.0], [706.0, 601.0], [651.0, 608.0]],\n",
       "  ('AMONG US', 0.9929673671722412)],\n",
       " [[[275.0, 458.0], [512.0, 458.0], [512.0, 492.0], [275.0, 492.0]],\n",
       "  ('IMPOSTOR', 0.9865270853042603)]]"
      ]
     },
     "execution_count": 10,
     "metadata": {},
     "output_type": "execute_result"
    }
   ],
   "source": [
    "result"
   ]
  },
  {
   "cell_type": "code",
   "execution_count": 408,
   "id": "575d0c28-dd7a-4fb7-84fe-b277add9794c",
   "metadata": {},
   "outputs": [
    {
     "data": {
      "text/plain": [
       "['VWoud', 'n2', 'AMONG', 'US', 'IMPOSTOR']"
      ]
     },
     "execution_count": 408,
     "metadata": {},
     "output_type": "execute_result"
    }
   ],
   "source": [
    "# final = []\n",
    "# for word in texts:\n",
    "#     final.extend(word.split())\n",
    "# final"
   ]
  },
  {
   "cell_type": "code",
   "execution_count": 13,
   "id": "784eeb67-f0be-486e-be84-3b90aacc9f5e",
   "metadata": {},
   "outputs": [],
   "source": [
    "def get_words_and_scores_and_add_to_dataframe(row):\n",
    "    photo = row[\"image\"]\n",
    "    if photo == \"empty\":\n",
    "        return [[],[]]\n",
    "    final = []\n",
    "    image_path = f\"/home/studio-lab-user/DS-Projects/OCR/SWOOP_OCR_images/{photo}.jpg\"\n",
    "    result = ocr_model.ocr(image_path)\n",
    "    texts = [res[1][0] for res in result]\n",
    "    # for word in texts:\n",
    "    #     final.extend(word.split())\n",
    "    scores = [res[1][1] *100 for res in result]\n",
    "    result = [texts, scores]\n",
    "    return result"
   ]
  },
  {
   "cell_type": "code",
   "execution_count": 14,
   "id": "d1bdf2d2-231d-423a-81ef-51816a21c91d",
   "metadata": {
    "tags": []
   },
   "outputs": [],
   "source": [
    "# image_dff_100 = image_dff[100:150]"
   ]
  },
  {
   "cell_type": "code",
   "execution_count": 15,
   "id": "f0898b79-6b0c-473e-8aff-79dfb3888fc5",
   "metadata": {
    "collapsed": true,
    "jupyter": {
     "outputs_hidden": true
    },
    "tags": []
   },
   "outputs": [
    {
     "name": "stdout",
     "output_type": "stream",
     "text": [
      "[2022/09/06 14:10:50] ppocr WARNING: Since the angle classifier is not initialized, the angle classifier will not be uesd during the forward process\n",
      "[2022/09/06 14:10:51] ppocr DEBUG: dt_boxes num : 2, elapse : 0.7083141803741455\n",
      "[2022/09/06 14:10:51] ppocr DEBUG: rec_res num  : 2, elapse : 0.1545708179473877\n",
      "[2022/09/06 14:10:51] ppocr WARNING: Since the angle classifier is not initialized, the angle classifier will not be uesd during the forward process\n",
      "[2022/09/06 14:10:52] ppocr DEBUG: dt_boxes num : 1, elapse : 0.8279731273651123\n",
      "[2022/09/06 14:10:52] ppocr DEBUG: rec_res num  : 1, elapse : 0.10609889030456543\n",
      "[2022/09/06 14:10:52] ppocr WARNING: Since the angle classifier is not initialized, the angle classifier will not be uesd during the forward process\n",
      "[2022/09/06 14:10:52] ppocr DEBUG: dt_boxes num : 0, elapse : 0.07217240333557129\n",
      "[2022/09/06 14:10:52] ppocr DEBUG: rec_res num  : 0, elapse : 1.1920928955078125e-06\n",
      "[2022/09/06 14:10:52] ppocr WARNING: Since the angle classifier is not initialized, the angle classifier will not be uesd during the forward process\n",
      "[2022/09/06 14:10:53] ppocr DEBUG: dt_boxes num : 1, elapse : 0.5191707611083984\n",
      "[2022/09/06 14:10:53] ppocr DEBUG: rec_res num  : 1, elapse : 0.07270050048828125\n",
      "[2022/09/06 14:10:53] ppocr WARNING: Since the angle classifier is not initialized, the angle classifier will not be uesd during the forward process\n",
      "[2022/09/06 14:10:54] ppocr DEBUG: dt_boxes num : 2, elapse : 0.7448616027832031\n",
      "[2022/09/06 14:10:54] ppocr DEBUG: rec_res num  : 2, elapse : 0.21866965293884277\n",
      "[2022/09/06 14:10:54] ppocr WARNING: Since the angle classifier is not initialized, the angle classifier will not be uesd during the forward process\n",
      "[2022/09/06 14:10:54] ppocr DEBUG: dt_boxes num : 0, elapse : 0.5739598274230957\n",
      "[2022/09/06 14:10:54] ppocr DEBUG: rec_res num  : 0, elapse : 9.5367431640625e-07\n",
      "[2022/09/06 14:10:54] ppocr WARNING: Since the angle classifier is not initialized, the angle classifier will not be uesd during the forward process\n",
      "[2022/09/06 14:10:55] ppocr DEBUG: dt_boxes num : 10, elapse : 0.7463982105255127\n",
      "[2022/09/06 14:10:56] ppocr DEBUG: rec_res num  : 10, elapse : 0.6872673034667969\n",
      "[2022/09/06 14:10:56] ppocr WARNING: Since the angle classifier is not initialized, the angle classifier will not be uesd during the forward process\n",
      "[2022/09/06 14:10:57] ppocr DEBUG: dt_boxes num : 2, elapse : 0.6924431324005127\n",
      "[2022/09/06 14:10:57] ppocr DEBUG: rec_res num  : 2, elapse : 0.13484740257263184\n",
      "[2022/09/06 14:10:57] ppocr WARNING: Since the angle classifier is not initialized, the angle classifier will not be uesd during the forward process\n",
      "[2022/09/06 14:10:58] ppocr DEBUG: dt_boxes num : 0, elapse : 0.748197078704834\n",
      "[2022/09/06 14:10:58] ppocr DEBUG: rec_res num  : 0, elapse : 1.6689300537109375e-06\n",
      "[2022/09/06 14:10:58] ppocr WARNING: Since the angle classifier is not initialized, the angle classifier will not be uesd during the forward process\n",
      "[2022/09/06 14:10:58] ppocr DEBUG: dt_boxes num : 0, elapse : 0.5154802799224854\n",
      "[2022/09/06 14:10:58] ppocr DEBUG: rec_res num  : 0, elapse : 1.1920928955078125e-06\n",
      "[2022/09/06 14:10:58] ppocr WARNING: Since the angle classifier is not initialized, the angle classifier will not be uesd during the forward process\n",
      "[2022/09/06 14:10:59] ppocr DEBUG: dt_boxes num : 0, elapse : 0.5619847774505615\n",
      "[2022/09/06 14:10:59] ppocr DEBUG: rec_res num  : 0, elapse : 1.6689300537109375e-06\n",
      "[2022/09/06 14:10:59] ppocr WARNING: Since the angle classifier is not initialized, the angle classifier will not be uesd during the forward process\n",
      "[2022/09/06 14:10:59] ppocr DEBUG: dt_boxes num : 1, elapse : 0.5189580917358398\n",
      "[2022/09/06 14:10:59] ppocr DEBUG: rec_res num  : 1, elapse : 0.0691990852355957\n",
      "[2022/09/06 14:10:59] ppocr WARNING: Since the angle classifier is not initialized, the angle classifier will not be uesd during the forward process\n",
      "[2022/09/06 14:11:00] ppocr DEBUG: dt_boxes num : 0, elapse : 0.5224413871765137\n",
      "[2022/09/06 14:11:00] ppocr DEBUG: rec_res num  : 0, elapse : 1.6689300537109375e-06\n",
      "[2022/09/06 14:11:00] ppocr WARNING: Since the angle classifier is not initialized, the angle classifier will not be uesd during the forward process\n",
      "[2022/09/06 14:11:00] ppocr DEBUG: dt_boxes num : 3, elapse : 0.5816113948822021\n",
      "[2022/09/06 14:11:01] ppocr DEBUG: rec_res num  : 3, elapse : 0.2031266689300537\n",
      "[2022/09/06 14:11:01] ppocr WARNING: Since the angle classifier is not initialized, the angle classifier will not be uesd during the forward process\n",
      "[2022/09/06 14:11:01] ppocr DEBUG: dt_boxes num : 0, elapse : 0.4411005973815918\n",
      "[2022/09/06 14:11:01] ppocr DEBUG: rec_res num  : 0, elapse : 1.430511474609375e-06\n",
      "[2022/09/06 14:11:01] ppocr WARNING: Since the angle classifier is not initialized, the angle classifier will not be uesd during the forward process\n",
      "[2022/09/06 14:11:02] ppocr DEBUG: dt_boxes num : 0, elapse : 0.5165901184082031\n",
      "[2022/09/06 14:11:02] ppocr DEBUG: rec_res num  : 0, elapse : 1.1920928955078125e-06\n",
      "[2022/09/06 14:11:02] ppocr WARNING: Since the angle classifier is not initialized, the angle classifier will not be uesd during the forward process\n",
      "[2022/09/06 14:11:02] ppocr DEBUG: dt_boxes num : 7, elapse : 0.7471694946289062\n",
      "[2022/09/06 14:11:03] ppocr DEBUG: rec_res num  : 7, elapse : 0.4799327850341797\n",
      "[2022/09/06 14:11:03] ppocr WARNING: Since the angle classifier is not initialized, the angle classifier will not be uesd during the forward process\n",
      "[2022/09/06 14:11:03] ppocr DEBUG: dt_boxes num : 0, elapse : 0.5141112804412842\n",
      "[2022/09/06 14:11:03] ppocr DEBUG: rec_res num  : 0, elapse : 1.9073486328125e-06\n",
      "[2022/09/06 14:11:03] ppocr WARNING: Since the angle classifier is not initialized, the angle classifier will not be uesd during the forward process\n",
      "[2022/09/06 14:11:04] ppocr DEBUG: dt_boxes num : 2, elapse : 0.5105044841766357\n",
      "[2022/09/06 14:11:04] ppocr DEBUG: rec_res num  : 2, elapse : 0.1463475227355957\n",
      "[2022/09/06 14:11:04] ppocr WARNING: Since the angle classifier is not initialized, the angle classifier will not be uesd during the forward process\n",
      "[2022/09/06 14:11:05] ppocr DEBUG: dt_boxes num : 0, elapse : 0.7355833053588867\n",
      "[2022/09/06 14:11:05] ppocr DEBUG: rec_res num  : 0, elapse : 1.430511474609375e-06\n",
      "[2022/09/06 14:11:05] ppocr WARNING: Since the angle classifier is not initialized, the angle classifier will not be uesd during the forward process\n",
      "[2022/09/06 14:11:06] ppocr DEBUG: dt_boxes num : 0, elapse : 0.7941148281097412\n",
      "[2022/09/06 14:11:06] ppocr DEBUG: rec_res num  : 0, elapse : 9.5367431640625e-07\n",
      "[2022/09/06 14:11:06] ppocr WARNING: Since the angle classifier is not initialized, the angle classifier will not be uesd during the forward process\n",
      "[2022/09/06 14:11:06] ppocr DEBUG: dt_boxes num : 9, elapse : 0.6858816146850586\n",
      "[2022/09/06 14:11:07] ppocr DEBUG: rec_res num  : 9, elapse : 0.6161696910858154\n",
      "[2022/09/06 14:11:07] ppocr WARNING: Since the angle classifier is not initialized, the angle classifier will not be uesd during the forward process\n",
      "[2022/09/06 14:11:08] ppocr DEBUG: dt_boxes num : 15, elapse : 0.7539880275726318\n",
      "[2022/09/06 14:11:09] ppocr DEBUG: rec_res num  : 15, elapse : 1.0333971977233887\n",
      "[2022/09/06 14:11:09] ppocr WARNING: Since the angle classifier is not initialized, the angle classifier will not be uesd during the forward process\n",
      "[2022/09/06 14:11:10] ppocr DEBUG: dt_boxes num : 17, elapse : 0.5417888164520264\n",
      "[2022/09/06 14:11:11] ppocr DEBUG: rec_res num  : 17, elapse : 1.1526002883911133\n",
      "[2022/09/06 14:11:11] ppocr WARNING: Since the angle classifier is not initialized, the angle classifier will not be uesd during the forward process\n",
      "[2022/09/06 14:11:11] ppocr DEBUG: dt_boxes num : 3, elapse : 0.5694458484649658\n",
      "[2022/09/06 14:11:11] ppocr DEBUG: rec_res num  : 3, elapse : 0.23508834838867188\n",
      "[2022/09/06 14:11:11] ppocr WARNING: Since the angle classifier is not initialized, the angle classifier will not be uesd during the forward process\n",
      "[2022/09/06 14:11:12] ppocr DEBUG: dt_boxes num : 0, elapse : 0.7479188442230225\n",
      "[2022/09/06 14:11:12] ppocr DEBUG: rec_res num  : 0, elapse : 1.1920928955078125e-06\n",
      "[2022/09/06 14:11:12] ppocr WARNING: Since the angle classifier is not initialized, the angle classifier will not be uesd during the forward process\n",
      "[2022/09/06 14:11:13] ppocr DEBUG: dt_boxes num : 4, elapse : 0.5180504322052002\n",
      "[2022/09/06 14:11:13] ppocr DEBUG: rec_res num  : 4, elapse : 0.276613712310791\n",
      "[2022/09/06 14:11:13] ppocr WARNING: Since the angle classifier is not initialized, the angle classifier will not be uesd during the forward process\n",
      "[2022/09/06 14:11:14] ppocr DEBUG: dt_boxes num : 0, elapse : 0.4428822994232178\n",
      "[2022/09/06 14:11:14] ppocr DEBUG: rec_res num  : 0, elapse : 1.9073486328125e-06\n",
      "[2022/09/06 14:11:14] ppocr WARNING: Since the angle classifier is not initialized, the angle classifier will not be uesd during the forward process\n",
      "[2022/09/06 14:11:14] ppocr DEBUG: dt_boxes num : 3, elapse : 0.7375030517578125\n",
      "[2022/09/06 14:11:14] ppocr DEBUG: rec_res num  : 3, elapse : 0.20728397369384766\n",
      "[2022/09/06 14:11:14] ppocr WARNING: Since the angle classifier is not initialized, the angle classifier will not be uesd during the forward process\n",
      "[2022/09/06 14:11:15] ppocr DEBUG: dt_boxes num : 2, elapse : 0.5898728370666504\n",
      "[2022/09/06 14:11:15] ppocr DEBUG: rec_res num  : 2, elapse : 0.18584084510803223\n",
      "[2022/09/06 14:11:15] ppocr WARNING: Since the angle classifier is not initialized, the angle classifier will not be uesd during the forward process\n",
      "[2022/09/06 14:11:16] ppocr DEBUG: dt_boxes num : 0, elapse : 0.5180156230926514\n",
      "[2022/09/06 14:11:16] ppocr DEBUG: rec_res num  : 0, elapse : 1.6689300537109375e-06\n",
      "[2022/09/06 14:11:16] ppocr WARNING: Since the angle classifier is not initialized, the angle classifier will not be uesd during the forward process\n",
      "[2022/09/06 14:11:16] ppocr DEBUG: dt_boxes num : 1, elapse : 0.5158262252807617\n",
      "[2022/09/06 14:11:16] ppocr DEBUG: rec_res num  : 1, elapse : 0.0825660228729248\n",
      "[2022/09/06 14:11:16] ppocr WARNING: Since the angle classifier is not initialized, the angle classifier will not be uesd during the forward process\n",
      "[2022/09/06 14:11:17] ppocr DEBUG: dt_boxes num : 0, elapse : 0.7860355377197266\n",
      "[2022/09/06 14:11:17] ppocr DEBUG: rec_res num  : 0, elapse : 1.9073486328125e-06\n",
      "[2022/09/06 14:11:17] ppocr WARNING: Since the angle classifier is not initialized, the angle classifier will not be uesd during the forward process\n",
      "[2022/09/06 14:11:18] ppocr DEBUG: dt_boxes num : 0, elapse : 0.5207540988922119\n",
      "[2022/09/06 14:11:18] ppocr DEBUG: rec_res num  : 0, elapse : 1.6689300537109375e-06\n",
      "[2022/09/06 14:11:18] ppocr WARNING: Since the angle classifier is not initialized, the angle classifier will not be uesd during the forward process\n",
      "[2022/09/06 14:11:18] ppocr DEBUG: dt_boxes num : 3, elapse : 0.511927604675293\n",
      "[2022/09/06 14:11:19] ppocr DEBUG: rec_res num  : 3, elapse : 0.20142507553100586\n",
      "[2022/09/06 14:11:19] ppocr WARNING: Since the angle classifier is not initialized, the angle classifier will not be uesd during the forward process\n",
      "[2022/09/06 14:11:19] ppocr DEBUG: dt_boxes num : 1, elapse : 0.7342915534973145\n",
      "[2022/09/06 14:11:19] ppocr DEBUG: rec_res num  : 1, elapse : 0.08329391479492188\n",
      "[2022/09/06 14:11:19] ppocr WARNING: Since the angle classifier is not initialized, the angle classifier will not be uesd during the forward process\n",
      "[2022/09/06 14:11:20] ppocr DEBUG: dt_boxes num : 2, elapse : 0.5161232948303223\n",
      "[2022/09/06 14:11:20] ppocr DEBUG: rec_res num  : 2, elapse : 0.13405489921569824\n",
      "[2022/09/06 14:11:20] ppocr WARNING: Since the angle classifier is not initialized, the angle classifier will not be uesd during the forward process\n",
      "[2022/09/06 14:11:21] ppocr DEBUG: dt_boxes num : 3, elapse : 0.5136396884918213\n",
      "[2022/09/06 14:11:21] ppocr DEBUG: rec_res num  : 3, elapse : 0.38526296615600586\n",
      "[2022/09/06 14:11:21] ppocr WARNING: Since the angle classifier is not initialized, the angle classifier will not be uesd during the forward process\n",
      "[2022/09/06 14:11:22] ppocr DEBUG: dt_boxes num : 6, elapse : 0.7435302734375\n",
      "[2022/09/06 14:11:22] ppocr DEBUG: rec_res num  : 6, elapse : 0.4250373840332031\n",
      "[2022/09/06 14:11:22] ppocr WARNING: Since the angle classifier is not initialized, the angle classifier will not be uesd during the forward process\n",
      "[2022/09/06 14:11:23] ppocr DEBUG: dt_boxes num : 0, elapse : 0.7291464805603027\n",
      "[2022/09/06 14:11:23] ppocr DEBUG: rec_res num  : 0, elapse : 1.1920928955078125e-06\n",
      "[2022/09/06 14:11:23] ppocr WARNING: Since the angle classifier is not initialized, the angle classifier will not be uesd during the forward process\n",
      "[2022/09/06 14:11:23] ppocr DEBUG: dt_boxes num : 0, elapse : 0.4983696937561035\n",
      "[2022/09/06 14:11:23] ppocr DEBUG: rec_res num  : 0, elapse : 1.430511474609375e-06\n",
      "[2022/09/06 14:11:23] ppocr WARNING: Since the angle classifier is not initialized, the angle classifier will not be uesd during the forward process\n",
      "[2022/09/06 14:11:24] ppocr DEBUG: dt_boxes num : 0, elapse : 0.7084910869598389\n",
      "[2022/09/06 14:11:24] ppocr DEBUG: rec_res num  : 0, elapse : 1.1920928955078125e-06\n",
      "[2022/09/06 14:11:24] ppocr WARNING: Since the angle classifier is not initialized, the angle classifier will not be uesd during the forward process\n",
      "[2022/09/06 14:11:25] ppocr DEBUG: dt_boxes num : 2, elapse : 0.7066812515258789\n",
      "[2022/09/06 14:11:25] ppocr DEBUG: rec_res num  : 2, elapse : 0.1650540828704834\n",
      "[2022/09/06 14:11:25] ppocr WARNING: Since the angle classifier is not initialized, the angle classifier will not be uesd during the forward process\n",
      "[2022/09/06 14:11:26] ppocr DEBUG: dt_boxes num : 3, elapse : 0.41890406608581543\n",
      "[2022/09/06 14:11:26] ppocr DEBUG: rec_res num  : 3, elapse : 0.2115187644958496\n",
      "[2022/09/06 14:11:26] ppocr WARNING: Since the angle classifier is not initialized, the angle classifier will not be uesd during the forward process\n",
      "[2022/09/06 14:11:26] ppocr DEBUG: dt_boxes num : 2, elapse : 0.49465513229370117\n",
      "[2022/09/06 14:11:26] ppocr DEBUG: rec_res num  : 2, elapse : 0.1404871940612793\n",
      "[2022/09/06 14:11:26] ppocr WARNING: Since the angle classifier is not initialized, the angle classifier will not be uesd during the forward process\n",
      "[2022/09/06 14:11:27] ppocr DEBUG: dt_boxes num : 0, elapse : 0.4941117763519287\n",
      "[2022/09/06 14:11:27] ppocr DEBUG: rec_res num  : 0, elapse : 1.1920928955078125e-06\n",
      "[2022/09/06 14:11:27] ppocr WARNING: Since the angle classifier is not initialized, the angle classifier will not be uesd during the forward process\n",
      "[2022/09/06 14:11:27] ppocr DEBUG: dt_boxes num : 8, elapse : 0.49776458740234375\n",
      "[2022/09/06 14:11:28] ppocr DEBUG: rec_res num  : 8, elapse : 0.5399677753448486\n",
      "[2022/09/06 14:11:28] ppocr WARNING: Since the angle classifier is not initialized, the angle classifier will not be uesd during the forward process\n",
      "[2022/09/06 14:11:28] ppocr DEBUG: dt_boxes num : 3, elapse : 0.47922825813293457\n",
      "[2022/09/06 14:11:29] ppocr DEBUG: rec_res num  : 3, elapse : 0.40828990936279297\n",
      "[2022/09/06 14:11:29] ppocr WARNING: Since the angle classifier is not initialized, the angle classifier will not be uesd during the forward process\n",
      "[2022/09/06 14:11:30] ppocr DEBUG: dt_boxes num : 3, elapse : 0.8026692867279053\n",
      "[2022/09/06 14:11:30] ppocr DEBUG: rec_res num  : 3, elapse : 0.32901978492736816\n",
      "[2022/09/06 14:11:30] ppocr WARNING: Since the angle classifier is not initialized, the angle classifier will not be uesd during the forward process\n",
      "[2022/09/06 14:11:31] ppocr DEBUG: dt_boxes num : 3, elapse : 0.746607780456543\n",
      "[2022/09/06 14:11:31] ppocr DEBUG: rec_res num  : 3, elapse : 0.20303869247436523\n",
      "[2022/09/06 14:11:31] ppocr WARNING: Since the angle classifier is not initialized, the angle classifier will not be uesd during the forward process\n",
      "[2022/09/06 14:11:31] ppocr DEBUG: dt_boxes num : 4, elapse : 0.4262669086456299\n",
      "[2022/09/06 14:11:32] ppocr DEBUG: rec_res num  : 4, elapse : 0.2706727981567383\n",
      "[2022/09/06 14:11:32] ppocr WARNING: Since the angle classifier is not initialized, the angle classifier will not be uesd during the forward process\n",
      "[2022/09/06 14:11:32] ppocr DEBUG: dt_boxes num : 3, elapse : 0.4986727237701416\n",
      "[2022/09/06 14:11:33] ppocr DEBUG: rec_res num  : 3, elapse : 0.28896570205688477\n",
      "[2022/09/06 14:11:33] ppocr WARNING: Since the angle classifier is not initialized, the angle classifier will not be uesd during the forward process\n",
      "[2022/09/06 14:11:33] ppocr DEBUG: dt_boxes num : 0, elapse : 0.5397562980651855\n",
      "[2022/09/06 14:11:33] ppocr DEBUG: rec_res num  : 0, elapse : 1.430511474609375e-06\n",
      "[2022/09/06 14:11:33] ppocr WARNING: Since the angle classifier is not initialized, the angle classifier will not be uesd during the forward process\n",
      "[2022/09/06 14:11:34] ppocr DEBUG: dt_boxes num : 2, elapse : 0.5373499393463135\n",
      "[2022/09/06 14:11:34] ppocr DEBUG: rec_res num  : 2, elapse : 0.1335132122039795\n",
      "[2022/09/06 14:11:34] ppocr WARNING: Since the angle classifier is not initialized, the angle classifier will not be uesd during the forward process\n",
      "[2022/09/06 14:11:34] ppocr DEBUG: dt_boxes num : 5, elapse : 0.5016078948974609\n",
      "[2022/09/06 14:11:35] ppocr DEBUG: rec_res num  : 5, elapse : 0.36989760398864746\n",
      "[2022/09/06 14:11:35] ppocr WARNING: Since the angle classifier is not initialized, the angle classifier will not be uesd during the forward process\n",
      "[2022/09/06 14:11:35] ppocr DEBUG: dt_boxes num : 0, elapse : 0.7307734489440918\n",
      "[2022/09/06 14:11:35] ppocr DEBUG: rec_res num  : 0, elapse : 1.430511474609375e-06\n",
      "[2022/09/06 14:11:35] ppocr WARNING: Since the angle classifier is not initialized, the angle classifier will not be uesd during the forward process\n",
      "[2022/09/06 14:11:36] ppocr DEBUG: dt_boxes num : 5, elapse : 0.5985007286071777\n",
      "[2022/09/06 14:11:36] ppocr DEBUG: rec_res num  : 5, elapse : 0.34639811515808105\n",
      "[2022/09/06 14:11:36] ppocr WARNING: Since the angle classifier is not initialized, the angle classifier will not be uesd during the forward process\n",
      "[2022/09/06 14:11:37] ppocr DEBUG: dt_boxes num : 3, elapse : 0.49829936027526855\n",
      "[2022/09/06 14:11:37] ppocr DEBUG: rec_res num  : 3, elapse : 0.2030792236328125\n",
      "[2022/09/06 14:11:37] ppocr WARNING: Since the angle classifier is not initialized, the angle classifier will not be uesd during the forward process\n",
      "[2022/09/06 14:11:37] ppocr DEBUG: dt_boxes num : 0, elapse : 0.07177352905273438\n",
      "[2022/09/06 14:11:37] ppocr DEBUG: rec_res num  : 0, elapse : 1.430511474609375e-06\n",
      "[2022/09/06 14:11:37] ppocr WARNING: Since the angle classifier is not initialized, the angle classifier will not be uesd during the forward process\n",
      "[2022/09/06 14:11:38] ppocr DEBUG: dt_boxes num : 3, elapse : 0.49954891204833984\n",
      "[2022/09/06 14:11:38] ppocr DEBUG: rec_res num  : 3, elapse : 0.20021677017211914\n",
      "[2022/09/06 14:11:38] ppocr WARNING: Since the angle classifier is not initialized, the angle classifier will not be uesd during the forward process\n",
      "[2022/09/06 14:11:38] ppocr DEBUG: dt_boxes num : 1, elapse : 0.5216207504272461\n",
      "[2022/09/06 14:11:39] ppocr DEBUG: rec_res num  : 1, elapse : 0.06911206245422363\n",
      "[2022/09/06 14:11:39] ppocr WARNING: Since the angle classifier is not initialized, the angle classifier will not be uesd during the forward process\n",
      "[2022/09/06 14:11:39] ppocr DEBUG: dt_boxes num : 3, elapse : 0.48810505867004395\n",
      "[2022/09/06 14:11:39] ppocr DEBUG: rec_res num  : 3, elapse : 0.20001506805419922\n",
      "[2022/09/06 14:11:39] ppocr WARNING: Since the angle classifier is not initialized, the angle classifier will not be uesd during the forward process\n",
      "[2022/09/06 14:11:40] ppocr DEBUG: dt_boxes num : 1, elapse : 0.49613332748413086\n",
      "[2022/09/06 14:11:40] ppocr DEBUG: rec_res num  : 1, elapse : 0.07748246192932129\n",
      "[2022/09/06 14:11:40] ppocr WARNING: Since the angle classifier is not initialized, the angle classifier will not be uesd during the forward process\n",
      "[2022/09/06 14:11:40] ppocr DEBUG: dt_boxes num : 4, elapse : 0.4964892864227295\n",
      "[2022/09/06 14:11:41] ppocr DEBUG: rec_res num  : 4, elapse : 0.32883739471435547\n",
      "[2022/09/06 14:11:41] ppocr WARNING: Since the angle classifier is not initialized, the angle classifier will not be uesd during the forward process\n",
      "[2022/09/06 14:11:41] ppocr DEBUG: dt_boxes num : 1, elapse : 0.5018608570098877\n",
      "[2022/09/06 14:11:41] ppocr DEBUG: rec_res num  : 1, elapse : 0.12027359008789062\n",
      "[2022/09/06 14:11:41] ppocr WARNING: Since the angle classifier is not initialized, the angle classifier will not be uesd during the forward process\n",
      "[2022/09/06 14:11:42] ppocr DEBUG: dt_boxes num : 6, elapse : 0.7251574993133545\n",
      "[2022/09/06 14:11:42] ppocr DEBUG: rec_res num  : 6, elapse : 0.40728139877319336\n",
      "[2022/09/06 14:11:42] ppocr WARNING: Since the angle classifier is not initialized, the angle classifier will not be uesd during the forward process\n",
      "[2022/09/06 14:11:43] ppocr DEBUG: dt_boxes num : 15, elapse : 0.5053308010101318\n",
      "[2022/09/06 14:11:45] ppocr DEBUG: rec_res num  : 15, elapse : 1.8102428913116455\n",
      "[2022/09/06 14:11:45] ppocr WARNING: Since the angle classifier is not initialized, the angle classifier will not be uesd during the forward process\n",
      "[2022/09/06 14:11:45] ppocr DEBUG: dt_boxes num : 0, elapse : 0.5394327640533447\n",
      "[2022/09/06 14:11:45] ppocr DEBUG: rec_res num  : 0, elapse : 9.5367431640625e-07\n",
      "[2022/09/06 14:11:45] ppocr WARNING: Since the angle classifier is not initialized, the angle classifier will not be uesd during the forward process\n",
      "[2022/09/06 14:11:46] ppocr DEBUG: dt_boxes num : 19, elapse : 0.7543573379516602\n",
      "[2022/09/06 14:11:47] ppocr DEBUG: rec_res num  : 19, elapse : 1.298095941543579\n",
      "[2022/09/06 14:11:47] ppocr WARNING: Since the angle classifier is not initialized, the angle classifier will not be uesd during the forward process\n",
      "[2022/09/06 14:11:48] ppocr DEBUG: dt_boxes num : 3, elapse : 0.5646729469299316\n",
      "[2022/09/06 14:11:48] ppocr DEBUG: rec_res num  : 3, elapse : 0.20906972885131836\n",
      "[2022/09/06 14:11:48] ppocr WARNING: Since the angle classifier is not initialized, the angle classifier will not be uesd during the forward process\n",
      "[2022/09/06 14:11:49] ppocr DEBUG: dt_boxes num : 2, elapse : 0.5090868473052979\n",
      "[2022/09/06 14:11:49] ppocr DEBUG: rec_res num  : 2, elapse : 0.4578835964202881\n",
      "[2022/09/06 14:11:49] ppocr WARNING: Since the angle classifier is not initialized, the angle classifier will not be uesd during the forward process\n",
      "[2022/09/06 14:11:50] ppocr DEBUG: dt_boxes num : 9, elapse : 0.5083012580871582\n",
      "[2022/09/06 14:11:50] ppocr DEBUG: rec_res num  : 9, elapse : 0.6070892810821533\n",
      "[2022/09/06 14:11:50] ppocr WARNING: Since the angle classifier is not initialized, the angle classifier will not be uesd during the forward process\n",
      "[2022/09/06 14:11:51] ppocr DEBUG: dt_boxes num : 15, elapse : 0.7297492027282715\n",
      "[2022/09/06 14:11:52] ppocr DEBUG: rec_res num  : 15, elapse : 1.0106537342071533\n",
      "[2022/09/06 14:11:52] ppocr WARNING: Since the angle classifier is not initialized, the angle classifier will not be uesd during the forward process\n",
      "[2022/09/06 14:11:53] ppocr DEBUG: dt_boxes num : 1, elapse : 0.49693822860717773\n",
      "[2022/09/06 14:11:53] ppocr DEBUG: rec_res num  : 1, elapse : 0.07085061073303223\n",
      "[2022/09/06 14:11:53] ppocr WARNING: Since the angle classifier is not initialized, the angle classifier will not be uesd during the forward process\n",
      "[2022/09/06 14:11:53] ppocr DEBUG: dt_boxes num : 0, elapse : 0.4986848831176758\n",
      "[2022/09/06 14:11:53] ppocr DEBUG: rec_res num  : 0, elapse : 1.6689300537109375e-06\n",
      "[2022/09/06 14:11:53] ppocr WARNING: Since the angle classifier is not initialized, the angle classifier will not be uesd during the forward process\n",
      "[2022/09/06 14:11:54] ppocr DEBUG: dt_boxes num : 11, elapse : 0.5057055950164795\n",
      "[2022/09/06 14:11:55] ppocr DEBUG: rec_res num  : 11, elapse : 1.1275413036346436\n",
      "[2022/09/06 14:11:55] ppocr WARNING: Since the angle classifier is not initialized, the angle classifier will not be uesd during the forward process\n",
      "[2022/09/06 14:11:56] ppocr DEBUG: dt_boxes num : 4, elapse : 0.6953883171081543\n",
      "[2022/09/06 14:11:56] ppocr DEBUG: rec_res num  : 4, elapse : 0.26375627517700195\n",
      "[2022/09/06 14:11:56] ppocr WARNING: Since the angle classifier is not initialized, the angle classifier will not be uesd during the forward process\n",
      "[2022/09/06 14:11:56] ppocr DEBUG: dt_boxes num : 3, elapse : 0.48381924629211426\n",
      "[2022/09/06 14:11:57] ppocr DEBUG: rec_res num  : 3, elapse : 0.19483399391174316\n",
      "[2022/09/06 14:11:57] ppocr WARNING: Since the angle classifier is not initialized, the angle classifier will not be uesd during the forward process\n",
      "[2022/09/06 14:11:57] ppocr DEBUG: dt_boxes num : 3, elapse : 0.48304295539855957\n",
      "[2022/09/06 14:11:57] ppocr DEBUG: rec_res num  : 3, elapse : 0.223435640335083\n",
      "[2022/09/06 14:11:57] ppocr WARNING: Since the angle classifier is not initialized, the angle classifier will not be uesd during the forward process\n",
      "[2022/09/06 14:11:58] ppocr DEBUG: dt_boxes num : 7, elapse : 0.6990101337432861\n",
      "[2022/09/06 14:11:58] ppocr DEBUG: rec_res num  : 7, elapse : 0.47622084617614746\n",
      "[2022/09/06 14:11:58] ppocr WARNING: Since the angle classifier is not initialized, the angle classifier will not be uesd during the forward process\n",
      "[2022/09/06 14:11:59] ppocr DEBUG: dt_boxes num : 3, elapse : 0.47917604446411133\n",
      "[2022/09/06 14:11:59] ppocr DEBUG: rec_res num  : 3, elapse : 0.2135920524597168\n",
      "[2022/09/06 14:11:59] ppocr WARNING: Since the angle classifier is not initialized, the angle classifier will not be uesd during the forward process\n",
      "[2022/09/06 14:12:00] ppocr DEBUG: dt_boxes num : 2, elapse : 0.499544620513916\n",
      "[2022/09/06 14:12:00] ppocr DEBUG: rec_res num  : 2, elapse : 0.30568647384643555\n",
      "[2022/09/06 14:12:00] ppocr WARNING: Since the angle classifier is not initialized, the angle classifier will not be uesd during the forward process\n",
      "[2022/09/06 14:12:01] ppocr DEBUG: dt_boxes num : 7, elapse : 0.7122273445129395\n",
      "[2022/09/06 14:12:01] ppocr DEBUG: rec_res num  : 7, elapse : 0.49577927589416504\n",
      "[2022/09/06 14:12:01] ppocr WARNING: Since the angle classifier is not initialized, the angle classifier will not be uesd during the forward process\n",
      "[2022/09/06 14:12:02] ppocr DEBUG: dt_boxes num : 3, elapse : 0.49332547187805176\n",
      "[2022/09/06 14:12:02] ppocr DEBUG: rec_res num  : 3, elapse : 0.19748568534851074\n",
      "[2022/09/06 14:12:02] ppocr WARNING: Since the angle classifier is not initialized, the angle classifier will not be uesd during the forward process\n",
      "[2022/09/06 14:12:02] ppocr DEBUG: dt_boxes num : 10, elapse : 0.4882545471191406\n",
      "[2022/09/06 14:12:03] ppocr DEBUG: rec_res num  : 10, elapse : 0.6666522026062012\n",
      "[2022/09/06 14:12:03] ppocr WARNING: Since the angle classifier is not initialized, the angle classifier will not be uesd during the forward process\n",
      "[2022/09/06 14:12:04] ppocr DEBUG: dt_boxes num : 0, elapse : 0.5252599716186523\n",
      "[2022/09/06 14:12:04] ppocr DEBUG: rec_res num  : 0, elapse : 1.1920928955078125e-06\n",
      "[2022/09/06 14:12:04] ppocr WARNING: Since the angle classifier is not initialized, the angle classifier will not be uesd during the forward process\n",
      "[2022/09/06 14:12:04] ppocr DEBUG: dt_boxes num : 2, elapse : 0.5285599231719971\n",
      "[2022/09/06 14:12:04] ppocr DEBUG: rec_res num  : 2, elapse : 0.1317000389099121\n",
      "[2022/09/06 14:12:04] ppocr WARNING: Since the angle classifier is not initialized, the angle classifier will not be uesd during the forward process\n",
      "[2022/09/06 14:12:05] ppocr DEBUG: dt_boxes num : 1, elapse : 0.4962961673736572\n",
      "[2022/09/06 14:12:05] ppocr DEBUG: rec_res num  : 1, elapse : 0.10395002365112305\n",
      "[2022/09/06 14:12:05] ppocr WARNING: Since the angle classifier is not initialized, the angle classifier will not be uesd during the forward process\n",
      "[2022/09/06 14:12:05] ppocr DEBUG: dt_boxes num : 1, elapse : 0.49214768409729004\n",
      "[2022/09/06 14:12:06] ppocr DEBUG: rec_res num  : 1, elapse : 0.07281970977783203\n",
      "[2022/09/06 14:12:06] ppocr WARNING: Since the angle classifier is not initialized, the angle classifier will not be uesd during the forward process\n",
      "[2022/09/06 14:12:06] ppocr DEBUG: dt_boxes num : 6, elapse : 0.7467432022094727\n",
      "[2022/09/06 14:12:07] ppocr DEBUG: rec_res num  : 6, elapse : 0.4378972053527832\n",
      "[2022/09/06 14:12:07] ppocr WARNING: Since the angle classifier is not initialized, the angle classifier will not be uesd during the forward process\n",
      "[2022/09/06 14:12:07] ppocr DEBUG: dt_boxes num : 2, elapse : 0.7029476165771484\n",
      "[2022/09/06 14:12:08] ppocr DEBUG: rec_res num  : 2, elapse : 0.1361546516418457\n",
      "[2022/09/06 14:12:08] ppocr WARNING: Since the angle classifier is not initialized, the angle classifier will not be uesd during the forward process\n",
      "[2022/09/06 14:12:08] ppocr DEBUG: dt_boxes num : 0, elapse : 0.7128896713256836\n",
      "[2022/09/06 14:12:08] ppocr DEBUG: rec_res num  : 0, elapse : 1.1920928955078125e-06\n",
      "[2022/09/06 14:12:08] ppocr WARNING: Since the angle classifier is not initialized, the angle classifier will not be uesd during the forward process\n",
      "[2022/09/06 14:12:09] ppocr DEBUG: dt_boxes num : 0, elapse : 0.4967386722564697\n",
      "[2022/09/06 14:12:09] ppocr DEBUG: rec_res num  : 0, elapse : 1.430511474609375e-06\n",
      "[2022/09/06 14:12:09] ppocr WARNING: Since the angle classifier is not initialized, the angle classifier will not be uesd during the forward process\n",
      "[2022/09/06 14:12:10] ppocr DEBUG: dt_boxes num : 1, elapse : 0.7172091007232666\n",
      "[2022/09/06 14:12:10] ppocr DEBUG: rec_res num  : 1, elapse : 0.06861734390258789\n",
      "[2022/09/06 14:12:10] ppocr WARNING: Since the angle classifier is not initialized, the angle classifier will not be uesd during the forward process\n",
      "[2022/09/06 14:12:10] ppocr DEBUG: dt_boxes num : 0, elapse : 0.5242750644683838\n",
      "[2022/09/06 14:12:10] ppocr DEBUG: rec_res num  : 0, elapse : 1.9073486328125e-06\n",
      "[2022/09/06 14:12:10] ppocr WARNING: Since the angle classifier is not initialized, the angle classifier will not be uesd during the forward process\n",
      "[2022/09/06 14:12:11] ppocr DEBUG: dt_boxes num : 1, elapse : 0.4932060241699219\n",
      "[2022/09/06 14:12:11] ppocr DEBUG: rec_res num  : 1, elapse : 0.09328746795654297\n",
      "[2022/09/06 14:12:11] ppocr WARNING: Since the angle classifier is not initialized, the angle classifier will not be uesd during the forward process\n",
      "[2022/09/06 14:12:11] ppocr DEBUG: dt_boxes num : 3, elapse : 0.6035027503967285\n",
      "[2022/09/06 14:12:12] ppocr DEBUG: rec_res num  : 3, elapse : 0.19845080375671387\n",
      "[2022/09/06 14:12:12] ppocr WARNING: Since the angle classifier is not initialized, the angle classifier will not be uesd during the forward process\n",
      "[2022/09/06 14:12:12] ppocr DEBUG: dt_boxes num : 4, elapse : 0.5874719619750977\n",
      "[2022/09/06 14:12:13] ppocr DEBUG: rec_res num  : 4, elapse : 0.31543445587158203\n",
      "[2022/09/06 14:12:13] ppocr WARNING: Since the angle classifier is not initialized, the angle classifier will not be uesd during the forward process\n",
      "[2022/09/06 14:12:13] ppocr DEBUG: dt_boxes num : 23, elapse : 0.5026099681854248\n",
      "[2022/09/06 14:12:15] ppocr DEBUG: rec_res num  : 23, elapse : 1.543360948562622\n",
      "[2022/09/06 14:12:15] ppocr WARNING: Since the angle classifier is not initialized, the angle classifier will not be uesd during the forward process\n",
      "[2022/09/06 14:12:15] ppocr DEBUG: dt_boxes num : 1, elapse : 0.5981454849243164\n",
      "[2022/09/06 14:12:15] ppocr DEBUG: rec_res num  : 1, elapse : 0.06746339797973633\n",
      "[2022/09/06 14:12:15] ppocr WARNING: Since the angle classifier is not initialized, the angle classifier will not be uesd during the forward process\n",
      "[2022/09/06 14:12:16] ppocr DEBUG: dt_boxes num : 4, elapse : 0.495882511138916\n",
      "[2022/09/06 14:12:16] ppocr DEBUG: rec_res num  : 4, elapse : 0.39748716354370117\n",
      "[2022/09/06 14:12:16] ppocr WARNING: Since the angle classifier is not initialized, the angle classifier will not be uesd during the forward process\n",
      "[2022/09/06 14:12:17] ppocr DEBUG: dt_boxes num : 22, elapse : 0.7178714275360107\n"
     ]
    },
    {
     "ename": "KeyboardInterrupt",
     "evalue": "",
     "output_type": "error",
     "traceback": [
      "\u001b[0;31m---------------------------------------------------------------------------\u001b[0m",
      "\u001b[0;31mKeyboardInterrupt\u001b[0m                         Traceback (most recent call last)",
      "\u001b[0;32m/tmp/ipykernel_68/3120661543.py\u001b[0m in \u001b[0;36m<module>\u001b[0;34m\u001b[0m\n\u001b[0;32m----> 1\u001b[0;31m \u001b[0mimage_df\u001b[0m\u001b[0;34m[\u001b[0m\u001b[0;34m\"words\"\u001b[0m\u001b[0;34m]\u001b[0m \u001b[0;34m=\u001b[0m \u001b[0mimage_df\u001b[0m\u001b[0;34m.\u001b[0m\u001b[0mapply\u001b[0m\u001b[0;34m(\u001b[0m\u001b[0mget_words_and_scores_and_add_to_dataframe\u001b[0m\u001b[0;34m,\u001b[0m \u001b[0maxis\u001b[0m\u001b[0;34m=\u001b[0m\u001b[0;36m1\u001b[0m\u001b[0;34m)\u001b[0m\u001b[0;34m\u001b[0m\u001b[0;34m\u001b[0m\u001b[0m\n\u001b[0m\u001b[1;32m      2\u001b[0m \u001b[0mimage_df\u001b[0m\u001b[0;34m.\u001b[0m\u001b[0mhead\u001b[0m\u001b[0;34m(\u001b[0m\u001b[0;34m)\u001b[0m\u001b[0;34m\u001b[0m\u001b[0;34m\u001b[0m\u001b[0m\n",
      "\u001b[0;32m~/.conda/envs/default/lib/python3.9/site-packages/pandas/core/frame.py\u001b[0m in \u001b[0;36mapply\u001b[0;34m(self, func, axis, raw, result_type, args, **kwargs)\u001b[0m\n\u001b[1;32m   8837\u001b[0m             \u001b[0mkwargs\u001b[0m\u001b[0;34m=\u001b[0m\u001b[0mkwargs\u001b[0m\u001b[0;34m,\u001b[0m\u001b[0;34m\u001b[0m\u001b[0;34m\u001b[0m\u001b[0m\n\u001b[1;32m   8838\u001b[0m         )\n\u001b[0;32m-> 8839\u001b[0;31m         \u001b[0;32mreturn\u001b[0m \u001b[0mop\u001b[0m\u001b[0;34m.\u001b[0m\u001b[0mapply\u001b[0m\u001b[0;34m(\u001b[0m\u001b[0;34m)\u001b[0m\u001b[0;34m.\u001b[0m\u001b[0m__finalize__\u001b[0m\u001b[0;34m(\u001b[0m\u001b[0mself\u001b[0m\u001b[0;34m,\u001b[0m \u001b[0mmethod\u001b[0m\u001b[0;34m=\u001b[0m\u001b[0;34m\"apply\"\u001b[0m\u001b[0;34m)\u001b[0m\u001b[0;34m\u001b[0m\u001b[0;34m\u001b[0m\u001b[0m\n\u001b[0m\u001b[1;32m   8840\u001b[0m \u001b[0;34m\u001b[0m\u001b[0m\n\u001b[1;32m   8841\u001b[0m     def applymap(\n",
      "\u001b[0;32m~/.conda/envs/default/lib/python3.9/site-packages/pandas/core/apply.py\u001b[0m in \u001b[0;36mapply\u001b[0;34m(self)\u001b[0m\n\u001b[1;32m    725\u001b[0m             \u001b[0;32mreturn\u001b[0m \u001b[0mself\u001b[0m\u001b[0;34m.\u001b[0m\u001b[0mapply_raw\u001b[0m\u001b[0;34m(\u001b[0m\u001b[0;34m)\u001b[0m\u001b[0;34m\u001b[0m\u001b[0;34m\u001b[0m\u001b[0m\n\u001b[1;32m    726\u001b[0m \u001b[0;34m\u001b[0m\u001b[0m\n\u001b[0;32m--> 727\u001b[0;31m         \u001b[0;32mreturn\u001b[0m \u001b[0mself\u001b[0m\u001b[0;34m.\u001b[0m\u001b[0mapply_standard\u001b[0m\u001b[0;34m(\u001b[0m\u001b[0;34m)\u001b[0m\u001b[0;34m\u001b[0m\u001b[0;34m\u001b[0m\u001b[0m\n\u001b[0m\u001b[1;32m    728\u001b[0m \u001b[0;34m\u001b[0m\u001b[0m\n\u001b[1;32m    729\u001b[0m     \u001b[0;32mdef\u001b[0m \u001b[0magg\u001b[0m\u001b[0;34m(\u001b[0m\u001b[0mself\u001b[0m\u001b[0;34m)\u001b[0m\u001b[0;34m:\u001b[0m\u001b[0;34m\u001b[0m\u001b[0;34m\u001b[0m\u001b[0m\n",
      "\u001b[0;32m~/.conda/envs/default/lib/python3.9/site-packages/pandas/core/apply.py\u001b[0m in \u001b[0;36mapply_standard\u001b[0;34m(self)\u001b[0m\n\u001b[1;32m    849\u001b[0m \u001b[0;34m\u001b[0m\u001b[0m\n\u001b[1;32m    850\u001b[0m     \u001b[0;32mdef\u001b[0m \u001b[0mapply_standard\u001b[0m\u001b[0;34m(\u001b[0m\u001b[0mself\u001b[0m\u001b[0;34m)\u001b[0m\u001b[0;34m:\u001b[0m\u001b[0;34m\u001b[0m\u001b[0;34m\u001b[0m\u001b[0m\n\u001b[0;32m--> 851\u001b[0;31m         \u001b[0mresults\u001b[0m\u001b[0;34m,\u001b[0m \u001b[0mres_index\u001b[0m \u001b[0;34m=\u001b[0m \u001b[0mself\u001b[0m\u001b[0;34m.\u001b[0m\u001b[0mapply_series_generator\u001b[0m\u001b[0;34m(\u001b[0m\u001b[0;34m)\u001b[0m\u001b[0;34m\u001b[0m\u001b[0;34m\u001b[0m\u001b[0m\n\u001b[0m\u001b[1;32m    852\u001b[0m \u001b[0;34m\u001b[0m\u001b[0m\n\u001b[1;32m    853\u001b[0m         \u001b[0;31m# wrap results\u001b[0m\u001b[0;34m\u001b[0m\u001b[0;34m\u001b[0m\u001b[0m\n",
      "\u001b[0;32m~/.conda/envs/default/lib/python3.9/site-packages/pandas/core/apply.py\u001b[0m in \u001b[0;36mapply_series_generator\u001b[0;34m(self)\u001b[0m\n\u001b[1;32m    865\u001b[0m             \u001b[0;32mfor\u001b[0m \u001b[0mi\u001b[0m\u001b[0;34m,\u001b[0m \u001b[0mv\u001b[0m \u001b[0;32min\u001b[0m \u001b[0menumerate\u001b[0m\u001b[0;34m(\u001b[0m\u001b[0mseries_gen\u001b[0m\u001b[0;34m)\u001b[0m\u001b[0;34m:\u001b[0m\u001b[0;34m\u001b[0m\u001b[0;34m\u001b[0m\u001b[0m\n\u001b[1;32m    866\u001b[0m                 \u001b[0;31m# ignore SettingWithCopy here in case the user mutates\u001b[0m\u001b[0;34m\u001b[0m\u001b[0;34m\u001b[0m\u001b[0m\n\u001b[0;32m--> 867\u001b[0;31m                 \u001b[0mresults\u001b[0m\u001b[0;34m[\u001b[0m\u001b[0mi\u001b[0m\u001b[0;34m]\u001b[0m \u001b[0;34m=\u001b[0m \u001b[0mself\u001b[0m\u001b[0;34m.\u001b[0m\u001b[0mf\u001b[0m\u001b[0;34m(\u001b[0m\u001b[0mv\u001b[0m\u001b[0;34m)\u001b[0m\u001b[0;34m\u001b[0m\u001b[0;34m\u001b[0m\u001b[0m\n\u001b[0m\u001b[1;32m    868\u001b[0m                 \u001b[0;32mif\u001b[0m \u001b[0misinstance\u001b[0m\u001b[0;34m(\u001b[0m\u001b[0mresults\u001b[0m\u001b[0;34m[\u001b[0m\u001b[0mi\u001b[0m\u001b[0;34m]\u001b[0m\u001b[0;34m,\u001b[0m \u001b[0mABCSeries\u001b[0m\u001b[0;34m)\u001b[0m\u001b[0;34m:\u001b[0m\u001b[0;34m\u001b[0m\u001b[0;34m\u001b[0m\u001b[0m\n\u001b[1;32m    869\u001b[0m                     \u001b[0;31m# If we have a view on v, we need to make a copy because\u001b[0m\u001b[0;34m\u001b[0m\u001b[0;34m\u001b[0m\u001b[0m\n",
      "\u001b[0;32m/tmp/ipykernel_68/269900587.py\u001b[0m in \u001b[0;36mget_words_and_scores_and_add_to_dataframe\u001b[0;34m(row)\u001b[0m\n\u001b[1;32m      5\u001b[0m     \u001b[0mfinal\u001b[0m \u001b[0;34m=\u001b[0m \u001b[0;34m[\u001b[0m\u001b[0;34m]\u001b[0m\u001b[0;34m\u001b[0m\u001b[0;34m\u001b[0m\u001b[0m\n\u001b[1;32m      6\u001b[0m     \u001b[0mimage_path\u001b[0m \u001b[0;34m=\u001b[0m \u001b[0;34mf\"/home/studio-lab-user/DS-Projects/OCR/SWOOP_OCR_images/{photo}.jpg\"\u001b[0m\u001b[0;34m\u001b[0m\u001b[0;34m\u001b[0m\u001b[0m\n\u001b[0;32m----> 7\u001b[0;31m     \u001b[0mresult\u001b[0m \u001b[0;34m=\u001b[0m \u001b[0mocr_model\u001b[0m\u001b[0;34m.\u001b[0m\u001b[0mocr\u001b[0m\u001b[0;34m(\u001b[0m\u001b[0mimage_path\u001b[0m\u001b[0;34m)\u001b[0m\u001b[0;34m\u001b[0m\u001b[0;34m\u001b[0m\u001b[0m\n\u001b[0m\u001b[1;32m      8\u001b[0m     \u001b[0mtexts\u001b[0m \u001b[0;34m=\u001b[0m \u001b[0;34m[\u001b[0m\u001b[0mres\u001b[0m\u001b[0;34m[\u001b[0m\u001b[0;36m1\u001b[0m\u001b[0;34m]\u001b[0m\u001b[0;34m[\u001b[0m\u001b[0;36m0\u001b[0m\u001b[0;34m]\u001b[0m \u001b[0;32mfor\u001b[0m \u001b[0mres\u001b[0m \u001b[0;32min\u001b[0m \u001b[0mresult\u001b[0m\u001b[0;34m]\u001b[0m\u001b[0;34m\u001b[0m\u001b[0;34m\u001b[0m\u001b[0m\n\u001b[1;32m      9\u001b[0m     \u001b[0;31m# for word in texts:\u001b[0m\u001b[0;34m\u001b[0m\u001b[0;34m\u001b[0m\u001b[0m\n",
      "\u001b[0;32m~/.conda/envs/default/lib/python3.9/site-packages/paddleocr/paddleocr.py\u001b[0m in \u001b[0;36mocr\u001b[0;34m(self, img, det, rec, cls)\u001b[0m\n\u001b[1;32m    509\u001b[0m             \u001b[0mimg\u001b[0m \u001b[0;34m=\u001b[0m \u001b[0mcv2\u001b[0m\u001b[0;34m.\u001b[0m\u001b[0mcvtColor\u001b[0m\u001b[0;34m(\u001b[0m\u001b[0mimg\u001b[0m\u001b[0;34m,\u001b[0m \u001b[0mcv2\u001b[0m\u001b[0;34m.\u001b[0m\u001b[0mCOLOR_GRAY2BGR\u001b[0m\u001b[0;34m)\u001b[0m\u001b[0;34m\u001b[0m\u001b[0;34m\u001b[0m\u001b[0m\n\u001b[1;32m    510\u001b[0m         \u001b[0;32mif\u001b[0m \u001b[0mdet\u001b[0m \u001b[0;32mand\u001b[0m \u001b[0mrec\u001b[0m\u001b[0;34m:\u001b[0m\u001b[0;34m\u001b[0m\u001b[0;34m\u001b[0m\u001b[0m\n\u001b[0;32m--> 511\u001b[0;31m             \u001b[0mdt_boxes\u001b[0m\u001b[0;34m,\u001b[0m \u001b[0mrec_res\u001b[0m\u001b[0;34m,\u001b[0m \u001b[0m_\u001b[0m \u001b[0;34m=\u001b[0m \u001b[0mself\u001b[0m\u001b[0;34m.\u001b[0m\u001b[0m__call__\u001b[0m\u001b[0;34m(\u001b[0m\u001b[0mimg\u001b[0m\u001b[0;34m,\u001b[0m \u001b[0mcls\u001b[0m\u001b[0;34m)\u001b[0m\u001b[0;34m\u001b[0m\u001b[0;34m\u001b[0m\u001b[0m\n\u001b[0m\u001b[1;32m    512\u001b[0m             \u001b[0;32mreturn\u001b[0m \u001b[0;34m[\u001b[0m\u001b[0;34m[\u001b[0m\u001b[0mbox\u001b[0m\u001b[0;34m.\u001b[0m\u001b[0mtolist\u001b[0m\u001b[0;34m(\u001b[0m\u001b[0;34m)\u001b[0m\u001b[0;34m,\u001b[0m \u001b[0mres\u001b[0m\u001b[0;34m]\u001b[0m \u001b[0;32mfor\u001b[0m \u001b[0mbox\u001b[0m\u001b[0;34m,\u001b[0m \u001b[0mres\u001b[0m \u001b[0;32min\u001b[0m \u001b[0mzip\u001b[0m\u001b[0;34m(\u001b[0m\u001b[0mdt_boxes\u001b[0m\u001b[0;34m,\u001b[0m \u001b[0mrec_res\u001b[0m\u001b[0;34m)\u001b[0m\u001b[0;34m]\u001b[0m\u001b[0;34m\u001b[0m\u001b[0;34m\u001b[0m\u001b[0m\n\u001b[1;32m    513\u001b[0m         \u001b[0;32melif\u001b[0m \u001b[0mdet\u001b[0m \u001b[0;32mand\u001b[0m \u001b[0;32mnot\u001b[0m \u001b[0mrec\u001b[0m\u001b[0;34m:\u001b[0m\u001b[0;34m\u001b[0m\u001b[0;34m\u001b[0m\u001b[0m\n",
      "\u001b[0;32m~/.conda/envs/default/lib/python3.9/site-packages/paddleocr/tools/infer/predict_system.py\u001b[0m in \u001b[0;36m__call__\u001b[0;34m(self, img, cls)\u001b[0m\n\u001b[1;32m     90\u001b[0m                 len(img_crop_list), elapse))\n\u001b[1;32m     91\u001b[0m \u001b[0;34m\u001b[0m\u001b[0m\n\u001b[0;32m---> 92\u001b[0;31m         \u001b[0mrec_res\u001b[0m\u001b[0;34m,\u001b[0m \u001b[0melapse\u001b[0m \u001b[0;34m=\u001b[0m \u001b[0mself\u001b[0m\u001b[0;34m.\u001b[0m\u001b[0mtext_recognizer\u001b[0m\u001b[0;34m(\u001b[0m\u001b[0mimg_crop_list\u001b[0m\u001b[0;34m)\u001b[0m\u001b[0;34m\u001b[0m\u001b[0;34m\u001b[0m\u001b[0m\n\u001b[0m\u001b[1;32m     93\u001b[0m         \u001b[0mtime_dict\u001b[0m\u001b[0;34m[\u001b[0m\u001b[0;34m'rec'\u001b[0m\u001b[0;34m]\u001b[0m \u001b[0;34m=\u001b[0m \u001b[0melapse\u001b[0m\u001b[0;34m\u001b[0m\u001b[0;34m\u001b[0m\u001b[0m\n\u001b[1;32m     94\u001b[0m         logger.debug(\"rec_res num  : {}, elapse : {}\".format(\n",
      "\u001b[0;32m~/.conda/envs/default/lib/python3.9/site-packages/paddleocr/tools/infer/predict_rec.py\u001b[0m in \u001b[0;36m__call__\u001b[0;34m(self, img_list)\u001b[0m\n\u001b[1;32m    519\u001b[0m                 \u001b[0;32melse\u001b[0m\u001b[0;34m:\u001b[0m\u001b[0;34m\u001b[0m\u001b[0;34m\u001b[0m\u001b[0m\n\u001b[1;32m    520\u001b[0m                     \u001b[0mself\u001b[0m\u001b[0;34m.\u001b[0m\u001b[0minput_tensor\u001b[0m\u001b[0;34m.\u001b[0m\u001b[0mcopy_from_cpu\u001b[0m\u001b[0;34m(\u001b[0m\u001b[0mnorm_img_batch\u001b[0m\u001b[0;34m)\u001b[0m\u001b[0;34m\u001b[0m\u001b[0;34m\u001b[0m\u001b[0m\n\u001b[0;32m--> 521\u001b[0;31m                     \u001b[0mself\u001b[0m\u001b[0;34m.\u001b[0m\u001b[0mpredictor\u001b[0m\u001b[0;34m.\u001b[0m\u001b[0mrun\u001b[0m\u001b[0;34m(\u001b[0m\u001b[0;34m)\u001b[0m\u001b[0;34m\u001b[0m\u001b[0;34m\u001b[0m\u001b[0m\n\u001b[0m\u001b[1;32m    522\u001b[0m                     \u001b[0moutputs\u001b[0m \u001b[0;34m=\u001b[0m \u001b[0;34m[\u001b[0m\u001b[0;34m]\u001b[0m\u001b[0;34m\u001b[0m\u001b[0;34m\u001b[0m\u001b[0m\n\u001b[1;32m    523\u001b[0m                     \u001b[0;32mfor\u001b[0m \u001b[0moutput_tensor\u001b[0m \u001b[0;32min\u001b[0m \u001b[0mself\u001b[0m\u001b[0;34m.\u001b[0m\u001b[0moutput_tensors\u001b[0m\u001b[0;34m:\u001b[0m\u001b[0;34m\u001b[0m\u001b[0;34m\u001b[0m\u001b[0m\n",
      "\u001b[0;31mKeyboardInterrupt\u001b[0m: "
     ]
    }
   ],
   "source": [
    "image_df[\"words\"] = image_df.apply(get_words_and_scores_and_add_to_dataframe, axis=1)\n",
    "image_df.head()"
   ]
  },
  {
   "cell_type": "code",
   "execution_count": null,
   "id": "c534de62-b23f-4b83-b6ce-7fcd2f613bc4",
   "metadata": {
    "tags": []
   },
   "outputs": [],
   "source": [
    "import re\n",
    "import string\n",
    "\n",
    "def clean_text(row):\n",
    "    word_list = row[\"words\"][0]\n",
    "    new_word_list = []\n",
    "    for word in word_list:\n",
    "        new_word = word.lower()\n",
    "        new_word = re.sub(\"[%s]\" % re.escape(string.punctuation), \" \", new_word)\n",
    "        new_word_list.append(new_word)\n",
    "    return [new_word_list, row[\"words\"][1]]"
   ]
  },
  {
   "cell_type": "code",
   "execution_count": null,
   "id": "43bea86a-e470-4bc8-9abe-5f9dfed37174",
   "metadata": {
    "tags": []
   },
   "outputs": [],
   "source": [
    "image_df[\"words\"] = image_df.apply(clean_text, axis=1)"
   ]
  },
  {
   "cell_type": "code",
   "execution_count": null,
   "id": "01bad0dd-f4ed-4b65-9587-7b3cd699dc41",
   "metadata": {
    "tags": []
   },
   "outputs": [],
   "source": [
    "image_df"
   ]
  },
  {
   "cell_type": "code",
   "execution_count": null,
   "id": "e5b866b8-4a82-49d1-a529-b60f64e6d6d4",
   "metadata": {},
   "outputs": [],
   "source": [
    "## define the target words / phrases\n",
    "\n",
    "targets = [\"among us\", \"impostor\"]"
   ]
  },
  {
   "cell_type": "code",
   "execution_count": null,
   "id": "3081a1b0-bf25-44d3-ae99-817e29d36adb",
   "metadata": {},
   "outputs": [],
   "source": [
    "# helper functions for funal scoring function\n",
    "\n",
    "def advance(iterator, step):\n",
    "    next(itertools.islice(iterator, step, step), None)\n",
    "\n",
    "def tuplewize(iterable, size):\n",
    "    iterators = itertools.tee(iterable, size)\n",
    "    for position, iterator in enumerate(iterators):\n",
    "        advance(iterator, position)\n",
    "    return zip(*iterators)"
   ]
  },
  {
   "cell_type": "code",
   "execution_count": null,
   "id": "47b39e1e-784b-44cd-9de4-5da1ac980845",
   "metadata": {},
   "outputs": [],
   "source": [
    "# define function to produce final scores\n",
    "\n",
    "def get_final_score(row):\n",
    "    sample_list = row[\"words\"][0]\n",
    "    score_list = row[\"words\"][1]\n",
    "    max_score = 0\n",
    "    \n",
    "    for target in targets:\n",
    "        phrase_length = len(target.split())\n",
    "        for c, s in zip(tuplewize(sample_list, phrase_length), tuplewize(score_list, phrase_length)):\n",
    "            new_sample = \" \".join(c)\n",
    "            print(new_sample)\n",
    "            edit_distance = nltk.edit_distance(target, new_sample)\n",
    "            closeness = (len(target)-edit_distance)/len(target)\n",
    "            confidence_score = np.mean(s)\n",
    "            final_score = closeness * confidence_score\n",
    "            if final_score > max_score:\n",
    "                max_score = final_score\n",
    "             \n",
    "    return max_score/100"
   ]
  },
  {
   "cell_type": "code",
   "execution_count": null,
   "id": "18bf253b-6895-48ca-b701-aa9788ae61f7",
   "metadata": {
    "tags": []
   },
   "outputs": [],
   "source": [
    "import itertools\n",
    "import nltk\n",
    "import numpy as np\n",
    "\n",
    "image_df[\"OCR_score\"] = image_df.apply(get_final_score, axis=1)"
   ]
  },
  {
   "cell_type": "code",
   "execution_count": null,
   "id": "8cbc3798-85ca-4287-8920-3c97901132df",
   "metadata": {
    "tags": []
   },
   "outputs": [],
   "source": [
    "image_df = image_df.sort_values(by='OCR_score', ascending=False)\n",
    "pd.set_option('display.max_rows', None)\n",
    "len(image_df)"
   ]
  },
  {
   "cell_type": "code",
   "execution_count": null,
   "id": "a95245f4-344a-4d9c-88f2-1f4d9a9b3e97",
   "metadata": {
    "tags": []
   },
   "outputs": [],
   "source": [
    "RA_score = roc_auc_score(image_df[\"relevant\"], image_df[\"OCR_score\"])\n",
    "\n",
    "print(\"Rekognition ROC AUC Score =  %.2f\" % (RA_score))"
   ]
  },
  {
   "cell_type": "code",
   "execution_count": null,
   "id": "dd28b4e7-6e89-4a8c-8d13-512dd95243b2",
   "metadata": {
    "tags": []
   },
   "outputs": [],
   "source": [
    "image_df"
   ]
  },
  {
   "cell_type": "code",
   "execution_count": 83,
   "id": "2d52536a-b674-4a2c-a286-98022726911f",
   "metadata": {
    "tags": []
   },
   "outputs": [],
   "source": [
    "image_df.to_csv('/home/studio-lab-user/DS-Projects/OCR/paddle_ocr_v2.csv')"
   ]
  },
  {
   "cell_type": "code",
   "execution_count": 84,
   "id": "09469da3-86cd-4485-b224-875c095a9a5b",
   "metadata": {},
   "outputs": [],
   "source": [
    "# Reference https://www.youtube.com/watch?v=t5xwQguk9XU"
   ]
  },
  {
   "cell_type": "code",
   "execution_count": 85,
   "id": "5cde5e26-9a9d-4bb7-964e-f8cd1ea871b3",
   "metadata": {},
   "outputs": [
    {
     "name": "stdout",
     "output_type": "stream",
     "text": [
      "119\n"
     ]
    }
   ],
   "source": [
    "# Dataframe of true positives\n",
    "\n",
    "tp = image_df.loc[(image_df['relevant'] == 1) & (image_df['OCR_score'] >= 0.5)] \n",
    "print(len(tp))"
   ]
  },
  {
   "cell_type": "code",
   "execution_count": 86,
   "id": "617c166b-4425-441d-8043-17bb6bac7207",
   "metadata": {},
   "outputs": [
    {
     "name": "stdout",
     "output_type": "stream",
     "text": [
      "317\n"
     ]
    }
   ],
   "source": [
    "# Dataframe of true negatives\n",
    "\n",
    "tn = image_df.loc[(image_dff['relevant'] == 0) & (image_df['OCR_score'] < 0.5)] \n",
    "print(len(tn))"
   ]
  },
  {
   "cell_type": "code",
   "execution_count": 87,
   "id": "f798d566-bb61-47c5-a806-72cd82e960a6",
   "metadata": {},
   "outputs": [
    {
     "name": "stdout",
     "output_type": "stream",
     "text": [
      "1\n"
     ]
    }
   ],
   "source": [
    "# Dataframe of false positives\n",
    "\n",
    "fp = image_df.loc[(image_df['relevant'] == 0) & (image_df['OCR_score'] >= 0.5)] \n",
    "print(len(fp))"
   ]
  },
  {
   "cell_type": "code",
   "execution_count": 88,
   "id": "75d5b278-26a5-4a9c-aef3-aa7667ad2fdf",
   "metadata": {},
   "outputs": [
    {
     "name": "stdout",
     "output_type": "stream",
     "text": [
      "32\n"
     ]
    }
   ],
   "source": [
    "# Dataframe of false negatives\n",
    "\n",
    "fn = image_df.loc[(image_df['relevant'] == 1) & (image_df['OCR_score'] < 0.5)] \n",
    "print(len(fn))"
   ]
  },
  {
   "cell_type": "code",
   "execution_count": 89,
   "id": "158e1749-56c6-40a4-b253-dca2732e60ce",
   "metadata": {},
   "outputs": [
    {
     "name": "stdout",
     "output_type": "stream",
     "text": [
      "0.9916666666666667\n"
     ]
    }
   ],
   "source": [
    "# Precision (What % of irdentified positives and true?)\n",
    "precision = len(tp) / (len(tp) + len(fp))\n",
    "print(precision)"
   ]
  },
  {
   "cell_type": "code",
   "execution_count": 90,
   "id": "f718898a-de71-42cd-ac8f-f1b61fef76d3",
   "metadata": {},
   "outputs": [
    {
     "name": "stdout",
     "output_type": "stream",
     "text": [
      "0.7880794701986755\n"
     ]
    }
   ],
   "source": [
    "# PRecall (% of true positives identified)\n",
    "recall = len(tp) / (len(tp) + len(fn))\n",
    "print(recall)"
   ]
  },
  {
   "cell_type": "code",
   "execution_count": 91,
   "id": "bf43678e-c95c-481e-947a-9304f0a11b3f",
   "metadata": {
    "tags": []
   },
   "outputs": [
    {
     "data": {
      "text/html": [
       "<div>\n",
       "<style scoped>\n",
       "    .dataframe tbody tr th:only-of-type {\n",
       "        vertical-align: middle;\n",
       "    }\n",
       "\n",
       "    .dataframe tbody tr th {\n",
       "        vertical-align: top;\n",
       "    }\n",
       "\n",
       "    .dataframe thead th {\n",
       "        text-align: right;\n",
       "    }\n",
       "</style>\n",
       "<table border=\"1\" class=\"dataframe\">\n",
       "  <thead>\n",
       "    <tr style=\"text-align: right;\">\n",
       "      <th></th>\n",
       "      <th>image</th>\n",
       "      <th>relevant</th>\n",
       "      <th>words</th>\n",
       "      <th>OCR_score</th>\n",
       "    </tr>\n",
       "  </thead>\n",
       "  <tbody>\n",
       "    <tr>\n",
       "      <th>163</th>\n",
       "      <td>04437a357f2bbc9606cda30825366bb76b0559f2</td>\n",
       "      <td>1</td>\n",
       "      <td>[[l m, your, fabher, 00000, rimong us, xvamafn...</td>\n",
       "      <td>0.499820</td>\n",
       "    </tr>\n",
       "    <tr>\n",
       "      <th>285</th>\n",
       "      <td>1e2688724847e6ace895252f804fc30258f92b12</td>\n",
       "      <td>1</td>\n",
       "      <td>[[mong, whoisit, nol711], [56.05505704879761, ...</td>\n",
       "      <td>0.448440</td>\n",
       "    </tr>\n",
       "    <tr>\n",
       "      <th>224</th>\n",
       "      <td>9312a0394cdca0f19e08f589fb7d5d10b7b73660</td>\n",
       "      <td>1</td>\n",
       "      <td>[[g, us, s, xvamafil, i m, your, fabher], [92....</td>\n",
       "      <td>0.410818</td>\n",
       "    </tr>\n",
       "    <tr>\n",
       "      <th>101</th>\n",
       "      <td>f5dd445f3fff531523efd5fa98a5b1d7700a4aed</td>\n",
       "      <td>1</td>\n",
       "      <td>[[trick, 2, i d, skip, vote, that, kini, rgenc...</td>\n",
       "      <td>0.399637</td>\n",
       "    </tr>\n",
       "    <tr>\n",
       "      <th>375</th>\n",
       "      <td>587864639734fb3fbc29cfd53ff4dfdfba662acd</td>\n",
       "      <td>1</td>\n",
       "      <td>[[smang], [61.39713525772095]]</td>\n",
       "      <td>0.368383</td>\n",
       "    </tr>\n",
       "    <tr>\n",
       "      <th>29</th>\n",
       "      <td>d5e94eee21b701f5f3d409bb1b9bc43a4b47096c</td>\n",
       "      <td>1</td>\n",
       "      <td>[[smang], [61.39713525772095]]</td>\n",
       "      <td>0.368383</td>\n",
       "    </tr>\n",
       "    <tr>\n",
       "      <th>86</th>\n",
       "      <td>dc35ae67c9ed08081e7fe8592924ab3804840626</td>\n",
       "      <td>1</td>\n",
       "      <td>[[wond, n2, mong, us], [81.32509589195251, 97....</td>\n",
       "      <td>0.335962</td>\n",
       "    </tr>\n",
       "    <tr>\n",
       "      <th>192</th>\n",
       "      <td>1f2d04f5078f7b2b6bc4e521b75e9537723c518b</td>\n",
       "      <td>1</td>\n",
       "      <td>[[vwona, n2, among, us], [80.08106350898743, 9...</td>\n",
       "      <td>0.333739</td>\n",
       "    </tr>\n",
       "    <tr>\n",
       "      <th>223</th>\n",
       "      <td>9538489727bd15088eb41df30792a695eba59ad2</td>\n",
       "      <td>1</td>\n",
       "      <td>[[wond, n2, mong, us], [78.60596776008606, 97....</td>\n",
       "      <td>0.330741</td>\n",
       "    </tr>\n",
       "    <tr>\n",
       "      <th>77</th>\n",
       "      <td>03613ec8794b6bf98f4ae263cafdccf6d054ee0d</td>\n",
       "      <td>1</td>\n",
       "      <td>[[vwon , n2, among, us], [80.00211119651794, 9...</td>\n",
       "      <td>0.329893</td>\n",
       "    </tr>\n",
       "    <tr>\n",
       "      <th>128</th>\n",
       "      <td>36ca1efb357cb466bfc582db4fc69dab3e1984e4</td>\n",
       "      <td>1</td>\n",
       "      <td>[[vwon , n2, among, us], [80.00211119651794, 9...</td>\n",
       "      <td>0.329893</td>\n",
       "    </tr>\n",
       "    <tr>\n",
       "      <th>148</th>\n",
       "      <td>566c12727ee7f417fbe8919846f370d94421a14c</td>\n",
       "      <td>1</td>\n",
       "      <td>[[vwon , n2, among, us], [80.00211119651794, 9...</td>\n",
       "      <td>0.329893</td>\n",
       "    </tr>\n",
       "    <tr>\n",
       "      <th>76</th>\n",
       "      <td>6db07001d088d93ef41fd2986c83627c7a98b262</td>\n",
       "      <td>1</td>\n",
       "      <td>[[wond, n , among, u5], [81.57232999801636, 87...</td>\n",
       "      <td>0.326289</td>\n",
       "    </tr>\n",
       "    <tr>\n",
       "      <th>206</th>\n",
       "      <td>b3ffaad1b93caca74ac43269f4778aa2a5948885</td>\n",
       "      <td>1</td>\n",
       "      <td>[[vwon , n2, among, us], [69.86424326896667, 9...</td>\n",
       "      <td>0.312717</td>\n",
       "    </tr>\n",
       "    <tr>\n",
       "      <th>110</th>\n",
       "      <td>c70abfbf8030068f185efa992c81b9454aff1003</td>\n",
       "      <td>1</td>\n",
       "      <td>[[wonc, n2, among, us], [69.20661330223083, 95...</td>\n",
       "      <td>0.309160</td>\n",
       "    </tr>\n",
       "    <tr>\n",
       "      <th>90</th>\n",
       "      <td>1c64833ebc54085fa29ac65a7cfd958c9333ea71</td>\n",
       "      <td>1</td>\n",
       "      <td>[[vwonc, n2, among, us], [65.65366387367249, 9...</td>\n",
       "      <td>0.308472</td>\n",
       "    </tr>\n",
       "    <tr>\n",
       "      <th>109</th>\n",
       "      <td>150a77ba13229d82e8868ceb26d83272e789f077</td>\n",
       "      <td>1</td>\n",
       "      <td>[[vwonc, n2, among, us], [65.65366387367249, 9...</td>\n",
       "      <td>0.308472</td>\n",
       "    </tr>\n",
       "    <tr>\n",
       "      <th>96</th>\n",
       "      <td>38a8fa37277319f566c064189e7f989a7275b7fa</td>\n",
       "      <td>1</td>\n",
       "      <td>[[vwonc, n2, among, us], [64.45852518081665, 9...</td>\n",
       "      <td>0.301199</td>\n",
       "    </tr>\n",
       "    <tr>\n",
       "      <th>75</th>\n",
       "      <td>85eeaa788e97de2b59f604fd1b84e1259761702a</td>\n",
       "      <td>1</td>\n",
       "      <td>[[2 with, filter, pocket, 1 with, adjustment, ...</td>\n",
       "      <td>0.246390</td>\n",
       "    </tr>\n",
       "    <tr>\n",
       "      <th>37</th>\n",
       "      <td>c5b860ca154f6de8e4fcac2b55ccc92589c4ab9a</td>\n",
       "      <td>1</td>\n",
       "      <td>[[type, a, 12pcs, among, us, christmas, style,...</td>\n",
       "      <td>0.245040</td>\n",
       "    </tr>\n",
       "    <tr>\n",
       "      <th>111</th>\n",
       "      <td>0be5cbf74e637966982bdfdfc22ba557e1ff31fb</td>\n",
       "      <td>1</td>\n",
       "      <td>[[vwoud, n2, among, us], [82.06091523170471, 9...</td>\n",
       "      <td>0.234460</td>\n",
       "    </tr>\n",
       "    <tr>\n",
       "      <th>105</th>\n",
       "      <td>2f619c9004e55bbcab8aee8353078913c64675ef</td>\n",
       "      <td>1</td>\n",
       "      <td>[[vwoud, n2, among, us], [81.94926977157593, 9...</td>\n",
       "      <td>0.234141</td>\n",
       "    </tr>\n",
       "    <tr>\n",
       "      <th>334</th>\n",
       "      <td>c497627967d0963e1a7e968fb0a0a83c3bb69f83</td>\n",
       "      <td>1</td>\n",
       "      <td>[[vwoud, n2, among, us], [81.77053332328796, 9...</td>\n",
       "      <td>0.233630</td>\n",
       "    </tr>\n",
       "    <tr>\n",
       "      <th>13</th>\n",
       "      <td>39cf23c3398969a3c37949206563f22f6a32fcad</td>\n",
       "      <td>1</td>\n",
       "      <td>[[vwoud, n2, among, us], [79.32400703430176, 9...</td>\n",
       "      <td>0.226640</td>\n",
       "    </tr>\n",
       "    <tr>\n",
       "      <th>210</th>\n",
       "      <td>449d1335ce3691fa53c5f30670be360006670f68</td>\n",
       "      <td>1</td>\n",
       "      <td>[[vwomc, n2, among, us], [80.64183592796326, 9...</td>\n",
       "      <td>0.222330</td>\n",
       "    </tr>\n",
       "    <tr>\n",
       "      <th>130</th>\n",
       "      <td>d8d094467ce56ede13dedc9da14f74dfa554ee76</td>\n",
       "      <td>1</td>\n",
       "      <td>[[vwoud, n2, among, us], [76.93819403648376, 9...</td>\n",
       "      <td>0.219939</td>\n",
       "    </tr>\n",
       "    <tr>\n",
       "      <th>204</th>\n",
       "      <td>6337197ef3383045051aac90564bb8c8b9c0ad4e</td>\n",
       "      <td>1</td>\n",
       "      <td>[[type, a, 12pcs, among, us, height, 8 11cm], ...</td>\n",
       "      <td>0.198590</td>\n",
       "    </tr>\n",
       "    <tr>\n",
       "      <th>269</th>\n",
       "      <td>dcb832a7c6946b564c83a3d3244d6b2c5c0dc9cc</td>\n",
       "      <td>1</td>\n",
       "      <td>[[vwomc, nz, among, us], [62.55512237548828, 9...</td>\n",
       "      <td>0.197551</td>\n",
       "    </tr>\n",
       "    <tr>\n",
       "      <th>35</th>\n",
       "      <td>9af74e9e31e7a3db852b47dc21ae443e84a8d194</td>\n",
       "      <td>1</td>\n",
       "      <td>[[no , 121 132], [95.71161270141602]]</td>\n",
       "      <td>0.191423</td>\n",
       "    </tr>\n",
       "    <tr>\n",
       "      <th>429</th>\n",
       "      <td>6424c2bef8b452de12775190ec2487966bb66d6f</td>\n",
       "      <td>1</td>\n",
       "      <td>[[happy, holidaysfrom, innersloth, rimongus], ...</td>\n",
       "      <td>0.120319</td>\n",
       "    </tr>\n",
       "    <tr>\n",
       "      <th>81</th>\n",
       "      <td>e9632ccb78abdde9e0719db98bd7e97b58ad3f19</td>\n",
       "      <td>1</td>\n",
       "      <td>[[happy, holidaysfrom, innersloth , rmongus], ...</td>\n",
       "      <td>0.119311</td>\n",
       "    </tr>\n",
       "    <tr>\n",
       "      <th>27</th>\n",
       "      <td>76a12d15ddd12600de572dddd2990f01a7bfab44</td>\n",
       "      <td>1</td>\n",
       "      <td>[[], []]</td>\n",
       "      <td>0.000000</td>\n",
       "    </tr>\n",
       "  </tbody>\n",
       "</table>\n",
       "</div>"
      ],
      "text/plain": [
       "                                        image  relevant  \\\n",
       "163  04437a357f2bbc9606cda30825366bb76b0559f2         1   \n",
       "285  1e2688724847e6ace895252f804fc30258f92b12         1   \n",
       "224  9312a0394cdca0f19e08f589fb7d5d10b7b73660         1   \n",
       "101  f5dd445f3fff531523efd5fa98a5b1d7700a4aed         1   \n",
       "375  587864639734fb3fbc29cfd53ff4dfdfba662acd         1   \n",
       "29   d5e94eee21b701f5f3d409bb1b9bc43a4b47096c         1   \n",
       "86   dc35ae67c9ed08081e7fe8592924ab3804840626         1   \n",
       "192  1f2d04f5078f7b2b6bc4e521b75e9537723c518b         1   \n",
       "223  9538489727bd15088eb41df30792a695eba59ad2         1   \n",
       "77   03613ec8794b6bf98f4ae263cafdccf6d054ee0d         1   \n",
       "128  36ca1efb357cb466bfc582db4fc69dab3e1984e4         1   \n",
       "148  566c12727ee7f417fbe8919846f370d94421a14c         1   \n",
       "76   6db07001d088d93ef41fd2986c83627c7a98b262         1   \n",
       "206  b3ffaad1b93caca74ac43269f4778aa2a5948885         1   \n",
       "110  c70abfbf8030068f185efa992c81b9454aff1003         1   \n",
       "90   1c64833ebc54085fa29ac65a7cfd958c9333ea71         1   \n",
       "109  150a77ba13229d82e8868ceb26d83272e789f077         1   \n",
       "96   38a8fa37277319f566c064189e7f989a7275b7fa         1   \n",
       "75   85eeaa788e97de2b59f604fd1b84e1259761702a         1   \n",
       "37   c5b860ca154f6de8e4fcac2b55ccc92589c4ab9a         1   \n",
       "111  0be5cbf74e637966982bdfdfc22ba557e1ff31fb         1   \n",
       "105  2f619c9004e55bbcab8aee8353078913c64675ef         1   \n",
       "334  c497627967d0963e1a7e968fb0a0a83c3bb69f83         1   \n",
       "13   39cf23c3398969a3c37949206563f22f6a32fcad         1   \n",
       "210  449d1335ce3691fa53c5f30670be360006670f68         1   \n",
       "130  d8d094467ce56ede13dedc9da14f74dfa554ee76         1   \n",
       "204  6337197ef3383045051aac90564bb8c8b9c0ad4e         1   \n",
       "269  dcb832a7c6946b564c83a3d3244d6b2c5c0dc9cc         1   \n",
       "35   9af74e9e31e7a3db852b47dc21ae443e84a8d194         1   \n",
       "429  6424c2bef8b452de12775190ec2487966bb66d6f         1   \n",
       "81   e9632ccb78abdde9e0719db98bd7e97b58ad3f19         1   \n",
       "27   76a12d15ddd12600de572dddd2990f01a7bfab44         1   \n",
       "\n",
       "                                                 words  OCR_score  \n",
       "163  [[l m, your, fabher, 00000, rimong us, xvamafn...   0.499820  \n",
       "285  [[mong, whoisit, nol711], [56.05505704879761, ...   0.448440  \n",
       "224  [[g, us, s, xvamafil, i m, your, fabher], [92....   0.410818  \n",
       "101  [[trick, 2, i d, skip, vote, that, kini, rgenc...   0.399637  \n",
       "375                     [[smang], [61.39713525772095]]   0.368383  \n",
       "29                      [[smang], [61.39713525772095]]   0.368383  \n",
       "86   [[wond, n2, mong, us], [81.32509589195251, 97....   0.335962  \n",
       "192  [[vwona, n2, among, us], [80.08106350898743, 9...   0.333739  \n",
       "223  [[wond, n2, mong, us], [78.60596776008606, 97....   0.330741  \n",
       "77   [[vwon , n2, among, us], [80.00211119651794, 9...   0.329893  \n",
       "128  [[vwon , n2, among, us], [80.00211119651794, 9...   0.329893  \n",
       "148  [[vwon , n2, among, us], [80.00211119651794, 9...   0.329893  \n",
       "76   [[wond, n , among, u5], [81.57232999801636, 87...   0.326289  \n",
       "206  [[vwon , n2, among, us], [69.86424326896667, 9...   0.312717  \n",
       "110  [[wonc, n2, among, us], [69.20661330223083, 95...   0.309160  \n",
       "90   [[vwonc, n2, among, us], [65.65366387367249, 9...   0.308472  \n",
       "109  [[vwonc, n2, among, us], [65.65366387367249, 9...   0.308472  \n",
       "96   [[vwonc, n2, among, us], [64.45852518081665, 9...   0.301199  \n",
       "75   [[2 with, filter, pocket, 1 with, adjustment, ...   0.246390  \n",
       "37   [[type, a, 12pcs, among, us, christmas, style,...   0.245040  \n",
       "111  [[vwoud, n2, among, us], [82.06091523170471, 9...   0.234460  \n",
       "105  [[vwoud, n2, among, us], [81.94926977157593, 9...   0.234141  \n",
       "334  [[vwoud, n2, among, us], [81.77053332328796, 9...   0.233630  \n",
       "13   [[vwoud, n2, among, us], [79.32400703430176, 9...   0.226640  \n",
       "210  [[vwomc, n2, among, us], [80.64183592796326, 9...   0.222330  \n",
       "130  [[vwoud, n2, among, us], [76.93819403648376, 9...   0.219939  \n",
       "204  [[type, a, 12pcs, among, us, height, 8 11cm], ...   0.198590  \n",
       "269  [[vwomc, nz, among, us], [62.55512237548828, 9...   0.197551  \n",
       "35               [[no , 121 132], [95.71161270141602]]   0.191423  \n",
       "429  [[happy, holidaysfrom, innersloth, rimongus], ...   0.120319  \n",
       "81   [[happy, holidaysfrom, innersloth , rmongus], ...   0.119311  \n",
       "27                                            [[], []]   0.000000  "
      ]
     },
     "execution_count": 91,
     "metadata": {},
     "output_type": "execute_result"
    }
   ],
   "source": [
    "fn"
   ]
  },
  {
   "cell_type": "code",
   "execution_count": 92,
   "id": "377d62a2-1fb5-4e3f-814e-db3f039fe837",
   "metadata": {},
   "outputs": [
    {
     "name": "stdout",
     "output_type": "stream",
     "text": [
      "[['wond', 'n2', 'mong', 'us'], [81.32509589195251, 97.85457849502563]]\n",
      "0.33596188947558403\n"
     ]
    }
   ],
   "source": [
    "print(image_df.loc[86]['words'])\n",
    "print(image_df.loc[86]['OCR_score'])"
   ]
  }
 ],
 "metadata": {
  "kernelspec": {
   "display_name": "default:Python",
   "language": "python",
   "name": "conda-env-default-py"
  },
  "language_info": {
   "codemirror_mode": {
    "name": "ipython",
    "version": 3
   },
   "file_extension": ".py",
   "mimetype": "text/x-python",
   "name": "python",
   "nbconvert_exporter": "python",
   "pygments_lexer": "ipython3",
   "version": "3.9.10"
  }
 },
 "nbformat": 4,
 "nbformat_minor": 5
}
