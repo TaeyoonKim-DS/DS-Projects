{
 "cells": [
  {
   "cell_type": "code",
   "execution_count": 30,
   "id": "f2fe1854-63d1-489f-b2c8-b86328dbe251",
   "metadata": {},
   "outputs": [],
   "source": [
    "## Imports\n",
    "\n",
    "import pandas as pd\n",
    "import io\n",
    "import matplotlib.pyplot as plt\n",
    "import time\n",
    "from sklearn.metrics import roc_auc_score\n",
    "\n",
    "import re\n",
    "import string\n",
    "import nltk\n",
    "import itertools\n",
    "import numpy as np\n",
    "\n",
    "# this allows you to apply a progress bar to pandas operations\n",
    "from tqdm import tqdm\n",
    "tqdm.pandas()"
   ]
  },
  {
   "cell_type": "code",
   "execution_count": 11,
   "id": "a796843e-0f09-4596-ac5f-b0e930f7f476",
   "metadata": {},
   "outputs": [
    {
     "name": "stdout",
     "output_type": "stream",
     "text": [
      "among us\n"
     ]
    }
   ],
   "source": [
    "sample = [\"among\", \"us\", \"imposter\", \"kdhals dkjfks\", \"aksskk\"]\n",
    "scores = [1, 0.5, 1, 1, 1]\n",
    "targets = [\"among us\"]\n",
    "for target in targets:\n",
    "    print(target)"
   ]
  },
  {
   "cell_type": "code",
   "execution_count": 12,
   "id": "044db1ea-d801-4763-b0c0-b283573ee9c5",
   "metadata": {},
   "outputs": [],
   "source": [
    "import nltk"
   ]
  },
  {
   "cell_type": "code",
   "execution_count": 13,
   "id": "a362e4e5-873a-4a2f-a78b-52648a2d4c56",
   "metadata": {},
   "outputs": [
    {
     "name": "stdout",
     "output_type": "stream",
     "text": [
      "\n",
      " edit_distance: 3\n",
      "closeness: 0.625\n",
      "\n",
      " edit_distance: 6\n",
      "closeness: 0.25\n",
      "\n",
      " edit_distance: 7\n",
      "closeness: 0.125\n",
      "\n",
      " edit_distance: 11\n",
      "closeness: -0.375\n",
      "\n",
      " edit_distance: 7\n",
      "closeness: 0.125\n"
     ]
    }
   ],
   "source": [
    "max_score = 0\n",
    "\n",
    "for sample_text in sample:\n",
    "    for target in targets:\n",
    "        edit_distance = nltk.edit_distance(target, sample_text)\n",
    "        print(\"\\n edit_distance:\", edit_distance)\n",
    "        closeness = (len(target)-edit_distance)/len(target)\n",
    "        print(\"closeness:\", closeness)\n",
    "        final_score = closeness * 1\n",
    "        "
   ]
  },
  {
   "cell_type": "code",
   "execution_count": 16,
   "id": "27928669-eecf-4468-9056-f8a45100a19f",
   "metadata": {},
   "outputs": [
    {
     "name": "stdout",
     "output_type": "stream",
     "text": [
      "among us imposter kdhals dkjfks aksskk\n"
     ]
    }
   ],
   "source": [
    "new_text = \" \".join(sample)\n",
    "print(new_text)\n"
   ]
  },
  {
   "cell_type": "code",
   "execution_count": null,
   "id": "ffad2ffb-2e40-4afb-bdc8-79e2522e7ccf",
   "metadata": {},
   "outputs": [],
   "source": [
    "# funcion to change A into B \n",
    "A = [[\"among us\", \"garbage dfsd\", \"kdhalq\"], [0.8, 0.2, 0.1]]\n",
    "B = [[\"among\", \"us\", \"garbage\", \"dfsd\", \"kdhalq\"], [0.8, 0.8, 0.2, 0.2, 0.1]]"
   ]
  },
  {
   "cell_type": "code",
   "execution_count": 38,
   "id": "f10c2386-50a9-4de8-b378-811ece57b015",
   "metadata": {},
   "outputs": [
    {
     "data": {
      "text/html": [
       "<div>\n",
       "<style scoped>\n",
       "    .dataframe tbody tr th:only-of-type {\n",
       "        vertical-align: middle;\n",
       "    }\n",
       "\n",
       "    .dataframe tbody tr th {\n",
       "        vertical-align: top;\n",
       "    }\n",
       "\n",
       "    .dataframe thead th {\n",
       "        text-align: right;\n",
       "    }\n",
       "</style>\n",
       "<table border=\"1\" class=\"dataframe\">\n",
       "  <thead>\n",
       "    <tr style=\"text-align: right;\">\n",
       "      <th></th>\n",
       "      <th>words_scores</th>\n",
       "    </tr>\n",
       "  </thead>\n",
       "  <tbody>\n",
       "    <tr>\n",
       "      <th>0</th>\n",
       "      <td>[[among, us, garbage, kdhalq], [0.8, 0.2, 0.1]]</td>\n",
       "    </tr>\n",
       "    <tr>\n",
       "      <th>1</th>\n",
       "      <td>[[imposter, umongs, ,.mczxvn,], [0.9, 0.6, 0.1]]</td>\n",
       "    </tr>\n",
       "  </tbody>\n",
       "</table>\n",
       "</div>"
      ],
      "text/plain": [
       "                                       words_scores\n",
       "0   [[among, us, garbage, kdhalq], [0.8, 0.2, 0.1]]\n",
       "1  [[imposter, umongs, ,.mczxvn,], [0.9, 0.6, 0.1]]"
      ]
     },
     "execution_count": 38,
     "metadata": {},
     "output_type": "execute_result"
    }
   ],
   "source": [
    "import pandas as pd\n",
    "words_scores = [[[\"among\", \"us\", \"garbage\", \"kdhalq\"], [0.8, 0.2, 0.1]],\n",
    "               [[\"imposter\", \"umongs\", \",.mczxvn,\"], [0.9, 0.6, 0.1]]]\n",
    "test_df = pd.DataFrame()\n",
    "test_df[\"words_scores\"] = words_scores\n",
    "test_df\n",
    "\n"
   ]
  },
  {
   "cell_type": "code",
   "execution_count": 34,
   "id": "78e67f67-9326-4703-a699-f6c465c3be27",
   "metadata": {},
   "outputs": [],
   "source": [
    "# helper functions for funal scoring function\n",
    "\n",
    "def advance(iterator, step):\n",
    "    next(itertools.islice(iterator, step, step), None)\n",
    "\n",
    "def tuplewize(iterable, size):\n",
    "    iterators = itertools.tee(iterable, size)\n",
    "    for position, iterator in enumerate(iterators):\n",
    "        advance(iterator, position)\n",
    "    return zip(*iterators)"
   ]
  },
  {
   "cell_type": "code",
   "execution_count": 36,
   "id": "3d91596a-1ab0-4cfe-bb43-18e2d0dcc86e",
   "metadata": {},
   "outputs": [
    {
     "name": "stdout",
     "output_type": "stream",
     "text": [
      "among us\n",
      "('among', 'us')\n",
      "(0.8, 0.8)\n",
      "us garbage\n",
      "('us', 'garbage')\n",
      "(0.8, 0.2)\n",
      "garbage kdhalq\n",
      "('garbage', 'kdhalq')\n",
      "(0.2, 0.1)\n",
      "imposter umongs\n",
      "('imposter', 'umongs')\n",
      "(0.9, 0.6)\n",
      "umongs ,.mczxvn,\n",
      "('umongs', ',.mczxvn,')\n",
      "(0.6, 0.1)\n"
     ]
    },
    {
     "data": {
      "text/html": [
       "<div>\n",
       "<style scoped>\n",
       "    .dataframe tbody tr th:only-of-type {\n",
       "        vertical-align: middle;\n",
       "    }\n",
       "\n",
       "    .dataframe tbody tr th {\n",
       "        vertical-align: top;\n",
       "    }\n",
       "\n",
       "    .dataframe thead th {\n",
       "        text-align: right;\n",
       "    }\n",
       "</style>\n",
       "<table border=\"1\" class=\"dataframe\">\n",
       "  <thead>\n",
       "    <tr style=\"text-align: right;\">\n",
       "      <th></th>\n",
       "      <th>words_scores</th>\n",
       "      <th>OCR_score</th>\n",
       "    </tr>\n",
       "  </thead>\n",
       "  <tbody>\n",
       "    <tr>\n",
       "      <th>0</th>\n",
       "      <td>[[among, us, garbage, kdhalq], [0.8, 0.8, 0.2,...</td>\n",
       "      <td>0</td>\n",
       "    </tr>\n",
       "    <tr>\n",
       "      <th>1</th>\n",
       "      <td>[[imposter, umongs, ,.mczxvn,], [0.9, 0.6, 0.1]]</td>\n",
       "      <td>0</td>\n",
       "    </tr>\n",
       "  </tbody>\n",
       "</table>\n",
       "</div>"
      ],
      "text/plain": [
       "                                        words_scores  OCR_score\n",
       "0  [[among, us, garbage, kdhalq], [0.8, 0.8, 0.2,...          0\n",
       "1   [[imposter, umongs, ,.mczxvn,], [0.9, 0.6, 0.1]]          0"
      ]
     },
     "execution_count": 36,
     "metadata": {},
     "output_type": "execute_result"
    }
   ],
   "source": [
    "def get_final_score(row):\n",
    "    sample_list = row[\"words_scores\"][0]\n",
    "    score_list = row[\"words_scores\"][1]\n",
    "    max_score = 0\n",
    "    \n",
    "    for target in targets:\n",
    "        phrase_length = len(target.split())\n",
    "        for c, s in zip(tuplewize(sample_list, phrase_length), tuplewize(score_list, phrase_length)):\n",
    "            new_sample = \" \".join(c)\n",
    "\n",
    "    return max_score\n",
    "\n",
    "test_df[\"OCR_score\"] = test_df.apply(get_final_score, axis=1)\n",
    "test_df"
   ]
  },
  {
   "cell_type": "code",
   "execution_count": null,
   "id": "c641d1f6-cff1-48ce-b546-2e3ff9a97e6b",
   "metadata": {},
   "outputs": [],
   "source": [
    "# define function to produce final scores\n",
    "\n",
    "def get_final_score(row):\n",
    "    sample_list = row[\"words\"][0]\n",
    "    score_list = row[\"words\"][1]\n",
    "    max_score = 0\n",
    "    \n",
    "    for target in targets:\n",
    "        phrase_length = len(target.split())\n",
    "        for c, s in zip(tuplewize(sample_list, phrase_length), tuplewize(score_list, phrase_length)):\n",
    "            new_sample = \" \".join(c)\n",
    "            edit_distance = nltk.edit_distance(target, new_sample)\n",
    "            closeness = (len(target)-edit_distance)/len(target)\n",
    "            confidence_score = np.mean(s)\n",
    "            final_score = closeness * confidence_score\n",
    "            if final_score > max_score:\n",
    "                max_score = final_score\n",
    "             \n",
    "    return max_score"
   ]
  }
 ],
 "metadata": {
  "kernelspec": {
   "display_name": "default:Python",
   "language": "python",
   "name": "conda-env-default-py"
  },
  "language_info": {
   "codemirror_mode": {
    "name": "ipython",
    "version": 3
   },
   "file_extension": ".py",
   "mimetype": "text/x-python",
   "name": "python",
   "nbconvert_exporter": "python",
   "pygments_lexer": "ipython3",
   "version": "3.9.10"
  }
 },
 "nbformat": 4,
 "nbformat_minor": 5
}
