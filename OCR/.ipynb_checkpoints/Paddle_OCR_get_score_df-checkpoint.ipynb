{
 "cells": [
  {
   "cell_type": "markdown",
   "id": "43c55ea9-8efb-4d46-8397-04e79ed73c8c",
   "metadata": {},
   "source": [
    "# Import Libraries"
   ]
  },
  {
   "cell_type": "code",
   "execution_count": 9,
   "id": "1f97725b-4376-40f1-9202-1e4d269f464e",
   "metadata": {},
   "outputs": [],
   "source": [
    "import pandas as pd\n",
    "import io\n",
    "import matplotlib.pyplot as plt\n",
    "import time\n",
    "from sklearn.metrics import roc_auc_score\n",
    "\n",
    "import re\n",
    "import string\n",
    "import nltk\n",
    "import itertools\n",
    "import numpy as np\n",
    "\n",
    "# this allows you to apply a progress bar to pandas operations\n",
    "from tqdm import tqdm\n",
    "tqdm.pandas()"
   ]
  },
  {
   "cell_type": "markdown",
   "id": "4f427638-9a4b-4b7a-98fc-1fe8150028ee",
   "metadata": {},
   "source": [
    "# Install Paddle OCR & OPENCV"
   ]
  },
  {
   "cell_type": "code",
   "execution_count": 2,
   "id": "85538ff1-2971-45bc-99a6-59e0d1da73a0",
   "metadata": {
    "collapsed": true,
    "jupyter": {
     "outputs_hidden": true
    },
    "tags": []
   },
   "outputs": [
    {
     "name": "stdout",
     "output_type": "stream",
     "text": [
      "Looking in indexes: https://mirror.baidu.com/pypi/simple\n",
      "Requirement already satisfied: paddlepaddle in /home/studio-lab-user/.conda/envs/default/lib/python3.9/site-packages (2.1.2)\n",
      "Requirement already satisfied: protobuf>=3.1.0 in /home/studio-lab-user/.conda/envs/default/lib/python3.9/site-packages (from paddlepaddle) (3.20.1)\n",
      "Requirement already satisfied: Pillow in /home/studio-lab-user/.conda/envs/default/lib/python3.9/site-packages (from paddlepaddle) (9.2.0)\n",
      "Requirement already satisfied: six in /home/studio-lab-user/.conda/envs/default/lib/python3.9/site-packages (from paddlepaddle) (1.16.0)\n",
      "Requirement already satisfied: decorator in /home/studio-lab-user/.conda/envs/default/lib/python3.9/site-packages (from paddlepaddle) (5.1.1)\n",
      "Requirement already satisfied: gast<=0.4.0,>=0.3.3 in /home/studio-lab-user/.conda/envs/default/lib/python3.9/site-packages (from paddlepaddle) (0.4.0)\n",
      "Requirement already satisfied: requests>=2.20.0 in /home/studio-lab-user/.conda/envs/default/lib/python3.9/site-packages (from paddlepaddle) (2.27.1)\n",
      "Requirement already satisfied: astor in /home/studio-lab-user/.conda/envs/default/lib/python3.9/site-packages (from paddlepaddle) (0.8.1)\n",
      "Requirement already satisfied: numpy>=1.13 in /home/studio-lab-user/.conda/envs/default/lib/python3.9/site-packages (from paddlepaddle) (1.23.1)\n",
      "Requirement already satisfied: idna<4,>=2.5 in /home/studio-lab-user/.conda/envs/default/lib/python3.9/site-packages (from requests>=2.20.0->paddlepaddle) (2.10)\n",
      "Requirement already satisfied: charset-normalizer~=2.0.0 in /home/studio-lab-user/.conda/envs/default/lib/python3.9/site-packages (from requests>=2.20.0->paddlepaddle) (2.0.12)\n",
      "Requirement already satisfied: urllib3<1.27,>=1.21.1 in /home/studio-lab-user/.conda/envs/default/lib/python3.9/site-packages (from requests>=2.20.0->paddlepaddle) (1.26.6)\n",
      "Requirement already satisfied: certifi>=2017.4.17 in /home/studio-lab-user/.conda/envs/default/lib/python3.9/site-packages (from requests>=2.20.0->paddlepaddle) (2021.5.30)\n",
      "Requirement already satisfied: paddleocr in /home/studio-lab-user/.conda/envs/default/lib/python3.9/site-packages (2.6)\n",
      "Requirement already satisfied: scikit-image in /home/studio-lab-user/.conda/envs/default/lib/python3.9/site-packages (from paddleocr) (0.19.3)\n",
      "Requirement already satisfied: cython in /home/studio-lab-user/.conda/envs/default/lib/python3.9/site-packages (from paddleocr) (0.29.32)\n",
      "Requirement already satisfied: imgaug in /home/studio-lab-user/.conda/envs/default/lib/python3.9/site-packages (from paddleocr) (0.4.0)\n",
      "Requirement already satisfied: openpyxl in /home/studio-lab-user/.conda/envs/default/lib/python3.9/site-packages (from paddleocr) (3.0.10)\n",
      "Requirement already satisfied: tqdm in /home/studio-lab-user/.conda/envs/default/lib/python3.9/site-packages (from paddleocr) (4.64.0)\n",
      "Requirement already satisfied: lxml in /home/studio-lab-user/.conda/envs/default/lib/python3.9/site-packages (from paddleocr) (4.9.1)\n",
      "Requirement already satisfied: pyclipper in /home/studio-lab-user/.conda/envs/default/lib/python3.9/site-packages (from paddleocr) (1.3.0.post3)\n",
      "Requirement already satisfied: numpy in /home/studio-lab-user/.conda/envs/default/lib/python3.9/site-packages (from paddleocr) (1.23.1)\n",
      "Requirement already satisfied: attrdict in /home/studio-lab-user/.conda/envs/default/lib/python3.9/site-packages (from paddleocr) (2.0.1)\n",
      "Requirement already satisfied: premailer in /home/studio-lab-user/.conda/envs/default/lib/python3.9/site-packages (from paddleocr) (3.10.0)\n",
      "Requirement already satisfied: lmdb in /home/studio-lab-user/.conda/envs/default/lib/python3.9/site-packages (from paddleocr) (1.3.0)\n",
      "Requirement already satisfied: rapidfuzz in /home/studio-lab-user/.conda/envs/default/lib/python3.9/site-packages (from paddleocr) (2.6.0)\n",
      "Requirement already satisfied: shapely in /home/studio-lab-user/.conda/envs/default/lib/python3.9/site-packages (from paddleocr) (1.8.4)\n",
      "Requirement already satisfied: visualdl in /home/studio-lab-user/.conda/envs/default/lib/python3.9/site-packages (from paddleocr) (2.4.0)\n",
      "Requirement already satisfied: opencv-contrib-python in /home/studio-lab-user/.conda/envs/default/lib/python3.9/site-packages (from paddleocr) (4.6.0.66)\n",
      "Requirement already satisfied: six in /home/studio-lab-user/.conda/envs/default/lib/python3.9/site-packages (from attrdict->paddleocr) (1.16.0)\n",
      "Requirement already satisfied: Pillow in /home/studio-lab-user/.conda/envs/default/lib/python3.9/site-packages (from imgaug->paddleocr) (9.2.0)\n",
      "Requirement already satisfied: opencv-python in /home/studio-lab-user/.conda/envs/default/lib/python3.9/site-packages (from imgaug->paddleocr) (4.5.5.64)\n",
      "Requirement already satisfied: imageio in /home/studio-lab-user/.conda/envs/default/lib/python3.9/site-packages (from imgaug->paddleocr) (2.21.2)\n",
      "Requirement already satisfied: matplotlib in /home/studio-lab-user/.conda/envs/default/lib/python3.9/site-packages (from imgaug->paddleocr) (3.5.2)\n",
      "Requirement already satisfied: scipy in /home/studio-lab-user/.conda/envs/default/lib/python3.9/site-packages (from imgaug->paddleocr) (1.8.1)\n",
      "Requirement already satisfied: PyWavelets>=1.1.1 in /home/studio-lab-user/.conda/envs/default/lib/python3.9/site-packages (from scikit-image->paddleocr) (1.3.0)\n",
      "Requirement already satisfied: tifffile>=2019.7.26 in /home/studio-lab-user/.conda/envs/default/lib/python3.9/site-packages (from scikit-image->paddleocr) (2022.8.12)\n",
      "Requirement already satisfied: packaging>=20.0 in /home/studio-lab-user/.conda/envs/default/lib/python3.9/site-packages (from scikit-image->paddleocr) (21.3)\n",
      "Requirement already satisfied: networkx>=2.2 in /home/studio-lab-user/.conda/envs/default/lib/python3.9/site-packages (from scikit-image->paddleocr) (2.8.6)\n",
      "Requirement already satisfied: et-xmlfile in /home/studio-lab-user/.conda/envs/default/lib/python3.9/site-packages (from openpyxl->paddleocr) (1.1.0)\n",
      "Requirement already satisfied: cssutils in /home/studio-lab-user/.conda/envs/default/lib/python3.9/site-packages (from premailer->paddleocr) (2.6.0)\n",
      "Requirement already satisfied: cachetools in /home/studio-lab-user/.conda/envs/default/lib/python3.9/site-packages (from premailer->paddleocr) (5.2.0)\n",
      "Requirement already satisfied: cssselect in /home/studio-lab-user/.conda/envs/default/lib/python3.9/site-packages (from premailer->paddleocr) (1.1.0)\n",
      "Requirement already satisfied: requests in /home/studio-lab-user/.conda/envs/default/lib/python3.9/site-packages (from premailer->paddleocr) (2.27.1)\n",
      "Requirement already satisfied: jarowinkler<2.0.0,>=1.2.0 in /home/studio-lab-user/.conda/envs/default/lib/python3.9/site-packages (from rapidfuzz->paddleocr) (1.2.1)\n",
      "Requirement already satisfied: pandas in /home/studio-lab-user/.conda/envs/default/lib/python3.9/site-packages (from visualdl->paddleocr) (1.4.2)\n",
      "Requirement already satisfied: Flask-Babel>=1.0.0 in /home/studio-lab-user/.conda/envs/default/lib/python3.9/site-packages (from visualdl->paddleocr) (2.0.0)\n",
      "Requirement already satisfied: bce-python-sdk in /home/studio-lab-user/.conda/envs/default/lib/python3.9/site-packages (from visualdl->paddleocr) (0.8.74)\n",
      "Requirement already satisfied: protobuf>=3.11.0 in /home/studio-lab-user/.conda/envs/default/lib/python3.9/site-packages (from visualdl->paddleocr) (3.20.1)\n",
      "Requirement already satisfied: flask>=1.1.1 in /home/studio-lab-user/.conda/envs/default/lib/python3.9/site-packages (from visualdl->paddleocr) (2.2.2)\n",
      "Requirement already satisfied: importlib-metadata>=3.6.0 in /home/studio-lab-user/.conda/envs/default/lib/python3.9/site-packages (from flask>=1.1.1->visualdl->paddleocr) (4.11.1)\n",
      "Requirement already satisfied: click>=8.0 in /home/studio-lab-user/.conda/envs/default/lib/python3.9/site-packages (from flask>=1.1.1->visualdl->paddleocr) (8.1.3)\n",
      "Requirement already satisfied: Werkzeug>=2.2.2 in /home/studio-lab-user/.conda/envs/default/lib/python3.9/site-packages (from flask>=1.1.1->visualdl->paddleocr) (2.2.2)\n",
      "Requirement already satisfied: Jinja2>=3.0 in /home/studio-lab-user/.conda/envs/default/lib/python3.9/site-packages (from flask>=1.1.1->visualdl->paddleocr) (3.0.3)\n",
      "Requirement already satisfied: itsdangerous>=2.0 in /home/studio-lab-user/.conda/envs/default/lib/python3.9/site-packages (from flask>=1.1.1->visualdl->paddleocr) (2.1.2)\n",
      "Requirement already satisfied: pytz in /home/studio-lab-user/.conda/envs/default/lib/python3.9/site-packages (from Flask-Babel>=1.0.0->visualdl->paddleocr) (2022.1)\n",
      "Requirement already satisfied: Babel>=2.3 in /home/studio-lab-user/.conda/envs/default/lib/python3.9/site-packages (from Flask-Babel>=1.0.0->visualdl->paddleocr) (2.10.3)\n",
      "Requirement already satisfied: pyparsing!=3.0.5,>=2.0.2 in /home/studio-lab-user/.conda/envs/default/lib/python3.9/site-packages (from packaging>=20.0->scikit-image->paddleocr) (2.4.7)\n",
      "Requirement already satisfied: pycryptodome>=3.8.0 in /home/studio-lab-user/.conda/envs/default/lib/python3.9/site-packages (from bce-python-sdk->visualdl->paddleocr) (3.15.0)\n",
      "Requirement already satisfied: future>=0.6.0 in /home/studio-lab-user/.conda/envs/default/lib/python3.9/site-packages (from bce-python-sdk->visualdl->paddleocr) (0.18.2)\n",
      "Requirement already satisfied: fonttools>=4.22.0 in /home/studio-lab-user/.conda/envs/default/lib/python3.9/site-packages (from matplotlib->imgaug->paddleocr) (4.33.3)\n",
      "Requirement already satisfied: cycler>=0.10 in /home/studio-lab-user/.conda/envs/default/lib/python3.9/site-packages (from matplotlib->imgaug->paddleocr) (0.10.0)\n",
      "Requirement already satisfied: python-dateutil>=2.7 in /home/studio-lab-user/.conda/envs/default/lib/python3.9/site-packages (from matplotlib->imgaug->paddleocr) (2.8.2)\n",
      "Requirement already satisfied: kiwisolver>=1.0.1 in /home/studio-lab-user/.conda/envs/default/lib/python3.9/site-packages (from matplotlib->imgaug->paddleocr) (1.3.1)\n",
      "Requirement already satisfied: charset-normalizer~=2.0.0 in /home/studio-lab-user/.conda/envs/default/lib/python3.9/site-packages (from requests->premailer->paddleocr) (2.0.12)\n",
      "Requirement already satisfied: idna<4,>=2.5 in /home/studio-lab-user/.conda/envs/default/lib/python3.9/site-packages (from requests->premailer->paddleocr) (2.10)\n",
      "Requirement already satisfied: urllib3<1.27,>=1.21.1 in /home/studio-lab-user/.conda/envs/default/lib/python3.9/site-packages (from requests->premailer->paddleocr) (1.26.6)\n",
      "Requirement already satisfied: certifi>=2017.4.17 in /home/studio-lab-user/.conda/envs/default/lib/python3.9/site-packages (from requests->premailer->paddleocr) (2021.5.30)\n",
      "Requirement already satisfied: zipp>=0.5 in /home/studio-lab-user/.conda/envs/default/lib/python3.9/site-packages (from importlib-metadata>=3.6.0->flask>=1.1.1->visualdl->paddleocr) (3.7.0)\n",
      "Requirement already satisfied: MarkupSafe>=2.0 in /home/studio-lab-user/.conda/envs/default/lib/python3.9/site-packages (from Jinja2>=3.0->flask>=1.1.1->visualdl->paddleocr) (2.1.1)\n",
      "fatal: destination path 'PaddleOCR' already exists and is not an empty directory.\n",
      "Requirement already satisfied: opencv-python-headless<4.3 in /home/studio-lab-user/.conda/envs/default/lib/python3.9/site-packages (3.4.18.65)\n",
      "Requirement already satisfied: numpy>=1.14.5 in /home/studio-lab-user/.conda/envs/default/lib/python3.9/site-packages (from opencv-python-headless<4.3) (1.23.1)\n"
     ]
    }
   ],
   "source": [
    "# Github repo installation of paddle\n",
    "!python -m pip install paddlepaddle -i https://mirror.baidu.com/pypi/simple\n",
    "# Install paddle OCR\n",
    "!pip install paddleocr\n",
    "# git clone\n",
    "!git clone https://github.com/PaddlePaddle/PaddleOCR.git\n",
    "# cv2\n",
    "!pip install \"opencv-python-headless<4.3\"\n"
   ]
  },
  {
   "cell_type": "markdown",
   "id": "d20d1fa0-2150-41fb-bbfa-ce0570be6ec2",
   "metadata": {},
   "source": [
    "# Import Libraries 2"
   ]
  },
  {
   "cell_type": "code",
   "execution_count": 3,
   "id": "cab0ddd5-f5b3-4b82-b4c2-2e526102dd34",
   "metadata": {
    "tags": []
   },
   "outputs": [
    {
     "name": "stderr",
     "output_type": "stream",
     "text": [
      "/home/studio-lab-user/.conda/envs/default/lib/python3.9/site-packages/paddle/vision/transforms/functional_pil.py:36: DeprecationWarning: NEAREST is deprecated and will be removed in Pillow 10 (2023-07-01). Use Resampling.NEAREST or Dither.NONE instead.\n",
      "  'nearest': Image.NEAREST,\n",
      "/home/studio-lab-user/.conda/envs/default/lib/python3.9/site-packages/paddle/vision/transforms/functional_pil.py:37: DeprecationWarning: BILINEAR is deprecated and will be removed in Pillow 10 (2023-07-01). Use Resampling.BILINEAR instead.\n",
      "  'bilinear': Image.BILINEAR,\n",
      "/home/studio-lab-user/.conda/envs/default/lib/python3.9/site-packages/paddle/vision/transforms/functional_pil.py:38: DeprecationWarning: BICUBIC is deprecated and will be removed in Pillow 10 (2023-07-01). Use Resampling.BICUBIC instead.\n",
      "  'bicubic': Image.BICUBIC,\n",
      "/home/studio-lab-user/.conda/envs/default/lib/python3.9/site-packages/paddle/vision/transforms/functional_pil.py:39: DeprecationWarning: BOX is deprecated and will be removed in Pillow 10 (2023-07-01). Use Resampling.BOX instead.\n",
      "  'box': Image.BOX,\n",
      "/home/studio-lab-user/.conda/envs/default/lib/python3.9/site-packages/paddle/vision/transforms/functional_pil.py:40: DeprecationWarning: LANCZOS is deprecated and will be removed in Pillow 10 (2023-07-01). Use Resampling.LANCZOS instead.\n",
      "  'lanczos': Image.LANCZOS,\n",
      "/home/studio-lab-user/.conda/envs/default/lib/python3.9/site-packages/paddle/vision/transforms/functional_pil.py:41: DeprecationWarning: HAMMING is deprecated and will be removed in Pillow 10 (2023-07-01). Use Resampling.HAMMING instead.\n",
      "  'hamming': Image.HAMMING\n"
     ]
    }
   ],
   "source": [
    "import cv2\n",
    "from paddleocr import PaddleOCR, draw_ocr\n",
    "from matplotlib import pyplot as plt\n",
    "import os"
   ]
  },
  {
   "cell_type": "markdown",
   "id": "28784da4-ab3b-48e7-8050-8c1632ba70cb",
   "metadata": {},
   "source": [
    "# Define ocr_model = PaddleOCR. return text"
   ]
  },
  {
   "cell_type": "code",
   "execution_count": 4,
   "id": "6ccc9dfc-7719-4d65-a24a-466faa9ff560",
   "metadata": {
    "tags": []
   },
   "outputs": [
    {
     "name": "stdout",
     "output_type": "stream",
     "text": [
      "[2022/09/06 09:32:03] ppocr DEBUG: Namespace(help='==SUPPRESS==', use_gpu=False, use_xpu=False, ir_optim=True, use_tensorrt=False, min_subgraph_size=15, shape_info_filename=None, precision='fp32', gpu_mem=500, image_dir=None, det_algorithm='DB', det_model_dir='/home/studio-lab-user/.paddleocr/whl/det/en/en_PP-OCRv3_det_infer', det_limit_side_len=960, det_limit_type='max', det_db_thresh=0.3, det_db_box_thresh=0.6, det_db_unclip_ratio=1.5, max_batch_size=10, use_dilation=False, det_db_score_mode='fast', det_east_score_thresh=0.8, det_east_cover_thresh=0.1, det_east_nms_thresh=0.2, det_sast_score_thresh=0.5, det_sast_nms_thresh=0.2, det_sast_polygon=False, det_pse_thresh=0, det_pse_box_thresh=0.85, det_pse_min_area=16, det_pse_box_type='quad', det_pse_scale=1, scales=[8, 16, 32], alpha=1.0, beta=1.0, fourier_degree=5, det_fce_box_type='poly', rec_algorithm='SVTR_LCNet', rec_model_dir='/home/studio-lab-user/.paddleocr/whl/rec/en/en_PP-OCRv3_rec_infer', rec_image_shape='3, 48, 320', rec_batch_num=6, max_text_length=25, rec_char_dict_path='/home/studio-lab-user/.conda/envs/default/lib/python3.9/site-packages/paddleocr/ppocr/utils/en_dict.txt', use_space_char=True, vis_font_path='./doc/fonts/simfang.ttf', drop_score=0.5, e2e_algorithm='PGNet', e2e_model_dir=None, e2e_limit_side_len=768, e2e_limit_type='max', e2e_pgnet_score_thresh=0.5, e2e_char_dict_path='./ppocr/utils/ic15_dict.txt', e2e_pgnet_valid_set='totaltext', e2e_pgnet_mode='fast', use_angle_cls=False, cls_model_dir='/home/studio-lab-user/.paddleocr/whl/cls/ch_ppocr_mobile_v2.0_cls_infer', cls_image_shape='3, 48, 192', label_list=['0', '180'], cls_batch_num=6, cls_thresh=0.9, enable_mkldnn=False, cpu_threads=10, use_pdserving=False, warmup=False, sr_model_dir=None, sr_image_shape='3, 32, 128', sr_batch_num=1, draw_img_save_dir='./inference_results', save_crop_res=False, crop_res_save_dir='./output', use_mp=False, total_process_num=1, process_id=0, benchmark=False, save_log_path='./log_output/', show_log=True, use_onnx=False, output='./output', table_max_len=488, table_algorithm='TableAttn', table_model_dir=None, merge_no_span_structure=True, table_char_dict_path=None, layout_model_dir=None, layout_dict_path=None, layout_score_threshold=0.5, layout_nms_threshold=0.5, kie_algorithm='LayoutXLM', ser_model_dir=None, ser_dict_path='../train_data/XFUND/class_list_xfun.txt', ocr_order_method=None, mode='structure', image_orientation=False, layout=True, table=True, ocr=True, recovery=False, save_pdf=False, lang='en', det=True, rec=True, type='ocr', ocr_version='PP-OCRv3', structure_version='PP-Structurev2')\n"
     ]
    },
    {
     "name": "stderr",
     "output_type": "stream",
     "text": [
      "\u001b[37m---    Fused 0 subgraphs into layer_norm op.\u001b[0m\n",
      "\u001b[37m---    Fused 0 subgraphs into layer_norm op.\u001b[0m\n"
     ]
    }
   ],
   "source": [
    "ocr_model = PaddleOCR(lang='en')"
   ]
  },
  {
   "cell_type": "markdown",
   "id": "e907063a-cef0-40c6-a525-227bf47c0346",
   "metadata": {},
   "source": [
    "# Read_csv from SWOOP after image & text analysis"
   ]
  },
  {
   "cell_type": "code",
   "execution_count": 5,
   "id": "41e9aa4d-9a7c-43a8-90b1-03526a27f11c",
   "metadata": {
    "tags": []
   },
   "outputs": [
    {
     "data": {
      "text/html": [
       "<div>\n",
       "<style scoped>\n",
       "    .dataframe tbody tr th:only-of-type {\n",
       "        vertical-align: middle;\n",
       "    }\n",
       "\n",
       "    .dataframe tbody tr th {\n",
       "        vertical-align: top;\n",
       "    }\n",
       "\n",
       "    .dataframe thead th {\n",
       "        text-align: right;\n",
       "    }\n",
       "</style>\n",
       "<table border=\"1\" class=\"dataframe\">\n",
       "  <thead>\n",
       "    <tr style=\"text-align: right;\">\n",
       "      <th></th>\n",
       "      <th>Unnamed: 0</th>\n",
       "      <th>id</th>\n",
       "      <th>description</th>\n",
       "      <th>image</th>\n",
       "      <th>images</th>\n",
       "      <th>relevant</th>\n",
       "      <th>processed_description</th>\n",
       "      <th>text_score</th>\n",
       "    </tr>\n",
       "  </thead>\n",
       "  <tbody>\n",
       "    <tr>\n",
       "      <th>0</th>\n",
       "      <td>0</td>\n",
       "      <td>918707</td>\n",
       "      <td>Boys Among Us Hoodies Super Cool Print Clothes...</td>\n",
       "      <td>968bf5e6c99211c2ad8ac27fa55e4651b941d137</td>\n",
       "      <td>['968bf5e6c99211c2ad8ac27fa55e4651b941d137']</td>\n",
       "      <td>1</td>\n",
       "      <td>boys among us hoodies super cool print clothes...</td>\n",
       "      <td>0.192416</td>\n",
       "    </tr>\n",
       "    <tr>\n",
       "      <th>1</th>\n",
       "      <td>1</td>\n",
       "      <td>918708</td>\n",
       "      <td>Cat And Dog Cardboard Printing Jigsaw Puzzle M...</td>\n",
       "      <td>68ece3fab138feb537eee296f3348f3543e23a1d</td>\n",
       "      <td>['68ece3fab138feb537eee296f3348f3543e23a1d', '...</td>\n",
       "      <td>0</td>\n",
       "      <td>cat dog cardboard printing jigsaw puzzle manuf...</td>\n",
       "      <td>0.030835</td>\n",
       "    </tr>\n",
       "    <tr>\n",
       "      <th>2</th>\n",
       "      <td>2</td>\n",
       "      <td>918709</td>\n",
       "      <td>0098 30 Pcs 21pack Sensory 4 Piece Puzzle Fidg...</td>\n",
       "      <td>a31d8c30452d17221b0d8d4f9ccf50bf8dfff0cf</td>\n",
       "      <td>['a31d8c30452d17221b0d8d4f9ccf50bf8dfff0cf', '...</td>\n",
       "      <td>0</td>\n",
       "      <td>0098 30 pcs 21pack sensory 4 piece puzzle fidg...</td>\n",
       "      <td>0.001173</td>\n",
       "    </tr>\n",
       "    <tr>\n",
       "      <th>3</th>\n",
       "      <td>3</td>\n",
       "      <td>918710</td>\n",
       "      <td>Boys Sweatshirt Among us 3D Hoodies Cool Fashi...</td>\n",
       "      <td>a278812a832f24a822e2602b91a7b1f5749926cb</td>\n",
       "      <td>['a278812a832f24a822e2602b91a7b1f5749926cb']</td>\n",
       "      <td>1</td>\n",
       "      <td>boys sweatshirt among us 3d hoodies cool fashi...</td>\n",
       "      <td>0.275841</td>\n",
       "    </tr>\n",
       "    <tr>\n",
       "      <th>4</th>\n",
       "      <td>4</td>\n",
       "      <td>918711</td>\n",
       "      <td>20cm Among Us Soft Plush Toys Vocal Butt Toy S...</td>\n",
       "      <td>3f7fc0f877323f4b74cb9a4c3847d3eea6f3ae5a</td>\n",
       "      <td>['3f7fc0f877323f4b74cb9a4c3847d3eea6f3ae5a']</td>\n",
       "      <td>0</td>\n",
       "      <td>20cm among us soft plush toys vocal butt toy s...</td>\n",
       "      <td>0.000861</td>\n",
       "    </tr>\n",
       "  </tbody>\n",
       "</table>\n",
       "</div>"
      ],
      "text/plain": [
       "   Unnamed: 0      id                                        description  \\\n",
       "0           0  918707  Boys Among Us Hoodies Super Cool Print Clothes...   \n",
       "1           1  918708  Cat And Dog Cardboard Printing Jigsaw Puzzle M...   \n",
       "2           2  918709  0098 30 Pcs 21pack Sensory 4 Piece Puzzle Fidg...   \n",
       "3           3  918710  Boys Sweatshirt Among us 3D Hoodies Cool Fashi...   \n",
       "4           4  918711  20cm Among Us Soft Plush Toys Vocal Butt Toy S...   \n",
       "\n",
       "                                      image  \\\n",
       "0  968bf5e6c99211c2ad8ac27fa55e4651b941d137   \n",
       "1  68ece3fab138feb537eee296f3348f3543e23a1d   \n",
       "2  a31d8c30452d17221b0d8d4f9ccf50bf8dfff0cf   \n",
       "3  a278812a832f24a822e2602b91a7b1f5749926cb   \n",
       "4  3f7fc0f877323f4b74cb9a4c3847d3eea6f3ae5a   \n",
       "\n",
       "                                              images  relevant  \\\n",
       "0       ['968bf5e6c99211c2ad8ac27fa55e4651b941d137']         1   \n",
       "1  ['68ece3fab138feb537eee296f3348f3543e23a1d', '...         0   \n",
       "2  ['a31d8c30452d17221b0d8d4f9ccf50bf8dfff0cf', '...         0   \n",
       "3       ['a278812a832f24a822e2602b91a7b1f5749926cb']         1   \n",
       "4       ['3f7fc0f877323f4b74cb9a4c3847d3eea6f3ae5a']         0   \n",
       "\n",
       "                               processed_description  text_score  \n",
       "0  boys among us hoodies super cool print clothes...    0.192416  \n",
       "1  cat dog cardboard printing jigsaw puzzle manuf...    0.030835  \n",
       "2  0098 30 pcs 21pack sensory 4 piece puzzle fidg...    0.001173  \n",
       "3  boys sweatshirt among us 3d hoodies cool fashi...    0.275841  \n",
       "4  20cm among us soft plush toys vocal butt toy s...    0.000861  "
      ]
     },
     "execution_count": 5,
     "metadata": {},
     "output_type": "execute_result"
    }
   ],
   "source": [
    "# To pull in previusly save data\n",
    "import pandas as pd\n",
    "data = pd.read_csv(\"image_relevant.csv\", encoding='latin')\n",
    "data.head()"
   ]
  },
  {
   "cell_type": "markdown",
   "id": "acdea645-fe61-4e4a-a020-e626d3d62ec5",
   "metadata": {},
   "source": [
    "# Slicing 'Image' and 'Relevant' columns and create a dataframe"
   ]
  },
  {
   "cell_type": "code",
   "execution_count": 6,
   "id": "410a7585-28f6-40e4-bdfb-63b58580ddd4",
   "metadata": {},
   "outputs": [],
   "source": [
    "image_df = data[['image','relevant']]"
   ]
  },
  {
   "cell_type": "code",
   "execution_count": 10,
   "id": "4ad8a5a5-3cdd-45aa-bfa7-21e65d4f8966",
   "metadata": {
    "tags": []
   },
   "outputs": [
    {
     "data": {
      "text/plain": [
       "469"
      ]
     },
     "execution_count": 10,
     "metadata": {},
     "output_type": "execute_result"
    }
   ],
   "source": [
    "image_df.head()\n",
    "len(image_df)"
   ]
  },
  {
   "cell_type": "markdown",
   "id": "2f0e9958-cb34-4334-85f9-261581537f3b",
   "metadata": {},
   "source": [
    "# Define words & Scores output from Paadle OCR"
   ]
  },
  {
   "cell_type": "code",
   "execution_count": 11,
   "id": "784eeb67-f0be-486e-be84-3b90aacc9f5e",
   "metadata": {},
   "outputs": [],
   "source": [
    "def get_words_and_scores_and_add_to_dataframe(row):\n",
    "    photo = row[\"image\"]\n",
    "    if photo == \"empty\":\n",
    "        return [[],[]]\n",
    "    final = []\n",
    "    image_path = f\"/home/studio-lab-user/DS-Projects/OCR/SWOOP_OCR_images/{photo}.jpg\"\n",
    "    result = ocr_model.ocr(image_path)\n",
    "    texts = [res[1][0] for res in result]\n",
    "    # for word in texts:\n",
    "    #     final.extend(word.split())\n",
    "    scores = [res[1][1] *100 for res in result]\n",
    "    result = [texts, scores]\n",
    "    return result"
   ]
  },
  {
   "cell_type": "markdown",
   "id": "bd55ed1d-87e2-44d2-b6e7-6ac75789a3bb",
   "metadata": {},
   "source": [
    "# Apply(function, axis=1) to image_df. GPU takes 0.1s, CPU takes 1s"
   ]
  },
  {
   "cell_type": "code",
   "execution_count": null,
   "id": "f0898b79-6b0c-473e-8aff-79dfb3888fc5",
   "metadata": {
    "tags": []
   },
   "outputs": [
    {
     "name": "stdout",
     "output_type": "stream",
     "text": [
      "[2022/09/06 09:32:50] ppocr WARNING: Since the angle classifier is not initialized, the angle classifier will not be uesd during the forward process\n",
      "[2022/09/06 09:32:51] ppocr DEBUG: dt_boxes num : 2, elapse : 0.764662504196167\n",
      "[2022/09/06 09:32:51] ppocr DEBUG: rec_res num  : 2, elapse : 0.14484906196594238\n",
      "[2022/09/06 09:32:51] ppocr WARNING: Since the angle classifier is not initialized, the angle classifier will not be uesd during the forward process\n",
      "[2022/09/06 09:32:52] ppocr DEBUG: dt_boxes num : 1, elapse : 0.7796931266784668\n",
      "[2022/09/06 09:32:52] ppocr DEBUG: rec_res num  : 1, elapse : 0.10230255126953125\n",
      "[2022/09/06 09:32:52] ppocr WARNING: Since the angle classifier is not initialized, the angle classifier will not be uesd during the forward process\n",
      "[2022/09/06 09:32:52] ppocr DEBUG: dt_boxes num : 0, elapse : 0.07107996940612793\n",
      "[2022/09/06 09:32:52] ppocr DEBUG: rec_res num  : 0, elapse : 1.1920928955078125e-06\n",
      "[2022/09/06 09:32:52] ppocr WARNING: Since the angle classifier is not initialized, the angle classifier will not be uesd during the forward process\n",
      "[2022/09/06 09:32:52] ppocr DEBUG: dt_boxes num : 1, elapse : 0.4977223873138428\n",
      "[2022/09/06 09:32:52] ppocr DEBUG: rec_res num  : 1, elapse : 0.07139348983764648\n",
      "[2022/09/06 09:32:52] ppocr WARNING: Since the angle classifier is not initialized, the angle classifier will not be uesd during the forward process\n",
      "[2022/09/06 09:32:53] ppocr DEBUG: dt_boxes num : 2, elapse : 0.7118368148803711\n",
      "[2022/09/06 09:32:53] ppocr DEBUG: rec_res num  : 2, elapse : 0.21370911598205566\n",
      "[2022/09/06 09:32:53] ppocr WARNING: Since the angle classifier is not initialized, the angle classifier will not be uesd during the forward process\n",
      "[2022/09/06 09:32:54] ppocr DEBUG: dt_boxes num : 0, elapse : 0.4962470531463623\n",
      "[2022/09/06 09:32:54] ppocr DEBUG: rec_res num  : 0, elapse : 1.6689300537109375e-06\n",
      "[2022/09/06 09:32:54] ppocr WARNING: Since the angle classifier is not initialized, the angle classifier will not be uesd during the forward process\n",
      "[2022/09/06 09:32:55] ppocr DEBUG: dt_boxes num : 10, elapse : 0.712364912033081\n",
      "[2022/09/06 09:32:55] ppocr DEBUG: rec_res num  : 10, elapse : 0.7996323108673096\n",
      "[2022/09/06 09:32:55] ppocr WARNING: Since the angle classifier is not initialized, the angle classifier will not be uesd during the forward process\n",
      "[2022/09/06 09:32:56] ppocr DEBUG: dt_boxes num : 2, elapse : 0.657860517501831\n",
      "[2022/09/06 09:32:56] ppocr DEBUG: rec_res num  : 2, elapse : 0.1337573528289795\n",
      "[2022/09/06 09:32:56] ppocr WARNING: Since the angle classifier is not initialized, the angle classifier will not be uesd during the forward process\n",
      "[2022/09/06 09:32:57] ppocr DEBUG: dt_boxes num : 0, elapse : 0.7088134288787842\n",
      "[2022/09/06 09:32:57] ppocr DEBUG: rec_res num  : 0, elapse : 1.9073486328125e-06\n",
      "[2022/09/06 09:32:57] ppocr WARNING: Since the angle classifier is not initialized, the angle classifier will not be uesd during the forward process\n",
      "[2022/09/06 09:32:58] ppocr DEBUG: dt_boxes num : 0, elapse : 0.5692989826202393\n",
      "[2022/09/06 09:32:58] ppocr DEBUG: rec_res num  : 0, elapse : 1.9073486328125e-06\n",
      "[2022/09/06 09:32:58] ppocr WARNING: Since the angle classifier is not initialized, the angle classifier will not be uesd during the forward process\n",
      "[2022/09/06 09:32:58] ppocr DEBUG: dt_boxes num : 0, elapse : 0.4895284175872803\n",
      "[2022/09/06 09:32:58] ppocr DEBUG: rec_res num  : 0, elapse : 1.6689300537109375e-06\n",
      "[2022/09/06 09:32:58] ppocr WARNING: Since the angle classifier is not initialized, the angle classifier will not be uesd during the forward process\n",
      "[2022/09/06 09:32:59] ppocr DEBUG: dt_boxes num : 1, elapse : 0.4981846809387207\n",
      "[2022/09/06 09:32:59] ppocr DEBUG: rec_res num  : 1, elapse : 0.06729316711425781\n",
      "[2022/09/06 09:32:59] ppocr WARNING: Since the angle classifier is not initialized, the angle classifier will not be uesd during the forward process\n",
      "[2022/09/06 09:32:59] ppocr DEBUG: dt_boxes num : 0, elapse : 0.4941370487213135\n",
      "[2022/09/06 09:32:59] ppocr DEBUG: rec_res num  : 0, elapse : 1.6689300537109375e-06\n",
      "[2022/09/06 09:32:59] ppocr WARNING: Since the angle classifier is not initialized, the angle classifier will not be uesd during the forward process\n",
      "[2022/09/06 09:33:00] ppocr DEBUG: dt_boxes num : 3, elapse : 0.5032742023468018\n",
      "[2022/09/06 09:33:00] ppocr DEBUG: rec_res num  : 3, elapse : 0.20055317878723145\n",
      "[2022/09/06 09:33:00] ppocr WARNING: Since the angle classifier is not initialized, the angle classifier will not be uesd during the forward process\n",
      "[2022/09/06 09:33:00] ppocr DEBUG: dt_boxes num : 0, elapse : 0.4271433353424072\n",
      "[2022/09/06 09:33:00] ppocr DEBUG: rec_res num  : 0, elapse : 1.1920928955078125e-06\n",
      "[2022/09/06 09:33:00] ppocr WARNING: Since the angle classifier is not initialized, the angle classifier will not be uesd during the forward process\n",
      "[2022/09/06 09:33:01] ppocr DEBUG: dt_boxes num : 0, elapse : 0.5010983943939209\n",
      "[2022/09/06 09:33:01] ppocr DEBUG: rec_res num  : 0, elapse : 1.430511474609375e-06\n",
      "[2022/09/06 09:33:01] ppocr WARNING: Since the angle classifier is not initialized, the angle classifier will not be uesd during the forward process\n",
      "[2022/09/06 09:33:02] ppocr DEBUG: dt_boxes num : 7, elapse : 0.8948342800140381\n",
      "[2022/09/06 09:33:02] ppocr DEBUG: rec_res num  : 7, elapse : 0.4859275817871094\n",
      "[2022/09/06 09:33:02] ppocr WARNING: Since the angle classifier is not initialized, the angle classifier will not be uesd during the forward process\n",
      "[2022/09/06 09:33:03] ppocr DEBUG: dt_boxes num : 0, elapse : 0.49991703033447266\n",
      "[2022/09/06 09:33:03] ppocr DEBUG: rec_res num  : 0, elapse : 1.430511474609375e-06\n",
      "[2022/09/06 09:33:03] ppocr WARNING: Since the angle classifier is not initialized, the angle classifier will not be uesd during the forward process\n",
      "[2022/09/06 09:33:03] ppocr DEBUG: dt_boxes num : 2, elapse : 0.4998002052307129\n",
      "[2022/09/06 09:33:04] ppocr DEBUG: rec_res num  : 2, elapse : 0.15246081352233887\n",
      "[2022/09/06 09:33:04] ppocr WARNING: Since the angle classifier is not initialized, the angle classifier will not be uesd during the forward process\n",
      "[2022/09/06 09:33:04] ppocr DEBUG: dt_boxes num : 0, elapse : 0.7186508178710938\n",
      "[2022/09/06 09:33:04] ppocr DEBUG: rec_res num  : 0, elapse : 2.384185791015625e-06\n",
      "[2022/09/06 09:33:04] ppocr WARNING: Since the angle classifier is not initialized, the angle classifier will not be uesd during the forward process\n",
      "[2022/09/06 09:33:05] ppocr DEBUG: dt_boxes num : 0, elapse : 0.7168877124786377\n",
      "[2022/09/06 09:33:05] ppocr DEBUG: rec_res num  : 0, elapse : 2.1457672119140625e-06\n",
      "[2022/09/06 09:33:05] ppocr WARNING: Since the angle classifier is not initialized, the angle classifier will not be uesd during the forward process\n",
      "[2022/09/06 09:33:06] ppocr DEBUG: dt_boxes num : 9, elapse : 0.6677436828613281\n",
      "[2022/09/06 09:33:06] ppocr DEBUG: rec_res num  : 9, elapse : 0.6077022552490234\n",
      "[2022/09/06 09:33:06] ppocr WARNING: Since the angle classifier is not initialized, the angle classifier will not be uesd during the forward process\n"
     ]
    }
   ],
   "source": [
    "image_df[\"words\"] = image_df.apply(get_words_and_scores_and_add_to_dataframe, axis=1)"
   ]
  },
  {
   "cell_type": "markdown",
   "id": "26853441-a4aa-4692-adba-51baca1a148c",
   "metadata": {},
   "source": [
    "# Result of image_df"
   ]
  },
  {
   "cell_type": "code",
   "execution_count": null,
   "id": "ca3a805b-acd7-4d50-bfed-da5db04a0152",
   "metadata": {},
   "outputs": [],
   "source": [
    "image_df.head(50)"
   ]
  },
  {
   "cell_type": "markdown",
   "id": "cd325350-3312-4035-abc4-3d4da738bef5",
   "metadata": {},
   "source": [
    "# Define cleaning_text. Make text lowercase and remove punctuations etc.\n",
    "## Return is cleaned text and score into the list"
   ]
  },
  {
   "cell_type": "code",
   "execution_count": null,
   "id": "c534de62-b23f-4b83-b6ce-7fcd2f613bc4",
   "metadata": {
    "tags": []
   },
   "outputs": [],
   "source": [
    "import re\n",
    "import string\n",
    "\n",
    "def clean_text(row):\n",
    "    word_list = row[\"words\"][0]\n",
    "    new_word_list = []\n",
    "    for word in word_list:\n",
    "        new_word = word.lower()\n",
    "        new_word = re.sub(\"[%s]\" % re.escape(string.punctuation), \" \", new_word)\n",
    "        new_word_list.append(new_word)\n",
    "    return [new_word_list, row[\"words\"][1]]"
   ]
  },
  {
   "cell_type": "markdown",
   "id": "2c759c66-7f80-4122-b6ea-7e4d0af22e64",
   "metadata": {},
   "source": [
    "# Apply apply(function, axis=1)"
   ]
  },
  {
   "cell_type": "code",
   "execution_count": null,
   "id": "43bea86a-e470-4bc8-9abe-5f9dfed37174",
   "metadata": {
    "tags": []
   },
   "outputs": [],
   "source": [
    "image_df[\"words\"] = image_df.apply(clean_text, axis=1)"
   ]
  },
  {
   "cell_type": "markdown",
   "id": "3b1e2597-2bf1-47e0-a856-7193c16b1e9d",
   "metadata": {},
   "source": [
    "# Result of Clean_text"
   ]
  },
  {
   "cell_type": "code",
   "execution_count": null,
   "id": "01bad0dd-f4ed-4b65-9587-7b3cd699dc41",
   "metadata": {
    "tags": []
   },
   "outputs": [],
   "source": [
    "image_df.head(50)"
   ]
  },
  {
   "cell_type": "markdown",
   "id": "72893ac7-36e6-4d0e-bad8-12f07581f90e",
   "metadata": {},
   "source": [
    "# Targets"
   ]
  },
  {
   "cell_type": "code",
   "execution_count": 29,
   "id": "e6041842-5986-4506-80c5-c5549c83c345",
   "metadata": {},
   "outputs": [],
   "source": [
    "## define the target words / phrases\n",
    "targets = [\"among us\", \"imposter\"]"
   ]
  },
  {
   "cell_type": "markdown",
   "id": "2c428315-2bff-43f2-807e-d528e41f09b4",
   "metadata": {},
   "source": [
    "# Get_final_score. each word from text is called sample.\n",
    "1. calculate the edit_distance between target and sample \n",
    "2. calculate the closeness (how similar two words)\n",
    "3. confidence_score_mean (don't know why confidence_score_mean. Can I use just confidencescore as a score?\n",
    "4. final score = similarity * confidence score\n",
    "5. If final score is higher than Max_score =0, max_score is replaced. The highest final score will be the max_score at the end"
   ]
  },
  {
   "cell_type": "code",
   "execution_count": 99,
   "id": "da827a09-8096-49de-8362-ebf9f4e6833e",
   "metadata": {
    "tags": []
   },
   "outputs": [],
   "source": [
    "def get_final_score(row):\n",
    "    max_score = 0\n",
    "    text = row[\"words\"][0]\n",
    "    score = row[\"words\"][1]\n",
    "\n",
    "    for target in targets:\n",
    "        for sample in text:\n",
    "            edit_distance = nltk.edit_distance(target, sample)\n",
    "            closeness = (len(target)-edit_distance)/len(target)\n",
    "            confidence_score = score # can't multiply sequence by non-int of type 'float'\n",
    "            # confidence_score = int(score) # int() argument must be a string, a bytes-like object or a number, not 'list'\n",
    "            confidence_score = np.mean(score)\n",
    "            final_score = closeness * confidence_score\n",
    "            if final_score > max_score:\n",
    "                max_score = final_score\n",
    "    return max_score/100"
   ]
  },
  {
   "cell_type": "markdown",
   "id": "d9e319f7-927e-4537-9c77-742380413ea0",
   "metadata": {},
   "source": [
    "# Calculate OCR_score which is Max_score from get_final_score function"
   ]
  },
  {
   "cell_type": "code",
   "execution_count": 100,
   "id": "fd8c0eb0-4e18-4625-b1d2-71e1642f214e",
   "metadata": {
    "tags": []
   },
   "outputs": [],
   "source": [
    "image_df[\"OCR_score\"] = image_df.apply(get_final_score, axis=1)"
   ]
  },
  {
   "cell_type": "markdown",
   "id": "d8cff3c7-7876-4ad3-93be-e5ee6539d5d5",
   "metadata": {},
   "source": [
    "# display the dataframe sort by OCR_score"
   ]
  },
  {
   "cell_type": "code",
   "execution_count": 101,
   "id": "6f068423-a1cb-44ff-918f-44ec4bd46b8e",
   "metadata": {},
   "outputs": [
    {
     "data": {
      "text/plain": [
       "469"
      ]
     },
     "execution_count": 101,
     "metadata": {},
     "output_type": "execute_result"
    }
   ],
   "source": [
    "image_df = image_df.sort_values(by='OCR_score', ascending=False)\n",
    "pd.set_option('display.max_rows', None)\n",
    "len(image_df)"
   ]
  },
  {
   "cell_type": "markdown",
   "id": "905c76f9-168e-4a23-87d9-e223faa8d29b",
   "metadata": {},
   "source": [
    "# ROCAUC score"
   ]
  },
  {
   "cell_type": "code",
   "execution_count": 102,
   "id": "5315ef43-9bd9-4dfd-a0e1-83a6d47092b5",
   "metadata": {},
   "outputs": [
    {
     "name": "stdout",
     "output_type": "stream",
     "text": [
      "Rekognition ROC AUC Score =  0.97\n"
     ]
    }
   ],
   "source": [
    "RA_score = roc_auc_score(image_df[\"relevant\"], image_df[\"OCR_score\"])\n",
    "\n",
    "print(\"Rekognition ROC AUC Score =  %.2f\" % (RA_score))"
   ]
  },
  {
   "cell_type": "markdown",
   "id": "fb27a371-ad3f-4b5b-996a-5ab86075bce8",
   "metadata": {},
   "source": [
    "# Save the dataframe as a csv"
   ]
  },
  {
   "cell_type": "code",
   "execution_count": 103,
   "id": "2d52536a-b674-4a2c-a286-98022726911f",
   "metadata": {
    "tags": []
   },
   "outputs": [],
   "source": [
    "image_df.to_csv('/home/studio-lab-user/DS-Projects/OCR/paddle_ocr_v2.csv')"
   ]
  },
  {
   "cell_type": "code",
   "execution_count": 104,
   "id": "5cde5e26-9a9d-4bb7-964e-f8cd1ea871b3",
   "metadata": {},
   "outputs": [
    {
     "name": "stdout",
     "output_type": "stream",
     "text": [
      "134\n"
     ]
    }
   ],
   "source": [
    "# Dataframe of true positives\n",
    "\n",
    "tp = image_df.loc[(image_df['relevant'] == 1) & (image_df['OCR_score'] >= 0.5)] \n",
    "print(len(tp))"
   ]
  },
  {
   "cell_type": "code",
   "execution_count": 105,
   "id": "617c166b-4425-441d-8043-17bb6bac7207",
   "metadata": {},
   "outputs": [
    {
     "name": "stdout",
     "output_type": "stream",
     "text": [
      "317\n"
     ]
    }
   ],
   "source": [
    "# Dataframe of true negatives\n",
    "\n",
    "tn = image_df.loc[(image_df['relevant'] == 0) & (image_df['OCR_score'] < 0.5)] \n",
    "print(len(tn))"
   ]
  },
  {
   "cell_type": "code",
   "execution_count": 106,
   "id": "f798d566-bb61-47c5-a806-72cd82e960a6",
   "metadata": {},
   "outputs": [
    {
     "name": "stdout",
     "output_type": "stream",
     "text": [
      "1\n"
     ]
    }
   ],
   "source": [
    "# Dataframe of false positives\n",
    "\n",
    "fp = image_df.loc[(image_df['relevant'] == 0) & (image_df['OCR_score'] >= 0.5)] \n",
    "print(len(fp))"
   ]
  },
  {
   "cell_type": "code",
   "execution_count": 107,
   "id": "75d5b278-26a5-4a9c-aef3-aa7667ad2fdf",
   "metadata": {},
   "outputs": [
    {
     "name": "stdout",
     "output_type": "stream",
     "text": [
      "17\n"
     ]
    }
   ],
   "source": [
    "# Dataframe of false negatives\n",
    "\n",
    "fn = image_df.loc[(image_df['relevant'] == 1) & (image_df['OCR_score'] < 0.5)] \n",
    "print(len(fn))"
   ]
  },
  {
   "cell_type": "code",
   "execution_count": 108,
   "id": "158e1749-56c6-40a4-b253-dca2732e60ce",
   "metadata": {},
   "outputs": [
    {
     "name": "stdout",
     "output_type": "stream",
     "text": [
      "0.9925925925925926\n"
     ]
    }
   ],
   "source": [
    "# Precision (What % of irdentified positives and true?)\n",
    "precision = len(tp) / (len(tp) + len(fp))\n",
    "print(precision)"
   ]
  },
  {
   "cell_type": "code",
   "execution_count": 109,
   "id": "f718898a-de71-42cd-ac8f-f1b61fef76d3",
   "metadata": {},
   "outputs": [
    {
     "name": "stdout",
     "output_type": "stream",
     "text": [
      "0.8874172185430463\n"
     ]
    }
   ],
   "source": [
    "# PRecall (% of true positives identified)\n",
    "recall = len(tp) / (len(tp) + len(fn))\n",
    "print(recall)"
   ]
  },
  {
   "cell_type": "code",
   "execution_count": 110,
   "id": "bf43678e-c95c-481e-947a-9304f0a11b3f",
   "metadata": {
    "tags": []
   },
   "outputs": [
    {
     "data": {
      "text/html": [
       "<div>\n",
       "<style scoped>\n",
       "    .dataframe tbody tr th:only-of-type {\n",
       "        vertical-align: middle;\n",
       "    }\n",
       "\n",
       "    .dataframe tbody tr th {\n",
       "        vertical-align: top;\n",
       "    }\n",
       "\n",
       "    .dataframe thead th {\n",
       "        text-align: right;\n",
       "    }\n",
       "</style>\n",
       "<table border=\"1\" class=\"dataframe\">\n",
       "  <thead>\n",
       "    <tr style=\"text-align: right;\">\n",
       "      <th></th>\n",
       "      <th>image</th>\n",
       "      <th>relevant</th>\n",
       "      <th>words</th>\n",
       "      <th>OCR_score</th>\n",
       "    </tr>\n",
       "  </thead>\n",
       "  <tbody>\n",
       "    <tr>\n",
       "      <th>395</th>\n",
       "      <td>be4d2abbccf6ce04736e46dc1ca314a540f32f33</td>\n",
       "      <td>1</td>\n",
       "      <td>[[crewmate, are, 2 impostors, amo], [99.625384...</td>\n",
       "      <td>0.498024</td>\n",
       "    </tr>\n",
       "    <tr>\n",
       "      <th>382</th>\n",
       "      <td>34be6e784bf761a746a0b4c159186fab606c7cae</td>\n",
       "      <td>1</td>\n",
       "      <td>[[imp ostor], [64.4377589225769]]</td>\n",
       "      <td>0.483283</td>\n",
       "    </tr>\n",
       "    <tr>\n",
       "      <th>402</th>\n",
       "      <td>0a28a8aed9d8908a9a0801c0056e958961a0c6c5</td>\n",
       "      <td>1</td>\n",
       "      <td>[[mpostok], [77.09682583808899]]</td>\n",
       "      <td>0.481855</td>\n",
       "    </tr>\n",
       "    <tr>\n",
       "      <th>404</th>\n",
       "      <td>b67bc0c0403b35c1487c59fe17cebd61ac1178d6</td>\n",
       "      <td>1</td>\n",
       "      <td>[[crewmate, are, 2 impostors, amo, e], [99.470...</td>\n",
       "      <td>0.457413</td>\n",
       "    </tr>\n",
       "    <tr>\n",
       "      <th>325</th>\n",
       "      <td>a0a10018827f0156be2eca6e2b122eaaabf22a3e</td>\n",
       "      <td>1</td>\n",
       "      <td>[[imong], [87.93975710868835]]</td>\n",
       "      <td>0.439699</td>\n",
       "    </tr>\n",
       "    <tr>\n",
       "      <th>224</th>\n",
       "      <td>9312a0394cdca0f19e08f589fb7d5d10b7b73660</td>\n",
       "      <td>1</td>\n",
       "      <td>[[g us, s, xvamafil, i m your fabher], [92.502...</td>\n",
       "      <td>0.400763</td>\n",
       "    </tr>\n",
       "    <tr>\n",
       "      <th>285</th>\n",
       "      <td>1e2688724847e6ace895252f804fc30258f92b12</td>\n",
       "      <td>1</td>\n",
       "      <td>[[mong, whoisit, nol711], [56.05505704879761, ...</td>\n",
       "      <td>0.334601</td>\n",
       "    </tr>\n",
       "    <tr>\n",
       "      <th>29</th>\n",
       "      <td>d5e94eee21b701f5f3d409bb1b9bc43a4b47096c</td>\n",
       "      <td>1</td>\n",
       "      <td>[[smang], [61.39713525772095]]</td>\n",
       "      <td>0.230239</td>\n",
       "    </tr>\n",
       "    <tr>\n",
       "      <th>375</th>\n",
       "      <td>587864639734fb3fbc29cfd53ff4dfdfba662acd</td>\n",
       "      <td>1</td>\n",
       "      <td>[[smang], [61.39713525772095]]</td>\n",
       "      <td>0.230239</td>\n",
       "    </tr>\n",
       "    <tr>\n",
       "      <th>101</th>\n",
       "      <td>f5dd445f3fff531523efd5fa98a5b1d7700a4aed</td>\n",
       "      <td>1</td>\n",
       "      <td>[[trick, 2, i d skip vote, that, kini, rgency,...</td>\n",
       "      <td>0.223144</td>\n",
       "    </tr>\n",
       "    <tr>\n",
       "      <th>448</th>\n",
       "      <td>fc06cacb287cdea9a186109e792b1cc3b34c97ab</td>\n",
       "      <td>1</td>\n",
       "      <td>[[am, us, jtvu], [98.16152453422546, 93.357545...</td>\n",
       "      <td>0.213361</td>\n",
       "    </tr>\n",
       "    <tr>\n",
       "      <th>283</th>\n",
       "      <td>374b73c670d96776a66e563f8885a59c2c0513fa</td>\n",
       "      <td>1</td>\n",
       "      <td>[[among us figures set], [98.3774483203888]]</td>\n",
       "      <td>0.000000</td>\n",
       "    </tr>\n",
       "    <tr>\n",
       "      <th>64</th>\n",
       "      <td>596113e6cce11e32fd4122e221c0f952fb13b3a2</td>\n",
       "      <td>1</td>\n",
       "      <td>[[among us figures set], [98.3774483203888]]</td>\n",
       "      <td>0.000000</td>\n",
       "    </tr>\n",
       "    <tr>\n",
       "      <th>27</th>\n",
       "      <td>76a12d15ddd12600de572dddd2990f01a7bfab44</td>\n",
       "      <td>1</td>\n",
       "      <td>[[], []]</td>\n",
       "      <td>0.000000</td>\n",
       "    </tr>\n",
       "    <tr>\n",
       "      <th>37</th>\n",
       "      <td>c5b860ca154f6de8e4fcac2b55ccc92589c4ab9a</td>\n",
       "      <td>1</td>\n",
       "      <td>[[type a 12pcs among us, christmas style, heig...</td>\n",
       "      <td>0.000000</td>\n",
       "    </tr>\n",
       "    <tr>\n",
       "      <th>204</th>\n",
       "      <td>6337197ef3383045051aac90564bb8c8b9c0ad4e</td>\n",
       "      <td>1</td>\n",
       "      <td>[[type a 12pcs among us, height 8 11cm], [99.8...</td>\n",
       "      <td>0.000000</td>\n",
       "    </tr>\n",
       "    <tr>\n",
       "      <th>35</th>\n",
       "      <td>9af74e9e31e7a3db852b47dc21ae443e84a8d194</td>\n",
       "      <td>1</td>\n",
       "      <td>[[no  121 132], [95.71161270141602]]</td>\n",
       "      <td>0.000000</td>\n",
       "    </tr>\n",
       "  </tbody>\n",
       "</table>\n",
       "</div>"
      ],
      "text/plain": [
       "                                        image  relevant  \\\n",
       "395  be4d2abbccf6ce04736e46dc1ca314a540f32f33         1   \n",
       "382  34be6e784bf761a746a0b4c159186fab606c7cae         1   \n",
       "402  0a28a8aed9d8908a9a0801c0056e958961a0c6c5         1   \n",
       "404  b67bc0c0403b35c1487c59fe17cebd61ac1178d6         1   \n",
       "325  a0a10018827f0156be2eca6e2b122eaaabf22a3e         1   \n",
       "224  9312a0394cdca0f19e08f589fb7d5d10b7b73660         1   \n",
       "285  1e2688724847e6ace895252f804fc30258f92b12         1   \n",
       "29   d5e94eee21b701f5f3d409bb1b9bc43a4b47096c         1   \n",
       "375  587864639734fb3fbc29cfd53ff4dfdfba662acd         1   \n",
       "101  f5dd445f3fff531523efd5fa98a5b1d7700a4aed         1   \n",
       "448  fc06cacb287cdea9a186109e792b1cc3b34c97ab         1   \n",
       "283  374b73c670d96776a66e563f8885a59c2c0513fa         1   \n",
       "64   596113e6cce11e32fd4122e221c0f952fb13b3a2         1   \n",
       "27   76a12d15ddd12600de572dddd2990f01a7bfab44         1   \n",
       "37   c5b860ca154f6de8e4fcac2b55ccc92589c4ab9a         1   \n",
       "204  6337197ef3383045051aac90564bb8c8b9c0ad4e         1   \n",
       "35   9af74e9e31e7a3db852b47dc21ae443e84a8d194         1   \n",
       "\n",
       "                                                 words  OCR_score  \n",
       "395  [[crewmate, are, 2 impostors, amo], [99.625384...   0.498024  \n",
       "382                  [[imp ostor], [64.4377589225769]]   0.483283  \n",
       "402                   [[mpostok], [77.09682583808899]]   0.481855  \n",
       "404  [[crewmate, are, 2 impostors, amo, e], [99.470...   0.457413  \n",
       "325                     [[imong], [87.93975710868835]]   0.439699  \n",
       "224  [[g us, s, xvamafil, i m your fabher], [92.502...   0.400763  \n",
       "285  [[mong, whoisit, nol711], [56.05505704879761, ...   0.334601  \n",
       "29                      [[smang], [61.39713525772095]]   0.230239  \n",
       "375                     [[smang], [61.39713525772095]]   0.230239  \n",
       "101  [[trick, 2, i d skip vote, that, kini, rgency,...   0.223144  \n",
       "448  [[am, us, jtvu], [98.16152453422546, 93.357545...   0.213361  \n",
       "283       [[among us figures set], [98.3774483203888]]   0.000000  \n",
       "64        [[among us figures set], [98.3774483203888]]   0.000000  \n",
       "27                                            [[], []]   0.000000  \n",
       "37   [[type a 12pcs among us, christmas style, heig...   0.000000  \n",
       "204  [[type a 12pcs among us, height 8 11cm], [99.8...   0.000000  \n",
       "35                [[no  121 132], [95.71161270141602]]   0.000000  "
      ]
     },
     "execution_count": 110,
     "metadata": {},
     "output_type": "execute_result"
    }
   ],
   "source": [
    "fn"
   ]
  },
  {
   "cell_type": "code",
   "execution_count": 111,
   "id": "377d62a2-1fb5-4e3f-814e-db3f039fe837",
   "metadata": {},
   "outputs": [
    {
     "name": "stdout",
     "output_type": "stream",
     "text": [
      "[['wond n2', 'mong us'], [81.32509589195251, 97.85457849502563]]\n",
      "0.7839110754430294\n"
     ]
    }
   ],
   "source": [
    "print(image_df.loc[86]['words'])\n",
    "print(image_df.loc[86]['OCR_score'])"
   ]
  },
  {
   "cell_type": "code",
   "execution_count": null,
   "id": "c227afb3-f2b1-470a-ac24-d97702165ce5",
   "metadata": {},
   "outputs": [],
   "source": []
  }
 ],
 "metadata": {
  "kernelspec": {
   "display_name": "default:Python",
   "language": "python",
   "name": "conda-env-default-py"
  },
  "language_info": {
   "codemirror_mode": {
    "name": "ipython",
    "version": 3
   },
   "file_extension": ".py",
   "mimetype": "text/x-python",
   "name": "python",
   "nbconvert_exporter": "python",
   "pygments_lexer": "ipython3",
   "version": "3.9.10"
  }
 },
 "nbformat": 4,
 "nbformat_minor": 5
}
