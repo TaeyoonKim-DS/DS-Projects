{
 "cells": [
  {
   "cell_type": "code",
   "execution_count": 1,
   "id": "c1cbf41d-d868-4dbe-99d8-611ccb9a4a9f",
   "metadata": {},
   "outputs": [],
   "source": [
    "import pandas as pd\n",
    "import matplotlib.pyplot as plt\n",
    "%matplotlib inline\n",
    "\n",
    "# features.txt 파일에는 피처 이름 index와 피처명이 공백으로 분리되어 있음.DF로 로드.\n",
    "\n",
    "feature_name_df = pd.read_csv('features.txt', sep='\\s+',\n",
    "                              header = None, names=['co"
   ]
  }
 ],
 "metadata": {
  "kernelspec": {
   "display_name": "default:Python",
   "language": "python",
   "name": "conda-env-default-py"
  },
  "language_info": {
   "codemirror_mode": {
    "name": "ipython",
    "version": 3
   },
   "file_extension": ".py",
   "mimetype": "text/x-python",
   "name": "python",
   "nbconvert_exporter": "python",
   "pygments_lexer": "ipython3",
   "version": "3.9.10"
  }
 },
 "nbformat": 4,
 "nbformat_minor": 5
}
