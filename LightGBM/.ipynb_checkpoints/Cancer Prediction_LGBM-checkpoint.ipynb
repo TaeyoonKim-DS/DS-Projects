{
 "cells": [
  {
   "cell_type": "markdown",
   "id": "c16e533c-869a-4287-ac98-19a8e920722f",
   "metadata": {},
   "source": [
    "# Python Wrapper와 SKlearn Wrapper 있음."
   ]
  },
  {
   "cell_type": "code",
   "execution_count": 1,
   "id": "b0b5a1d5-96ee-4ab1-a126-bad7e978976d",
   "metadata": {
    "collapsed": true,
    "jupyter": {
     "outputs_hidden": true
    },
    "tags": []
   },
   "outputs": [
    {
     "name": "stdout",
     "output_type": "stream",
     "text": [
      "Collecting package metadata (current_repodata.json): done\n",
      "Solving environment: done\n",
      "\n",
      "\n",
      "==> WARNING: A newer version of conda exists. <==\n",
      "  current version: 4.10.3\n",
      "  latest version: 4.14.0\n",
      "\n",
      "Please update conda by running\n",
      "\n",
      "    $ conda update -n base conda\n",
      "\n",
      "\n",
      "\n",
      "## Package Plan ##\n",
      "\n",
      "  environment location: /home/studio-lab-user/.conda/envs/default\n",
      "\n",
      "  added / updated specs:\n",
      "    - lightgbm\n",
      "\n",
      "\n",
      "The following packages will be downloaded:\n",
      "\n",
      "    package                    |            build\n",
      "    ---------------------------|-----------------\n",
      "    lightgbm-3.3.2             |   py39he80948d_0         1.8 MB  conda-forge\n",
      "    ------------------------------------------------------------\n",
      "                                           Total:         1.8 MB\n",
      "\n",
      "The following NEW packages will be INSTALLED:\n",
      "\n",
      "  lightgbm           conda-forge/linux-64::lightgbm-3.3.2-py39he80948d_0\n",
      "\n",
      "The following packages will be SUPERSEDED by a higher-priority channel:\n",
      "\n",
      "  ca-certificates    anaconda::ca-certificates-2022.07.19-~ --> conda-forge::ca-certificates-2022.6.15-ha878542_0\n",
      "\n",
      "\n",
      "\n",
      "Downloading and Extracting Packages\n",
      "lightgbm-3.3.2       | 1.8 MB    | ##################################### | 100% \n",
      "Preparing transaction: done\n",
      "Verifying transaction: done\n",
      "Executing transaction: done\n",
      "\n",
      "Note: you may need to restart the kernel to use updated packages.\n"
     ]
    }
   ],
   "source": [
    "conda install -c conda-forge lightgbm"
   ]
  },
  {
   "cell_type": "code",
   "execution_count": 1,
   "id": "006271b0-8b67-4692-a70b-705444bf0334",
   "metadata": {},
   "outputs": [
    {
     "name": "stderr",
     "output_type": "stream",
     "text": [
      "/home/studio-lab-user/.conda/envs/default/lib/python3.9/site-packages/scipy/__init__.py:146: UserWarning: A NumPy version >=1.16.5 and <1.23.0 is required for this version of SciPy (detected version 1.23.1\n",
      "  warnings.warn(f\"A NumPy version >={np_minversion} and <{np_maxversion}\"\n"
     ]
    }
   ],
   "source": [
    "from lightgbm import LGBMClassifier\n",
    "\n",
    "import pandas as pd\n",
    "import numpy as np\n",
    "from sklearn.datasets import load_breast_cancer\n",
    "from sklearn.model_selection import train_test_split\n",
    "\n",
    "dataset = load_breast_cancer()\n",
    "ftr = dataset.data\n",
    "target = dataset.target"
   ]
  },
  {
   "cell_type": "code",
   "execution_count": 2,
   "id": "28fc052c-db49-4ab9-b606-71a7a3b85bfd",
   "metadata": {
    "collapsed": true,
    "jupyter": {
     "outputs_hidden": true
    },
    "tags": []
   },
   "outputs": [
    {
     "name": "stderr",
     "output_type": "stream",
     "text": [
      "/home/studio-lab-user/.conda/envs/default/lib/python3.9/site-packages/lightgbm/sklearn.py:726: UserWarning: 'early_stopping_rounds' argument is deprecated and will be removed in a future release of LightGBM. Pass 'early_stopping()' callback via 'callbacks' argument instead.\n",
      "  _log_warning(\"'early_stopping_rounds' argument is deprecated and will be removed in a future release of LightGBM. \"\n",
      "/home/studio-lab-user/.conda/envs/default/lib/python3.9/site-packages/lightgbm/sklearn.py:736: UserWarning: 'verbose' argument is deprecated and will be removed in a future release of LightGBM. Pass 'log_evaluation()' callback via 'callbacks' argument instead.\n",
      "  _log_warning(\"'verbose' argument is deprecated and will be removed in a future release of LightGBM. \"\n"
     ]
    },
    {
     "name": "stdout",
     "output_type": "stream",
     "text": [
      "[1]\tvalid_0's binary_logloss: 0.588284\n",
      "[2]\tvalid_0's binary_logloss: 0.525044\n",
      "[3]\tvalid_0's binary_logloss: 0.473098\n",
      "[4]\tvalid_0's binary_logloss: 0.432445\n",
      "[5]\tvalid_0's binary_logloss: 0.393757\n",
      "[6]\tvalid_0's binary_logloss: 0.358826\n",
      "[7]\tvalid_0's binary_logloss: 0.328248\n",
      "[8]\tvalid_0's binary_logloss: 0.304146\n",
      "[9]\tvalid_0's binary_logloss: 0.283869\n",
      "[10]\tvalid_0's binary_logloss: 0.265547\n",
      "[11]\tvalid_0's binary_logloss: 0.244191\n",
      "[12]\tvalid_0's binary_logloss: 0.229185\n",
      "[13]\tvalid_0's binary_logloss: 0.217378\n",
      "[14]\tvalid_0's binary_logloss: 0.204076\n",
      "[15]\tvalid_0's binary_logloss: 0.193684\n",
      "[16]\tvalid_0's binary_logloss: 0.183553\n",
      "[17]\tvalid_0's binary_logloss: 0.17687\n",
      "[18]\tvalid_0's binary_logloss: 0.171215\n",
      "[19]\tvalid_0's binary_logloss: 0.162097\n",
      "[20]\tvalid_0's binary_logloss: 0.15511\n",
      "[21]\tvalid_0's binary_logloss: 0.151133\n",
      "[22]\tvalid_0's binary_logloss: 0.146962\n",
      "[23]\tvalid_0's binary_logloss: 0.142177\n",
      "[24]\tvalid_0's binary_logloss: 0.139704\n",
      "[25]\tvalid_0's binary_logloss: 0.1371\n",
      "[26]\tvalid_0's binary_logloss: 0.135683\n",
      "[27]\tvalid_0's binary_logloss: 0.134006\n",
      "[28]\tvalid_0's binary_logloss: 0.132256\n",
      "[29]\tvalid_0's binary_logloss: 0.128958\n",
      "[30]\tvalid_0's binary_logloss: 0.127601\n",
      "[31]\tvalid_0's binary_logloss: 0.127152\n",
      "[32]\tvalid_0's binary_logloss: 0.125304\n",
      "[33]\tvalid_0's binary_logloss: 0.121811\n",
      "[34]\tvalid_0's binary_logloss: 0.118799\n",
      "[35]\tvalid_0's binary_logloss: 0.118991\n",
      "[36]\tvalid_0's binary_logloss: 0.11637\n",
      "[37]\tvalid_0's binary_logloss: 0.115602\n",
      "[38]\tvalid_0's binary_logloss: 0.115833\n",
      "[39]\tvalid_0's binary_logloss: 0.116336\n",
      "[40]\tvalid_0's binary_logloss: 0.115884\n",
      "[41]\tvalid_0's binary_logloss: 0.111951\n",
      "[42]\tvalid_0's binary_logloss: 0.110217\n",
      "[43]\tvalid_0's binary_logloss: 0.109666\n",
      "[44]\tvalid_0's binary_logloss: 0.105862\n",
      "[45]\tvalid_0's binary_logloss: 0.10416\n",
      "[46]\tvalid_0's binary_logloss: 0.10641\n",
      "[47]\tvalid_0's binary_logloss: 0.107439\n",
      "[48]\tvalid_0's binary_logloss: 0.106999\n",
      "[49]\tvalid_0's binary_logloss: 0.106419\n",
      "[50]\tvalid_0's binary_logloss: 0.107265\n",
      "[51]\tvalid_0's binary_logloss: 0.108234\n",
      "[52]\tvalid_0's binary_logloss: 0.109973\n",
      "[53]\tvalid_0's binary_logloss: 0.111991\n",
      "[54]\tvalid_0's binary_logloss: 0.113248\n",
      "[55]\tvalid_0's binary_logloss: 0.113475\n",
      "[56]\tvalid_0's binary_logloss: 0.113972\n",
      "[57]\tvalid_0's binary_logloss: 0.113798\n",
      "[58]\tvalid_0's binary_logloss: 0.116103\n",
      "[59]\tvalid_0's binary_logloss: 0.117785\n",
      "[60]\tvalid_0's binary_logloss: 0.117704\n",
      "[61]\tvalid_0's binary_logloss: 0.118073\n",
      "[62]\tvalid_0's binary_logloss: 0.119672\n",
      "[63]\tvalid_0's binary_logloss: 0.118123\n",
      "[64]\tvalid_0's binary_logloss: 0.120246\n",
      "[65]\tvalid_0's binary_logloss: 0.120821\n",
      "[66]\tvalid_0's binary_logloss: 0.12114\n",
      "[67]\tvalid_0's binary_logloss: 0.119469\n",
      "[68]\tvalid_0's binary_logloss: 0.120122\n",
      "[69]\tvalid_0's binary_logloss: 0.117509\n",
      "[70]\tvalid_0's binary_logloss: 0.11779\n",
      "[71]\tvalid_0's binary_logloss: 0.118608\n",
      "[72]\tvalid_0's binary_logloss: 0.120376\n",
      "[73]\tvalid_0's binary_logloss: 0.117812\n",
      "[74]\tvalid_0's binary_logloss: 0.116921\n",
      "[75]\tvalid_0's binary_logloss: 0.118639\n",
      "[76]\tvalid_0's binary_logloss: 0.11875\n",
      "[77]\tvalid_0's binary_logloss: 0.117765\n",
      "[78]\tvalid_0's binary_logloss: 0.119256\n",
      "[79]\tvalid_0's binary_logloss: 0.120764\n",
      "[80]\tvalid_0's binary_logloss: 0.122888\n",
      "[81]\tvalid_0's binary_logloss: 0.123827\n",
      "[82]\tvalid_0's binary_logloss: 0.123977\n",
      "[83]\tvalid_0's binary_logloss: 0.122971\n",
      "[84]\tvalid_0's binary_logloss: 0.124511\n",
      "[85]\tvalid_0's binary_logloss: 0.125999\n",
      "[86]\tvalid_0's binary_logloss: 0.124209\n",
      "[87]\tvalid_0's binary_logloss: 0.124886\n",
      "[88]\tvalid_0's binary_logloss: 0.126079\n",
      "[89]\tvalid_0's binary_logloss: 0.124997\n",
      "[90]\tvalid_0's binary_logloss: 0.124178\n",
      "[91]\tvalid_0's binary_logloss: 0.125132\n",
      "[92]\tvalid_0's binary_logloss: 0.125974\n",
      "[93]\tvalid_0's binary_logloss: 0.123914\n",
      "[94]\tvalid_0's binary_logloss: 0.125945\n",
      "[95]\tvalid_0's binary_logloss: 0.126142\n",
      "[96]\tvalid_0's binary_logloss: 0.127635\n",
      "[97]\tvalid_0's binary_logloss: 0.130543\n",
      "[98]\tvalid_0's binary_logloss: 0.128581\n",
      "[99]\tvalid_0's binary_logloss: 0.129038\n",
      "[100]\tvalid_0's binary_logloss: 0.129787\n",
      "[101]\tvalid_0's binary_logloss: 0.130345\n",
      "[102]\tvalid_0's binary_logloss: 0.131098\n",
      "[103]\tvalid_0's binary_logloss: 0.128639\n",
      "[104]\tvalid_0's binary_logloss: 0.131574\n",
      "[105]\tvalid_0's binary_logloss: 0.133721\n",
      "[106]\tvalid_0's binary_logloss: 0.136142\n",
      "[107]\tvalid_0's binary_logloss: 0.137495\n",
      "[108]\tvalid_0's binary_logloss: 0.139837\n",
      "[109]\tvalid_0's binary_logloss: 0.139146\n",
      "[110]\tvalid_0's binary_logloss: 0.140064\n",
      "[111]\tvalid_0's binary_logloss: 0.142461\n",
      "[112]\tvalid_0's binary_logloss: 0.144766\n",
      "[113]\tvalid_0's binary_logloss: 0.1454\n",
      "[114]\tvalid_0's binary_logloss: 0.145351\n",
      "[115]\tvalid_0's binary_logloss: 0.146998\n",
      "[116]\tvalid_0's binary_logloss: 0.149289\n",
      "[117]\tvalid_0's binary_logloss: 0.149269\n",
      "[118]\tvalid_0's binary_logloss: 0.149913\n",
      "[119]\tvalid_0's binary_logloss: 0.15071\n",
      "[120]\tvalid_0's binary_logloss: 0.15353\n",
      "[121]\tvalid_0's binary_logloss: 0.156407\n",
      "[122]\tvalid_0's binary_logloss: 0.159055\n",
      "[123]\tvalid_0's binary_logloss: 0.161723\n",
      "[124]\tvalid_0's binary_logloss: 0.164305\n",
      "[125]\tvalid_0's binary_logloss: 0.163232\n",
      "[126]\tvalid_0's binary_logloss: 0.164586\n",
      "[127]\tvalid_0's binary_logloss: 0.163785\n",
      "[128]\tvalid_0's binary_logloss: 0.165006\n",
      "[129]\tvalid_0's binary_logloss: 0.168008\n",
      "[130]\tvalid_0's binary_logloss: 0.170593\n",
      "[131]\tvalid_0's binary_logloss: 0.172157\n",
      "[132]\tvalid_0's binary_logloss: 0.174559\n",
      "[133]\tvalid_0's binary_logloss: 0.172139\n",
      "[134]\tvalid_0's binary_logloss: 0.170965\n",
      "[135]\tvalid_0's binary_logloss: 0.171766\n",
      "[136]\tvalid_0's binary_logloss: 0.17294\n",
      "[137]\tvalid_0's binary_logloss: 0.17303\n",
      "[138]\tvalid_0's binary_logloss: 0.17335\n",
      "[139]\tvalid_0's binary_logloss: 0.176798\n",
      "[140]\tvalid_0's binary_logloss: 0.178901\n",
      "[141]\tvalid_0's binary_logloss: 0.17922\n",
      "[142]\tvalid_0's binary_logloss: 0.180175\n",
      "[143]\tvalid_0's binary_logloss: 0.181249\n",
      "[144]\tvalid_0's binary_logloss: 0.183432\n",
      "[145]\tvalid_0's binary_logloss: 0.184677\n"
     ]
    }
   ],
   "source": [
    "X_train, X_test, y_train, y_test = train_test_split(ftr, target, test_size=0.2, random_state=42)\n",
    "lgbm_wrapper = LGBMClassifier(n_estimators=400)\n",
    "\n",
    "evals = [(X_test, y_test)]\n",
    "lgbm_wrapper.fit(X_train, y_train, early_stopping_rounds=100, eval_metric=\"logloss\",\n",
    "                 eval_set=evals, verbose=True)\n",
    "preds = lgbm_wrapper.predict(X_test)\n",
    "pred_proba = lgbm_wrapper.predict_proba(X_test)[:,1]"
   ]
  },
  {
   "cell_type": "code",
   "execution_count": 4,
   "id": "58605b92-6e5f-4650-b174-c660fcf53489",
   "metadata": {},
   "outputs": [],
   "source": [
    "from sklearn.metrics import roc_auc_score, accuracy_score, precision_score, recall_score, confusion_matrix\n",
    "\n",
    "def get_clf_eval(y_test, pred=None, pred_proba=None):\n",
    "    confusion = confusion_matrix(y_test, pred)\n",
    "    accuracy = accuracy_score(y_test, pred)\n",
    "    precision = precision_score(y_test, pred)\n",
    "    recall = recall_score(y_test, pred)\n",
    "    # ROC-AUC 추가\n",
    "    roc_auc = roc_auc_score(y_test, pred_proba)\n",
    "    print('Confusion Matrix')\n",
    "    print(confusion)\n",
    "    print('Acuracy: {0:.4f}, precision: {1:.4f}, 재현율: {2:.4f},\\\n",
    "           AUC:{3:.4f}'.format(accuracy, precision, recall, roc_auc))\n",
    "    "
   ]
  },
  {
   "cell_type": "code",
   "execution_count": 5,
   "id": "edeeecdb-36ad-4909-bf29-0ad7872d640d",
   "metadata": {},
   "outputs": [
    {
     "name": "stdout",
     "output_type": "stream",
     "text": [
      "Confusion Matrix\n",
      "[[41  2]\n",
      " [ 1 70]]\n",
      "Acuracy: 0.9737, precision: 0.9722, 재현율: 0.9859,           AUC:0.9908\n"
     ]
    }
   ],
   "source": [
    "get_clf_eval(y_test, preds, pred_proba)"
   ]
  },
  {
   "cell_type": "code",
   "execution_count": 6,
   "id": "8d2d27af-ce49-4bf5-a3b3-139a8dfdfcc8",
   "metadata": {},
   "outputs": [
    {
     "data": {
      "text/plain": [
       "<AxesSubplot:title={'center':'Feature importance'}, xlabel='Feature importance', ylabel='Features'>"
      ]
     },
     "execution_count": 6,
     "metadata": {},
     "output_type": "execute_result"
    },
    {
     "data": {
      "image/png": "[encoded data removed]",
      "text/plain": [
       "<Figure size 720x864 with 1 Axes>"
      ]
     },
     "metadata": {
      "needs_background": "light"
     },
     "output_type": "display_data"
    }
   ],
   "source": [
    "from lightgbm import plot_importance\n",
    "import matplotlib.pyplot as plt\n",
    "%matplotlib inline\n",
    "\n",
    "fig, ax = plt.subplots(figsize= (10, 12))\n",
    "plot_importance(lgbm_wrapper, ax=ax)"
   ]
  },
  {
   "cell_type": "code",
   "execution_count": null,
   "id": "079135ff-f05f-4dc5-873c-18e1c76b2d98",
   "metadata": {},
   "outputs": [],
   "source": []
  }
 ],
 "metadata": {
  "kernelspec": {
   "display_name": "default:Python",
   "language": "python",
   "name": "conda-env-default-py"
  },
  "language_info": {
   "codemirror_mode": {
    "name": "ipython",
    "version": 3
   },
   "file_extension": ".py",
   "mimetype": "text/x-python",
   "name": "python",
   "nbconvert_exporter": "python",
   "pygments_lexer": "ipython3",
   "version": "3.9.10"
  }
 },
 "nbformat": 4,
 "nbformat_minor": 5
}
