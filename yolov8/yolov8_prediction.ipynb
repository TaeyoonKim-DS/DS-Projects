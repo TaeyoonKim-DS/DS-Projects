{
 "cells": [
  {
   "cell_type": "code",
   "execution_count": 1,
   "id": "381b2820-15ad-4da8-a6b9-5bdf537f6d43",
   "metadata": {
    "tags": []
   },
   "outputs": [
    {
     "name": "stdout",
     "output_type": "stream",
     "text": [
      "Requirement already satisfied: ultralytics in /home/studio-lab-user/.conda/envs/default/lib/python3.9/site-packages (8.0.82)\n",
      "Requirement already satisfied: matplotlib>=3.2.2 in /home/studio-lab-user/.conda/envs/default/lib/python3.9/site-packages (from ultralytics) (3.5.2)\n",
      "Requirement already satisfied: numpy>=1.21.6 in /home/studio-lab-user/.conda/envs/default/lib/python3.9/site-packages (from ultralytics) (1.22.4)\n",
      "Requirement already satisfied: opencv-python>=4.6.0 in /home/studio-lab-user/.conda/envs/default/lib/python3.9/site-packages (from ultralytics) (4.7.0.72)\n",
      "Requirement already satisfied: Pillow>=7.1.2 in /home/studio-lab-user/.conda/envs/default/lib/python3.9/site-packages (from ultralytics) (9.1.1)\n",
      "Requirement already satisfied: PyYAML>=5.3.1 in /home/studio-lab-user/.conda/envs/default/lib/python3.9/site-packages (from ultralytics) (6.0)\n",
      "Requirement already satisfied: requests>=2.23.0 in /home/studio-lab-user/.conda/envs/default/lib/python3.9/site-packages (from ultralytics) (2.27.1)\n",
      "Requirement already satisfied: scipy>=1.4.1 in /home/studio-lab-user/.conda/envs/default/lib/python3.9/site-packages (from ultralytics) (1.7.3)\n",
      "Requirement already satisfied: torch>=1.7.0 in /home/studio-lab-user/.conda/envs/default/lib/python3.9/site-packages (from ultralytics) (1.11.0)\n",
      "Requirement already satisfied: torchvision>=0.8.1 in /home/studio-lab-user/.conda/envs/default/lib/python3.9/site-packages (from ultralytics) (0.12.0)\n",
      "Requirement already satisfied: tqdm>=4.64.0 in /home/studio-lab-user/.conda/envs/default/lib/python3.9/site-packages (from ultralytics) (4.64.0)\n",
      "Requirement already satisfied: pandas>=1.1.4 in /home/studio-lab-user/.conda/envs/default/lib/python3.9/site-packages (from ultralytics) (1.4.2)\n",
      "Requirement already satisfied: seaborn>=0.11.0 in /home/studio-lab-user/.conda/envs/default/lib/python3.9/site-packages (from ultralytics) (0.11.2)\n",
      "Requirement already satisfied: psutil in /home/studio-lab-user/.conda/envs/default/lib/python3.9/site-packages (from ultralytics) (5.9.1)\n",
      "Requirement already satisfied: thop>=0.1.1 in /home/studio-lab-user/.conda/envs/default/lib/python3.9/site-packages (from ultralytics) (0.1.1.post2209072238)\n",
      "Requirement already satisfied: sentry-sdk in /home/studio-lab-user/.conda/envs/default/lib/python3.9/site-packages (from ultralytics) (1.19.1)\n",
      "Requirement already satisfied: cycler>=0.10 in /home/studio-lab-user/.conda/envs/default/lib/python3.9/site-packages (from matplotlib>=3.2.2->ultralytics) (0.10.0)\n",
      "Requirement already satisfied: fonttools>=4.22.0 in /home/studio-lab-user/.conda/envs/default/lib/python3.9/site-packages (from matplotlib>=3.2.2->ultralytics) (4.33.3)\n",
      "Requirement already satisfied: kiwisolver>=1.0.1 in /home/studio-lab-user/.conda/envs/default/lib/python3.9/site-packages (from matplotlib>=3.2.2->ultralytics) (1.3.1)\n",
      "Requirement already satisfied: packaging>=20.0 in /home/studio-lab-user/.conda/envs/default/lib/python3.9/site-packages (from matplotlib>=3.2.2->ultralytics) (21.3)\n",
      "Requirement already satisfied: pyparsing>=2.2.1 in /home/studio-lab-user/.conda/envs/default/lib/python3.9/site-packages (from matplotlib>=3.2.2->ultralytics) (2.4.7)\n",
      "Requirement already satisfied: python-dateutil>=2.7 in /home/studio-lab-user/.conda/envs/default/lib/python3.9/site-packages (from matplotlib>=3.2.2->ultralytics) (2.8.2)\n",
      "Requirement already satisfied: pytz>=2020.1 in /home/studio-lab-user/.conda/envs/default/lib/python3.9/site-packages (from pandas>=1.1.4->ultralytics) (2022.1)\n",
      "Requirement already satisfied: urllib3<1.27,>=1.21.1 in /home/studio-lab-user/.conda/envs/default/lib/python3.9/site-packages (from requests>=2.23.0->ultralytics) (1.26.15)\n",
      "Requirement already satisfied: certifi>=2017.4.17 in /home/studio-lab-user/.conda/envs/default/lib/python3.9/site-packages (from requests>=2.23.0->ultralytics) (2021.5.30)\n",
      "Requirement already satisfied: charset-normalizer~=2.0.0 in /home/studio-lab-user/.conda/envs/default/lib/python3.9/site-packages (from requests>=2.23.0->ultralytics) (2.0.12)\n",
      "Requirement already satisfied: idna<4,>=2.5 in /home/studio-lab-user/.conda/envs/default/lib/python3.9/site-packages (from requests>=2.23.0->ultralytics) (2.10)\n",
      "Requirement already satisfied: typing-extensions in /home/studio-lab-user/.conda/envs/default/lib/python3.9/site-packages (from torch>=1.7.0->ultralytics) (4.2.0)\n",
      "Requirement already satisfied: six in /home/studio-lab-user/.conda/envs/default/lib/python3.9/site-packages (from cycler>=0.10->matplotlib>=3.2.2->ultralytics) (1.16.0)\n"
     ]
    }
   ],
   "source": [
    "!pip install ultralytics"
   ]
  },
  {
   "cell_type": "code",
   "execution_count": 2,
   "id": "b7eaa75e-9578-4ed0-8577-619e81ccdae3",
   "metadata": {
    "tags": []
   },
   "outputs": [
    {
     "name": "stdout",
     "output_type": "stream",
     "text": [
      "Found existing installation: opencv-python-headless 4.5.1.48\n",
      "Uninstalling opencv-python-headless-4.5.1.48:\n",
      "  Successfully uninstalled opencv-python-headless-4.5.1.48\n",
      "Collecting opencv-python-headless==4.5.1.48\n",
      "  Using cached opencv_python_headless-4.5.1.48-cp39-cp39-manylinux2014_x86_64.whl (37.6 MB)\n",
      "Requirement already satisfied: numpy>=1.19.3 in /home/studio-lab-user/.conda/envs/default/lib/python3.9/site-packages (from opencv-python-headless==4.5.1.48) (1.22.4)\n",
      "Installing collected packages: opencv-python-headless\n",
      "Successfully installed opencv-python-headless-4.5.1.48\n"
     ]
    }
   ],
   "source": [
    "!pip uninstall opencv-python-headless --yes\n",
    "!pip install opencv-python-headless==4.5.1.48"
   ]
  },
  {
   "cell_type": "code",
   "execution_count": 3,
   "id": "5be30595-e5b2-45bf-9145-05ab395c7ade",
   "metadata": {
    "tags": []
   },
   "outputs": [
    {
     "name": "stdout",
     "output_type": "stream",
     "text": [
      "fatal: destination path 'ultralytics' already exists and is not an empty directory.\n"
     ]
    }
   ],
   "source": [
    "!git clone https://github.com/ultralytics/ultralytics"
   ]
  },
  {
   "cell_type": "code",
   "execution_count": 5,
   "id": "644f1cec-f1ac-4f53-8b83-891296ce4cbe",
   "metadata": {
    "tags": []
   },
   "outputs": [
    {
     "name": "stdout",
     "output_type": "stream",
     "text": [
      "Requirement already satisfied: pip in /home/studio-lab-user/.conda/envs/default/lib/python3.9/site-packages (23.1)\n",
      "Obtaining file:///home/studio-lab-user/DS-Projects/yolov8/ultralytics\n",
      "\u001b[31mERROR: file:///home/studio-lab-user/DS-Projects/yolov8/ultralytics does not appear to be a Python project: neither 'setup.py' nor 'pyproject.toml' found.\u001b[0m\u001b[31m\n",
      "\u001b[0m"
     ]
    }
   ],
   "source": [
    "!pip install --upgrade pip\n",
    "!pip install -e ultralytics"
   ]
  },
  {
   "cell_type": "code",
   "execution_count": 6,
   "id": "267d50a5-1e72-4bc1-8d91-b2e8fe829318",
   "metadata": {},
   "outputs": [],
   "source": [
    "from ultralytics import YOLO"
   ]
  },
  {
   "cell_type": "code",
   "execution_count": null,
   "id": "d83e88b4-90ea-47be-b36f-173c678a1f88",
   "metadata": {
    "tags": []
   },
   "outputs": [
    {
     "name": "stderr",
     "output_type": "stream",
     "text": [
      "\n",
      "Found https://media.roboflow.com/notebooks/examples/dog.jpeg locally at dog.jpeg\n",
      "image 1/1 /home/studio-lab-user/DS-Projects/yolov8/dog.jpeg: 640x384 1 person, 1 car, 1 dog, 6.9ms\n",
      "Speed: 0.5ms preprocess, 6.9ms inference, 41.0ms postprocess per image at shape (1, 3, 640, 640)\n",
      "Results saved to \u001b[1m/home/studio-lab-user/DS-Projects/yolov8/ultralytics/runs/detect/predict5\u001b[0m\n",
      "1 label saved to /home/studio-lab-user/DS-Projects/yolov8/ultralytics/runs/detect/predict5/labels\n"
     ]
    },
    {
     "data": {
      "text/plain": [
       "[ultralytics.yolo.engine.results.Results object with attributes:\n",
       " \n",
       " boxes: ultralytics.yolo.engine.results.Boxes object\n",
       " keypoints: None\n",
       " keys: ['boxes']\n",
       " masks: None\n",
       " names: {0: 'person', 1: 'bicycle', 2: 'car', 3: 'motorcycle', 4: 'airplane', 5: 'bus', 6: 'train', 7: 'truck', 8: 'boat', 9: 'traffic light', 10: 'fire hydrant', 11: 'stop sign', 12: 'parking meter', 13: 'bench', 14: 'bird', 15: 'cat', 16: 'dog', 17: 'horse', 18: 'sheep', 19: 'cow', 20: 'elephant', 21: 'bear', 22: 'zebra', 23: 'giraffe', 24: 'backpack', 25: 'umbrella', 26: 'handbag', 27: 'tie', 28: 'suitcase', 29: 'frisbee', 30: 'skis', 31: 'snowboard', 32: 'sports ball', 33: 'kite', 34: 'baseball bat', 35: 'baseball glove', 36: 'skateboard', 37: 'surfboard', 38: 'tennis racket', 39: 'bottle', 40: 'wine glass', 41: 'cup', 42: 'fork', 43: 'knife', 44: 'spoon', 45: 'bowl', 46: 'banana', 47: 'apple', 48: 'sandwich', 49: 'orange', 50: 'broccoli', 51: 'carrot', 52: 'hot dog', 53: 'pizza', 54: 'donut', 55: 'cake', 56: 'chair', 57: 'couch', 58: 'potted plant', 59: 'bed', 60: 'dining table', 61: 'toilet', 62: 'tv', 63: 'laptop', 64: 'mouse', 65: 'remote', 66: 'keyboard', 67: 'cell phone', 68: 'microwave', 69: 'oven', 70: 'toaster', 71: 'sink', 72: 'refrigerator', 73: 'book', 74: 'clock', 75: 'vase', 76: 'scissors', 77: 'teddy bear', 78: 'hair drier', 79: 'toothbrush'}\n",
       " orig_img: array([[[202, 157, 120],\n",
       "         [202, 157, 120],\n",
       "         [202, 157, 120],\n",
       "         ...,\n",
       "         [199, 161, 129],\n",
       "         [198, 160, 128],\n",
       "         [198, 160, 128]],\n",
       " \n",
       "        [[201, 156, 119],\n",
       "         [201, 156, 119],\n",
       "         [201, 156, 119],\n",
       "         ...,\n",
       "         [199, 161, 129],\n",
       "         [199, 161, 129],\n",
       "         [198, 160, 128]],\n",
       " \n",
       "        [[201, 156, 119],\n",
       "         [201, 156, 119],\n",
       "         [201, 156, 119],\n",
       "         ...,\n",
       "         [200, 162, 130],\n",
       "         [199, 161, 129],\n",
       "         [199, 161, 129]],\n",
       " \n",
       "        ...,\n",
       " \n",
       "        [[202, 204, 205],\n",
       "         [220, 222, 223],\n",
       "         [233, 235, 236],\n",
       "         ...,\n",
       "         [109, 124, 150],\n",
       "         [112, 126, 154],\n",
       "         [106, 123, 150]],\n",
       " \n",
       "        [[197, 199, 200],\n",
       "         [225, 227, 228],\n",
       "         [220, 222, 223],\n",
       "         ...,\n",
       "         [106, 121, 147],\n",
       "         [105, 119, 147],\n",
       "         [105, 121, 150]],\n",
       " \n",
       "        [[208, 210, 211],\n",
       "         [194, 196, 197],\n",
       "         [221, 223, 224],\n",
       "         ...,\n",
       "         [103, 118, 144],\n",
       "         [106, 120, 148],\n",
       "         [118, 134, 163]]], dtype=uint8)\n",
       " orig_shape: (1280, 720)\n",
       " path: '/home/studio-lab-user/DS-Projects/yolov8/dog.jpeg'\n",
       " probs: None\n",
       " speed: {'preprocess': 0.5030632019042969, 'inference': 6.914854049682617, 'postprocess': 41.04781150817871}]"
      ]
     },
     "execution_count": 7,
     "metadata": {},
     "output_type": "execute_result"
    }
   ],
   "source": [
    "model = YOLO('yolov8n.pt')\n",
    "model.predict(\n",
    "   source='https://media.roboflow.com/notebooks/examples/dog.jpeg', save=False, save_txt = True, conf=0.25) #Save == image download save_txt = score labels"
   ]
  },
  {
   "cell_type": "code",
   "execution_count": null,
   "id": "438feed2-9041-4f7f-a63e-526279cf71eb",
   "metadata": {},
   "outputs": [
    {
     "name": "stderr",
     "output_type": "stream",
     "text": [
      "\n",
      "Found https://media.roboflow.com/notebooks/examples/dog.jpeg locally at dog.jpeg\n",
      "image 1/1 /home/studio-lab-user/DS-Projects/yolov8/dog.jpeg: 640x384 1 person, 1 car, 1 dog, 237.2ms\n",
      "Speed: 4.5ms preprocess, 237.2ms inference, 1.4ms postprocess per image at shape (1, 3, 640, 640)\n"
     ]
    },
    {
     "data": {
      "text/plain": [
       "[ultralytics.yolo.engine.results.Results object with attributes:\n",
       " \n",
       " boxes: ultralytics.yolo.engine.results.Boxes object\n",
       " keypoints: None\n",
       " keys: ['boxes']\n",
       " masks: None\n",
       " names: {0: 'person', 1: 'bicycle', 2: 'car', 3: 'motorcycle', 4: 'airplane', 5: 'bus', 6: 'train', 7: 'truck', 8: 'boat', 9: 'traffic light', 10: 'fire hydrant', 11: 'stop sign', 12: 'parking meter', 13: 'bench', 14: 'bird', 15: 'cat', 16: 'dog', 17: 'horse', 18: 'sheep', 19: 'cow', 20: 'elephant', 21: 'bear', 22: 'zebra', 23: 'giraffe', 24: 'backpack', 25: 'umbrella', 26: 'handbag', 27: 'tie', 28: 'suitcase', 29: 'frisbee', 30: 'skis', 31: 'snowboard', 32: 'sports ball', 33: 'kite', 34: 'baseball bat', 35: 'baseball glove', 36: 'skateboard', 37: 'surfboard', 38: 'tennis racket', 39: 'bottle', 40: 'wine glass', 41: 'cup', 42: 'fork', 43: 'knife', 44: 'spoon', 45: 'bowl', 46: 'banana', 47: 'apple', 48: 'sandwich', 49: 'orange', 50: 'broccoli', 51: 'carrot', 52: 'hot dog', 53: 'pizza', 54: 'donut', 55: 'cake', 56: 'chair', 57: 'couch', 58: 'potted plant', 59: 'bed', 60: 'dining table', 61: 'toilet', 62: 'tv', 63: 'laptop', 64: 'mouse', 65: 'remote', 66: 'keyboard', 67: 'cell phone', 68: 'microwave', 69: 'oven', 70: 'toaster', 71: 'sink', 72: 'refrigerator', 73: 'book', 74: 'clock', 75: 'vase', 76: 'scissors', 77: 'teddy bear', 78: 'hair drier', 79: 'toothbrush'}\n",
       " orig_img: array([[[202, 157, 120],\n",
       "         [202, 157, 120],\n",
       "         [202, 157, 120],\n",
       "         ...,\n",
       "         [199, 161, 129],\n",
       "         [198, 160, 128],\n",
       "         [198, 160, 128]],\n",
       " \n",
       "        [[201, 156, 119],\n",
       "         [201, 156, 119],\n",
       "         [201, 156, 119],\n",
       "         ...,\n",
       "         [199, 161, 129],\n",
       "         [199, 161, 129],\n",
       "         [198, 160, 128]],\n",
       " \n",
       "        [[201, 156, 119],\n",
       "         [201, 156, 119],\n",
       "         [201, 156, 119],\n",
       "         ...,\n",
       "         [200, 162, 130],\n",
       "         [199, 161, 129],\n",
       "         [199, 161, 129]],\n",
       " \n",
       "        ...,\n",
       " \n",
       "        [[202, 204, 205],\n",
       "         [220, 222, 223],\n",
       "         [233, 235, 236],\n",
       "         ...,\n",
       "         [109, 124, 150],\n",
       "         [112, 126, 154],\n",
       "         [106, 123, 150]],\n",
       " \n",
       "        [[197, 199, 200],\n",
       "         [225, 227, 228],\n",
       "         [220, 222, 223],\n",
       "         ...,\n",
       "         [106, 121, 147],\n",
       "         [105, 119, 147],\n",
       "         [105, 121, 150]],\n",
       " \n",
       "        [[208, 210, 211],\n",
       "         [194, 196, 197],\n",
       "         [221, 223, 224],\n",
       "         ...,\n",
       "         [103, 118, 144],\n",
       "         [106, 120, 148],\n",
       "         [118, 134, 163]]], dtype=uint8)\n",
       " orig_shape: (1280, 720)\n",
       " path: '/home/studio-lab-user/DS-Projects/yolov8/dog.jpeg'\n",
       " probs: None\n",
       " speed: {'preprocess': 4.543781280517578, 'inference': 237.2145652770996, 'postprocess': 1.4224052429199219}]"
      ]
     },
     "execution_count": 23,
     "metadata": {},
     "output_type": "execute_result"
    }
   ],
   "source": [
    "model = YOLO('yolov8n.pt')\n",
    "model.predict(\n",
    "   source='https://media.roboflow.com/notebooks/examples/dog.jpeg',\n",
    "   conf=0.25)"
   ]
  },
  {
   "cell_type": "code",
   "execution_count": null,
   "id": "054afd76-c051-4308-bd3c-af70babcdd57",
   "metadata": {},
   "outputs": [],
   "source": []
  }
 ],
 "metadata": {
  "kernelspec": {
   "display_name": "default:Python",
   "language": "python",
   "name": "conda-env-default-py"
  },
  "language_info": {
   "codemirror_mode": {
    "name": "ipython",
    "version": 3
   },
   "file_extension": ".py",
   "mimetype": "text/x-python",
   "name": "python",
   "nbconvert_exporter": "python",
   "pygments_lexer": "ipython3",
   "version": "3.9.10"
  }
 },
 "nbformat": 4,
 "nbformat_minor": 5
}
