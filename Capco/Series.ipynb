{
 "cells": [
  {
   "cell_type": "markdown",
   "id": "51dcaa41-53eb-420f-91b9-1dc0e1f3ea51",
   "metadata": {},
   "source": [
    "# pd.Series(Data)\n",
    "list & Dict\n"
   ]
  },
  {
   "cell_type": "code",
   "execution_count": null,
   "id": "ea371615-032f-4ceb-b6db-cde7a032a8a0",
   "metadata": {},
   "outputs": [],
   "source": []
  }
 ],
 "metadata": {
  "kernelspec": {
   "display_name": "default:Python",
   "language": "python",
   "name": "conda-env-default-py"
  },
  "language_info": {
   "codemirror_mode": {
    "name": "ipython",
    "version": 3
   },
   "file_extension": ".py",
   "mimetype": "text/x-python",
   "name": "python",
   "nbconvert_exporter": "python",
   "pygments_lexer": "ipython3",
   "version": "3.9.10"
  }
 },
 "nbformat": 4,
 "nbformat_minor": 5
}
