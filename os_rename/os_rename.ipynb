{
 "cells": [
  {
   "cell_type": "markdown",
   "id": "ab744063-c709-4a33-9168-671dfb5955a9",
   "metadata": {},
   "source": [
    "https://pynative.com/python-rename-file/"
   ]
  },
  {
   "cell_type": "code",
   "execution_count": 5,
   "id": "4190cb56-b3d8-4ff4-8f8f-53c02ea0b431",
   "metadata": {
    "collapsed": true,
    "jupyter": {
     "outputs_hidden": true
    },
    "tags": []
   },
   "outputs": [
    {
     "name": "stdout",
     "output_type": "stream",
     "text": [
      "Requirement already satisfied: roboflow in /home/studio-lab-user/.conda/envs/default/lib/python3.9/site-packages (0.2.4)\n",
      "Requirement already satisfied: opencv-python>=4.1.2 in /home/studio-lab-user/.conda/envs/default/lib/python3.9/site-packages (from roboflow) (4.5.5.64)\n",
      "Requirement already satisfied: wget in /home/studio-lab-user/.conda/envs/default/lib/python3.9/site-packages (from roboflow) (3.2)\n",
      "Requirement already satisfied: tqdm>=4.41.0 in /home/studio-lab-user/.conda/envs/default/lib/python3.9/site-packages (from roboflow) (4.64.0)\n",
      "Requirement already satisfied: numpy>=1.18.5 in /home/studio-lab-user/.conda/envs/default/lib/python3.9/site-packages (from roboflow) (1.23.1)\n",
      "Requirement already satisfied: requests-toolbelt in /home/studio-lab-user/.conda/envs/default/lib/python3.9/site-packages (from roboflow) (0.9.1)\n",
      "Requirement already satisfied: idna==2.10 in /home/studio-lab-user/.conda/envs/default/lib/python3.9/site-packages (from roboflow) (2.10)\n",
      "Requirement already satisfied: PyYAML>=5.3.1 in /home/studio-lab-user/.conda/envs/default/lib/python3.9/site-packages (from roboflow) (6.0)\n",
      "Requirement already satisfied: chardet==4.0.0 in /home/studio-lab-user/.conda/envs/default/lib/python3.9/site-packages (from roboflow) (4.0.0)\n",
      "Requirement already satisfied: certifi==2021.5.30 in /home/studio-lab-user/.conda/envs/default/lib/python3.9/site-packages (from roboflow) (2021.5.30)\n",
      "Requirement already satisfied: pyparsing==2.4.7 in /home/studio-lab-user/.conda/envs/default/lib/python3.9/site-packages (from roboflow) (2.4.7)\n",
      "Requirement already satisfied: python-dateutil in /home/studio-lab-user/.conda/envs/default/lib/python3.9/site-packages (from roboflow) (2.8.2)\n",
      "Requirement already satisfied: urllib3==1.26.6 in /home/studio-lab-user/.conda/envs/default/lib/python3.9/site-packages (from roboflow) (1.26.6)\n",
      "Requirement already satisfied: six in /home/studio-lab-user/.conda/envs/default/lib/python3.9/site-packages (from roboflow) (1.16.0)\n",
      "Requirement already satisfied: matplotlib in /home/studio-lab-user/.conda/envs/default/lib/python3.9/site-packages (from roboflow) (3.5.2)\n",
      "Requirement already satisfied: Pillow>=7.1.2 in /home/studio-lab-user/.conda/envs/default/lib/python3.9/site-packages (from roboflow) (9.1.1)\n",
      "Requirement already satisfied: cycler==0.10.0 in /home/studio-lab-user/.conda/envs/default/lib/python3.9/site-packages (from roboflow) (0.10.0)\n",
      "Requirement already satisfied: python-dotenv in /home/studio-lab-user/.conda/envs/default/lib/python3.9/site-packages (from roboflow) (0.20.0)\n",
      "Requirement already satisfied: requests in /home/studio-lab-user/.conda/envs/default/lib/python3.9/site-packages (from roboflow) (2.27.1)\n",
      "Requirement already satisfied: kiwisolver==1.3.1 in /home/studio-lab-user/.conda/envs/default/lib/python3.9/site-packages (from roboflow) (1.3.1)\n",
      "Requirement already satisfied: packaging>=20.0 in /home/studio-lab-user/.conda/envs/default/lib/python3.9/site-packages (from matplotlib->roboflow) (21.3)\n",
      "Requirement already satisfied: fonttools>=4.22.0 in /home/studio-lab-user/.conda/envs/default/lib/python3.9/site-packages (from matplotlib->roboflow) (4.33.3)\n",
      "Requirement already satisfied: charset-normalizer~=2.0.0 in /home/studio-lab-user/.conda/envs/default/lib/python3.9/site-packages (from requests->roboflow) (2.0.12)\n",
      "loading Roboflow workspace...\n",
      "loading Roboflow project...\n",
      "Downloading Dataset Version Zip in 1374-1 to yolov5pytorch: 100% [3613535 / 3613535] bytes\n"
     ]
    },
    {
     "name": "stderr",
     "output_type": "stream",
     "text": [
      "Extracting Dataset Version Zip to 1374-1 in yolov5pytorch:: 100%|██████████| 172/172 [00:00<00:00, 6966.14it/s]\n"
     ]
    }
   ],
   "source": [
    "!pip install roboflow\n",
    "\n",
    "from roboflow import Roboflow\n",
    "rf = Roboflow(api_key=\"SgaLxwdHL2ih3at97c7N\")\n",
    "project = rf.workspace(\"logodetection-9ixsl\").project(\"1374\")\n",
    "dataset = project.version(1).download(\"yolov5\")"
   ]
  },
  {
   "cell_type": "code",
   "execution_count": 6,
   "id": "34a1739b-aade-4869-a942-036764b00743",
   "metadata": {},
   "outputs": [],
   "source": [
    "import os\n",
    "\n",
    "train_image = \"/home/studio-lab-user/DS-Projects/os_rename/1374-1/train/images/\"\n",
    "train_label = \"/home/studio-lab-user/DS-Projects/os_rename/1374-1/train/labels/\"\n",
    "val_image = \"/home/studio-lab-user/DS-Projects/os_rename/1374-1/valid/images/\"\n",
    "val_label = \"/home/studio-lab-user/DS-Projects/os_rename/1374-1/valid/labels/\"\n",
    "test_image = \"/home/studio-lab-user/DS-Projects/os_rename/1374-1/test/images/\"\n",
    "test_label = \"/home/studio-lab-user/DS-Projects/os_rename/1374-1/test/labels/\"\n",
    "list_of_train = os.listdir(train_label)\n",
    "list_of_valid = os.listdir(val_label)\n",
    "list_of_test = os.listdir(test_label)\n",
    "\n",
    "\n",
    "\n",
    "count = 1\n",
    "for file_name in os.listdir(train_image):\n",
    "    source = train_image + file_name\n",
    "    destination = train_image + \"pos (\" + str(count) + \")\"+ \".jpg\"\n",
    "    os.rename(source, destination)\n",
    "    count +=1\n",
    "\n",
    "count = 1\n",
    "for file_name in os.listdir(train_label):\n",
    "    source = train_label + file_name\n",
    "    destination = train_label + \"pos (\" + str(count) + \")\"+ \".txt\"\n",
    "    os.rename(source, destination)\n",
    "    count +=1\n",
    "\n",
    "count = len(list_of_train) +1\n",
    "for file_name in os.listdir(val_image):\n",
    "    source = val_image + file_name\n",
    "    destination = val_image + \"pos (\" + str(count) + \")\"+ \".jpg\"\n",
    "    os.rename(source, destination)\n",
    "    count +=1\n",
    "    \n",
    "count = len(list_of_train) +1\n",
    "for file_name in os.listdir(val_label):\n",
    "    source = val_label + file_name\n",
    "    destination = val_label + \"pos (\" + str(count) + \")\"+ \".txt\"\n",
    "    os.rename(source, destination)\n",
    "    count +=1    \n",
    "\n",
    "count = len(list_of_train) + len(list_of_valid) +1\n",
    "for file_name in os.listdir(test_image):\n",
    "    source = test_image + file_name\n",
    "    destination = test_image + \"pos (\" + str(count) + \")\"+ \".jpg\"\n",
    "    os.rename(source, destination)\n",
    "    count +=1\n",
    "    \n",
    "count = len(list_of_train) + len(list_of_valid) +1\n",
    "for file_name in os.listdir(test_label):\n",
    "    source = test_label + file_name\n",
    "    destination = test_label + \"pos (\" + str(count) + \")\"+ \".txt\"\n",
    "    os.rename(source, destination)\n",
    "    count +=1   \n",
    "    \n",
    "    \n",
    "\n",
    "# for file_name in os.listdir(test):\n",
    "#     source = test + file_name\n",
    "#     destination = test + \"pos (\" + str(count) + \")\"+ \".jpg\"\n",
    "#     os.rename(source, destination)\n",
    "#     count +=1"
   ]
  },
  {
   "cell_type": "code",
   "execution_count": 3,
   "id": "8ec4d088-f3d6-4e94-839b-427c57461257",
   "metadata": {},
   "outputs": [
    {
     "name": "stdout",
     "output_type": "stream",
     "text": [
      "/home/studio-lab-user/DS-Projects/os_rename\n"
     ]
    }
   ],
   "source": [
    "%cd /home/studio-lab-user/DS-Projects/os_rename"
   ]
  },
  {
   "cell_type": "code",
   "execution_count": 4,
   "id": "ab4360fa-e4b1-4c16-b25f-03cf89b102cf",
   "metadata": {},
   "outputs": [],
   "source": [
    "!rm -rf 1374-1"
   ]
  },
  {
   "cell_type": "code",
   "execution_count": 27,
   "id": "6804f8f4-c3da-4509-805e-47e39df4a452",
   "metadata": {},
   "outputs": [
    {
     "name": "stdout",
     "output_type": "stream",
     "text": [
      "/home/studio-lab-user/DS-Projects/os_rename/1374-1/train/images\n"
     ]
    }
   ],
   "source": [
    "%cd /home/studio-lab-user/DS-Projects/os_rename/1374-1/train/images\n",
    "# %cd /home/studio-lab-user/DS-Projects/os_rename/1374-1/valid/images\n"
   ]
  },
  {
   "cell_type": "code",
   "execution_count": 38,
   "id": "c1e4014a-8c37-44ac-8166-979f1d9eb41c",
   "metadata": {},
   "outputs": [],
   "source": [
    "!rm -rf Untitled.ipynb"
   ]
  },
  {
   "cell_type": "code",
   "execution_count": 45,
   "id": "69abe5e2-fdf3-4c3f-9a01-cd5ea71a29ce",
   "metadata": {},
   "outputs": [],
   "source": [
    "!rm -rf .ipynb_checkpoints"
   ]
  },
  {
   "cell_type": "code",
   "execution_count": 48,
   "id": "3afcbe21-2215-4afa-9b72-1877c4989cb0",
   "metadata": {},
   "outputs": [
    {
     "name": "stdout",
     "output_type": "stream",
     "text": [
      "/home/studio-lab-user/DS-Projects/os_rename/7388-1/train/labels\n"
     ]
    }
   ],
   "source": [
    "%cd /home/studio-lab-user/DS-Projects/os_rename/7388-1/train/labels/\n",
    "!rm -rf .ipynb_checkpoints"
   ]
  },
  {
   "cell_type": "code",
   "execution_count": null,
   "id": "dc6ae9e0-96be-4dd3-8ab3-5352159d793e",
   "metadata": {},
   "outputs": [],
   "source": []
  }
 ],
 "metadata": {
  "kernelspec": {
   "display_name": "default:Python",
   "language": "python",
   "name": "conda-env-default-py"
  },
  "language_info": {
   "codemirror_mode": {
    "name": "ipython",
    "version": 3
   },
   "file_extension": ".py",
   "mimetype": "text/x-python",
   "name": "python",
   "nbconvert_exporter": "python",
   "pygments_lexer": "ipython3",
   "version": "3.9.10"
  }
 },
 "nbformat": 4,
 "nbformat_minor": 5
}
