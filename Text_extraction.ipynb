{
  "cells": [
    {
      "cell_type": "markdown",
      "metadata": {
        "id": "view-in-github",
        "colab_type": "text"
      },
      "source": [
        "<a href=\"https://colab.research.google.com/github/ewankim1023/Projects/blob/master/Text_extraction.ipynb\" target=\"_parent\"><img src=\"https://colab.research.google.com/assets/colab-badge.svg\" alt=\"Open In Colab\"/></a>"
      ]
    },
    {
      "cell_type": "markdown",
      "metadata": {
        "id": "superb-hindu"
      },
      "source": [
        "# Step 1: Install and import modules"
      ],
      "id": "superb-hindu"
    },
    {
      "cell_type": "code",
      "execution_count": 1,
      "metadata": {
        "colab": {
          "base_uri": "https://localhost:8080/"
        },
        "collapsed": true,
        "id": "working-approval",
        "outputId": "591fd4b1-cdb5-418f-c967-ce86cc468a46"
      },
      "outputs": [
        {
          "output_type": "stream",
          "name": "stdout",
          "text": [
            "Requirement already satisfied: opencv-python in /usr/local/lib/python3.7/dist-packages (4.1.2.30)\n",
            "Requirement already satisfied: numpy>=1.14.5 in /usr/local/lib/python3.7/dist-packages (from opencv-python) (1.19.5)\n",
            "Requirement already satisfied: matplotlib in /usr/local/lib/python3.7/dist-packages (3.2.2)\n",
            "Requirement already satisfied: cycler>=0.10 in /usr/local/lib/python3.7/dist-packages (from matplotlib) (0.11.0)\n",
            "Requirement already satisfied: numpy>=1.11 in /usr/local/lib/python3.7/dist-packages (from matplotlib) (1.19.5)\n",
            "Requirement already satisfied: kiwisolver>=1.0.1 in /usr/local/lib/python3.7/dist-packages (from matplotlib) (1.3.2)\n",
            "Requirement already satisfied: pyparsing!=2.0.4,!=2.1.2,!=2.1.6,>=2.0.1 in /usr/local/lib/python3.7/dist-packages (from matplotlib) (3.0.6)\n",
            "Requirement already satisfied: python-dateutil>=2.1 in /usr/local/lib/python3.7/dist-packages (from matplotlib) (2.8.2)\n",
            "Requirement already satisfied: six>=1.5 in /usr/local/lib/python3.7/dist-packages (from python-dateutil>=2.1->matplotlib) (1.15.0)\n",
            "Requirement already satisfied: numpy in /usr/local/lib/python3.7/dist-packages (1.19.5)\n"
          ]
        }
      ],
      "source": [
        "!pip install opencv-python\n",
        "!pip install matplotlib\n",
        "!pip install numpy"
      ],
      "id": "working-approval"
    },
    {
      "cell_type": "code",
      "execution_count": 2,
      "metadata": {
        "colab": {
          "base_uri": "https://localhost:8080/"
        },
        "collapsed": true,
        "id": "dominant-rainbow",
        "outputId": "9ad5c114-f0fd-40dc-cf6a-bd97e9dff0e0"
      },
      "outputs": [
        {
          "output_type": "stream",
          "name": "stdout",
          "text": [
            "Looking in links: https://download.pytorch.org/whl/torch_stable.html\n",
            "\u001b[31mERROR: Could not find a version that satisfies the requirement torch==1.7.1+gpu (from versions: 0.4.1, 0.4.1.post2, 1.0.0, 1.0.1, 1.0.1.post2, 1.1.0, 1.2.0, 1.2.0+cpu, 1.2.0+cu92, 1.3.0, 1.3.0+cpu, 1.3.0+cu100, 1.3.0+cu92, 1.3.1, 1.3.1+cpu, 1.3.1+cu100, 1.3.1+cu92, 1.4.0, 1.4.0+cpu, 1.4.0+cu100, 1.4.0+cu92, 1.5.0, 1.5.0+cpu, 1.5.0+cu101, 1.5.0+cu92, 1.5.1, 1.5.1+cpu, 1.5.1+cu101, 1.5.1+cu92, 1.6.0, 1.6.0+cpu, 1.6.0+cu101, 1.6.0+cu92, 1.7.0, 1.7.0+cpu, 1.7.0+cu101, 1.7.0+cu110, 1.7.0+cu92, 1.7.1, 1.7.1+cpu, 1.7.1+cu101, 1.7.1+cu110, 1.7.1+cu92, 1.7.1+rocm3.7, 1.7.1+rocm3.8, 1.8.0, 1.8.0+cpu, 1.8.0+cu101, 1.8.0+cu111, 1.8.0+rocm3.10, 1.8.0+rocm4.0.1, 1.8.1, 1.8.1+cpu, 1.8.1+cu101, 1.8.1+cu102, 1.8.1+cu111, 1.8.1+rocm3.10, 1.8.1+rocm4.0.1, 1.9.0, 1.9.0+cpu, 1.9.0+cu102, 1.9.0+cu111, 1.9.0+rocm4.0.1, 1.9.0+rocm4.1, 1.9.0+rocm4.2, 1.9.1, 1.9.1+cpu, 1.9.1+cu102, 1.9.1+cu111, 1.9.1+rocm4.0.1, 1.9.1+rocm4.1, 1.9.1+rocm4.2, 1.10.0, 1.10.0+cpu, 1.10.0+cu102, 1.10.0+cu111, 1.10.0+cu113, 1.10.0+rocm4.0.1, 1.10.0+rocm4.1, 1.10.0+rocm4.2)\u001b[0m\n",
            "\u001b[31mERROR: No matching distribution found for torch==1.7.1+gpu\u001b[0m\n",
            "Collecting easyocr\n",
            "  Downloading easyocr-1.4.1-py3-none-any.whl (63.6 MB)\n",
            "\u001b[K     |████████████████████████████████| 63.6 MB 46.3 MB/s \n",
            "\u001b[?25hRequirement already satisfied: scikit-image in /usr/local/lib/python3.7/dist-packages (from easyocr) (0.18.3)\n",
            "Requirement already satisfied: Pillow<8.3.0 in /usr/local/lib/python3.7/dist-packages (from easyocr) (7.1.2)\n",
            "Requirement already satisfied: torchvision>=0.5 in /usr/local/lib/python3.7/dist-packages (from easyocr) (0.11.1+cu111)\n",
            "Requirement already satisfied: torch in /usr/local/lib/python3.7/dist-packages (from easyocr) (1.10.0+cu111)\n",
            "Collecting opencv-python-headless\n",
            "  Downloading opencv_python_headless-4.5.4.60-cp37-cp37m-manylinux_2_17_x86_64.manylinux2014_x86_64.whl (47.6 MB)\n",
            "\u001b[K     |████████████████████████████████| 47.6 MB 97 kB/s \n",
            "\u001b[?25hRequirement already satisfied: PyYAML in /usr/local/lib/python3.7/dist-packages (from easyocr) (3.13)\n",
            "Requirement already satisfied: numpy in /usr/local/lib/python3.7/dist-packages (from easyocr) (1.19.5)\n",
            "Requirement already satisfied: scipy in /usr/local/lib/python3.7/dist-packages (from easyocr) (1.4.1)\n",
            "Collecting python-bidi\n",
            "  Downloading python_bidi-0.4.2-py2.py3-none-any.whl (30 kB)\n",
            "Requirement already satisfied: typing-extensions in /usr/local/lib/python3.7/dist-packages (from torch->easyocr) (3.10.0.2)\n",
            "Requirement already satisfied: six in /usr/local/lib/python3.7/dist-packages (from python-bidi->easyocr) (1.15.0)\n",
            "Requirement already satisfied: imageio>=2.3.0 in /usr/local/lib/python3.7/dist-packages (from scikit-image->easyocr) (2.4.1)\n",
            "Requirement already satisfied: matplotlib!=3.0.0,>=2.0.0 in /usr/local/lib/python3.7/dist-packages (from scikit-image->easyocr) (3.2.2)\n",
            "Requirement already satisfied: PyWavelets>=1.1.1 in /usr/local/lib/python3.7/dist-packages (from scikit-image->easyocr) (1.2.0)\n",
            "Requirement already satisfied: networkx>=2.0 in /usr/local/lib/python3.7/dist-packages (from scikit-image->easyocr) (2.6.3)\n",
            "Requirement already satisfied: tifffile>=2019.7.26 in /usr/local/lib/python3.7/dist-packages (from scikit-image->easyocr) (2021.11.2)\n",
            "Requirement already satisfied: kiwisolver>=1.0.1 in /usr/local/lib/python3.7/dist-packages (from matplotlib!=3.0.0,>=2.0.0->scikit-image->easyocr) (1.3.2)\n",
            "Requirement already satisfied: python-dateutil>=2.1 in /usr/local/lib/python3.7/dist-packages (from matplotlib!=3.0.0,>=2.0.0->scikit-image->easyocr) (2.8.2)\n",
            "Requirement already satisfied: cycler>=0.10 in /usr/local/lib/python3.7/dist-packages (from matplotlib!=3.0.0,>=2.0.0->scikit-image->easyocr) (0.11.0)\n",
            "Requirement already satisfied: pyparsing!=2.0.4,!=2.1.2,!=2.1.6,>=2.0.1 in /usr/local/lib/python3.7/dist-packages (from matplotlib!=3.0.0,>=2.0.0->scikit-image->easyocr) (3.0.6)\n",
            "Installing collected packages: python-bidi, opencv-python-headless, easyocr\n",
            "Successfully installed easyocr-1.4.1 opencv-python-headless-4.5.4.60 python-bidi-0.4.2\n"
          ]
        }
      ],
      "source": [
        "# !pip install torch==1.7.1+gpu torchvision==0.8.2+gpu torchaudio===0.7.2 -f https://download.pytorch.org/whl/torch_stable.html\n",
        "!pip install easyocr"
      ],
      "id": "dominant-rainbow"
    },
    {
      "cell_type": "code",
      "execution_count": 4,
      "metadata": {
        "id": "gentle-member"
      },
      "outputs": [],
      "source": [
        "import torch\n",
        "import cv2\n",
        "import numpy as np\n",
        "import easyocr\n",
        "import matplotlib.pyplot as plt\n",
        "%matplotlib inline"
      ],
      "id": "gentle-member"
    },
    {
      "cell_type": "markdown",
      "metadata": {
        "id": "acoustic-correspondence"
      },
      "source": [
        "# Step 2: Image loading and text recognition using EasyOCR"
      ],
      "id": "acoustic-correspondence"
    },
    {
      "cell_type": "code",
      "execution_count": 15,
      "metadata": {
        "id": "everyday-saturday"
      },
      "outputs": [],
      "source": [
        "im_3_path = '3_barepure.jpeg'\n",
        "im_4_path = 'Nud.jpeg'\n",
        "im_5_path = 'pure.jpeg'"
      ],
      "id": "everyday-saturday"
    },
    {
      "cell_type": "code",
      "execution_count": 6,
      "metadata": {
        "id": "available-perspective"
      },
      "outputs": [],
      "source": [
        "def recognize_text(img_path):\n",
        "    '''loads an image and recognizes text.'''\n",
        "    \n",
        "    reader = easyocr.Reader(['en'])\n",
        "    return reader.readtext(img_path)"
      ],
      "id": "available-perspective"
    },
    {
      "cell_type": "code",
      "execution_count": 8,
      "metadata": {
        "id": "choice-length"
      },
      "outputs": [],
      "source": [
        "result = recognize_text(im_3_path)"
      ],
      "id": "choice-length"
    },
    {
      "cell_type": "code",
      "execution_count": 9,
      "metadata": {
        "id": "specialized-occasion",
        "colab": {
          "base_uri": "https://localhost:8080/"
        },
        "outputId": "67a6a419-97c1-4c46-fdaf-a440fae0b530"
      },
      "outputs": [
        {
          "output_type": "stream",
          "name": "stdout",
          "text": [
            "SMOOTHSKIN 6r8+ SAFE AND SIMPLE TO USE, COMPLETELY TAILORED TO YOU, purel SMOOTHSKIN BARE+ SMOOTHSKIN PURE IS ULTRAFAST IS INTELLIGENT AND ULTRAFAST A WHOLE-BODY TREATMENT TAKES JUST 10 MINUTES 04444 4444 FLAT ENERGY LEVEL OF ADJUSTABLE ENERGY LEVEL OF 4J/CM2 3 TO 6J/CM? THE DEVICE THIS SMART DEVICE MEASURES YOUR ADAPTS EACH FLASH TO $ SKIN TONE YOUR UNIQUE SKIN-TONE, AND WILL ONLY FLASH GIVING YOU THE SAFEST AND IF ITS SAFE MOST POWERFUL TREATMENT UNLIMITED FLASHES THE DEVICE COMES WITH STAMP AND GLIDE MODES, PERFECT FOR TARGETING LARGER AREAS LIKE THE LEGS OR MORE PRECISE AREAS LIKE UPPER LIP THERE ARE 3 OPERATING MODES SIMPLY PRESS To CHOOSE FROM WHETHER YOU WANT SOMETHING AND GOI A BIT MORE GENTLE, FAST OR POWERFUL WEEKS SEE RESULTS IN AS LITTLE AS 4 WEEKS ONCE YOUR 12-WEEK TREATMENT PLAN HAS FINISHED, YOU CAN TOP UP EVERY: 2-4 WEEKS 4-8 WEEKS OR As REQUIRED OR As REQUIRED \n"
          ]
        }
      ],
      "source": [
        "sentence = ''\n",
        "for (bbox, text, prob) in result:\n",
        "    sentence += f'{text} '\n",
        "print(sentence)"
      ],
      "id": "specialized-occasion"
    },
    {
      "cell_type": "code",
      "source": [
        "result2 = recognize_text(im_4_path)"
      ],
      "metadata": {
        "colab": {
          "base_uri": "https://localhost:8080/"
        },
        "id": "tyPjd2Bjnx-0",
        "outputId": "d86f9f7d-e755-4b83-9b0c-ac480c9bdbe9"
      },
      "id": "tyPjd2Bjnx-0",
      "execution_count": 18,
      "outputs": [
        {
          "output_type": "stream",
          "name": "stderr",
          "text": [
            "/usr/local/lib/python3.7/dist-packages/PIL/Image.py:2800: DecompressionBombWarning: Image size (100000000 pixels) exceeds limit of 89478485 pixels, could be decompression bomb DOS attack.\n",
            "  DecompressionBombWarning,\n"
          ]
        }
      ]
    },
    {
      "cell_type": "code",
      "source": [
        "sentence = ''\n",
        "for (bbox, text, prob) in result2:\n",
        "    sentence += f'{text} '\n",
        "print(sentence)"
      ],
      "metadata": {
        "colab": {
          "base_uri": "https://localhost:8080/"
        },
        "id": "sVVDJlzvn8ZA",
        "outputId": "278eaca3-95b6-4fb7-ceda-b787f14c5eef"
      },
      "id": "sVVDJlzvn8ZA",
      "execution_count": 20,
      "outputs": [
        {
          "output_type": "stream",
          "name": "stdout",
          "text": [
            "30* EXTRA 5 ENERGY 23321 <= *THAN PREVIOUS VERSION SMOOTHSKIN 4 oare ULTRAFAST IPL HAIR REMOVAL 10 minutes and voilal ULTRAFAST IPL DEVICE FOR REMOVAL OF UNWANTED HAIR ON BODY AND FACE X 3 \" SMOOTHSKIN Oore IPL USER GUIDE \n"
          ]
        }
      ]
    }
  ],
  "metadata": {
    "accelerator": "GPU",
    "colab": {
      "name": "Optical Character Recognition using OpenCV and EasyOCR.ipynb",
      "provenance": [],
      "include_colab_link": true
    },
    "kernelspec": {
      "display_name": "Python 3",
      "language": "python",
      "name": "python3"
    },
    "language_info": {
      "codemirror_mode": {
        "name": "ipython",
        "version": 3
      },
      "file_extension": ".py",
      "mimetype": "text/x-python",
      "name": "python",
      "nbconvert_exporter": "python",
      "pygments_lexer": "ipython3",
      "version": "3.8.12"
    }
  },
  "nbformat": 4,
  "nbformat_minor": 5
}