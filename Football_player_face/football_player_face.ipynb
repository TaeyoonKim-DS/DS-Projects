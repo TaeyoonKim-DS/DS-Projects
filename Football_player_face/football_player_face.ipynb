{
 "cells": [
  {
   "cell_type": "code",
   "execution_count": 29,
   "id": "4a29942d-4f28-4c9c-9762-b92b74e53955",
   "metadata": {},
   "outputs": [
    {
     "name": "stdout",
     "output_type": "stream",
     "text": [
      "Requirement already satisfied: dlib in /home/studio-lab-user/.conda/envs/default/lib/python3.9/site-packages (19.24.0)\n",
      "Collecting astropy\n",
      "  Downloading astropy-5.1-cp39-cp39-manylinux_2_12_x86_64.manylinux2010_x86_64.whl (11.0 MB)\n",
      "\u001b[2K     \u001b[90m━━━━━━━━━━━━━━━━━━━━━━━━━━━━━━━━━━━━━━━━\u001b[0m \u001b[32m11.0/11.0 MB\u001b[0m \u001b[31m88.6 MB/s\u001b[0m eta \u001b[36m0:00:00\u001b[0m00:01\u001b[0m0:01\u001b[0m\n",
      "\u001b[?25hRequirement already satisfied: PyYAML>=3.13 in /home/studio-lab-user/.conda/envs/default/lib/python3.9/site-packages (from astropy) (6.0)\n",
      "Requirement already satisfied: numpy>=1.18 in /home/studio-lab-user/.conda/envs/default/lib/python3.9/site-packages (from astropy) (1.23.1)\n",
      "Requirement already satisfied: packaging>=19.0 in /home/studio-lab-user/.conda/envs/default/lib/python3.9/site-packages (from astropy) (21.3)\n",
      "Collecting pyerfa>=2.0\n",
      "  Downloading pyerfa-2.0.0.1-cp39-cp39-manylinux_2_5_x86_64.manylinux1_x86_64.manylinux_2_12_x86_64.manylinux2010_x86_64.whl (742 kB)\n",
      "\u001b[2K     \u001b[90m━━━━━━━━━━━━━━━━━━━━━━━━━━━━━━━━━━━━━━\u001b[0m \u001b[32m742.9/742.9 kB\u001b[0m \u001b[31m69.2 MB/s\u001b[0m eta \u001b[36m0:00:00\u001b[0m\n",
      "\u001b[?25hRequirement already satisfied: pyparsing!=3.0.5,>=2.0.2 in /home/studio-lab-user/.conda/envs/default/lib/python3.9/site-packages (from packaging>=19.0->astropy) (2.4.7)\n",
      "Installing collected packages: pyerfa, astropy\n",
      "Successfully installed astropy-5.1 pyerfa-2.0.0.1\n"
     ]
    }
   ],
   "source": [
    "!pip install dlib\n",
    "!pip install astropy "
   ]
  },
  {
   "cell_type": "code",
   "execution_count": 1,
   "id": "01a36a67-444c-48d7-b2ef-cb0dcabce3e9",
   "metadata": {},
   "outputs": [
    {
     "name": "stderr",
     "output_type": "stream",
     "text": [
      "/home/studio-lab-user/.conda/envs/default/lib/python3.9/site-packages/scipy/__init__.py:146: UserWarning: A NumPy version >=1.16.5 and <1.23.0 is required for this version of SciPy (detected version 1.23.1\n",
      "  warnings.warn(f\"A NumPy version >={np_minversion} and <{np_maxversion}\"\n"
     ]
    }
   ],
   "source": [
    "import pandas as pd\n",
    "import numpy as np\n",
    "import matplotlib.pyplot as plt\n",
    "import seaborn as sns\n",
    "import os\n",
    "import urllib.request\n",
    "from tqdm import tqdm\n",
    "import requests\n",
    "import shutil\n",
    "import dlib"
   ]
  },
  {
   "cell_type": "code",
   "execution_count": 2,
   "id": "0bb9b441-25d4-43d1-8595-4d10d8e5e037",
   "metadata": {},
   "outputs": [
    {
     "name": "stderr",
     "output_type": "stream",
     "text": [
      "/tmp/ipykernel_1613/1327346208.py:1: DtypeWarning: Columns (25,108) have mixed types. Specify dtype option on import or set low_memory=False.\n",
      "  df = pd.read_csv('players_22.csv')\n"
     ]
    },
    {
     "data": {
      "text/html": [
       "<div>\n",
       "<style scoped>\n",
       "    .dataframe tbody tr th:only-of-type {\n",
       "        vertical-align: middle;\n",
       "    }\n",
       "\n",
       "    .dataframe tbody tr th {\n",
       "        vertical-align: top;\n",
       "    }\n",
       "\n",
       "    .dataframe thead th {\n",
       "        text-align: right;\n",
       "    }\n",
       "</style>\n",
       "<table border=\"1\" class=\"dataframe\">\n",
       "  <thead>\n",
       "    <tr style=\"text-align: right;\">\n",
       "      <th></th>\n",
       "      <th>sofifa_id</th>\n",
       "      <th>player_url</th>\n",
       "      <th>short_name</th>\n",
       "      <th>long_name</th>\n",
       "      <th>player_positions</th>\n",
       "      <th>overall</th>\n",
       "      <th>potential</th>\n",
       "      <th>value_eur</th>\n",
       "      <th>wage_eur</th>\n",
       "      <th>age</th>\n",
       "      <th>...</th>\n",
       "      <th>lcb</th>\n",
       "      <th>cb</th>\n",
       "      <th>rcb</th>\n",
       "      <th>rb</th>\n",
       "      <th>gk</th>\n",
       "      <th>player_face_url</th>\n",
       "      <th>club_logo_url</th>\n",
       "      <th>club_flag_url</th>\n",
       "      <th>nation_logo_url</th>\n",
       "      <th>nation_flag_url</th>\n",
       "    </tr>\n",
       "  </thead>\n",
       "  <tbody>\n",
       "    <tr>\n",
       "      <th>0</th>\n",
       "      <td>158023</td>\n",
       "      <td>https://sofifa.com/player/158023/lionel-messi/...</td>\n",
       "      <td>L. Messi</td>\n",
       "      <td>Lionel Andrés Messi Cuccittini</td>\n",
       "      <td>RW, ST, CF</td>\n",
       "      <td>93</td>\n",
       "      <td>93</td>\n",
       "      <td>78000000.0</td>\n",
       "      <td>320000.0</td>\n",
       "      <td>34</td>\n",
       "      <td>...</td>\n",
       "      <td>50+3</td>\n",
       "      <td>50+3</td>\n",
       "      <td>50+3</td>\n",
       "      <td>61+3</td>\n",
       "      <td>19+3</td>\n",
       "      <td>https://cdn.sofifa.net/players/158/023/22_120.png</td>\n",
       "      <td>https://cdn.sofifa.net/teams/73/60.png</td>\n",
       "      <td>https://cdn.sofifa.net/flags/fr.png</td>\n",
       "      <td>https://cdn.sofifa.net/teams/1369/60.png</td>\n",
       "      <td>https://cdn.sofifa.net/flags/ar.png</td>\n",
       "    </tr>\n",
       "    <tr>\n",
       "      <th>1</th>\n",
       "      <td>188545</td>\n",
       "      <td>https://sofifa.com/player/188545/robert-lewand...</td>\n",
       "      <td>R. Lewandowski</td>\n",
       "      <td>Robert Lewandowski</td>\n",
       "      <td>ST</td>\n",
       "      <td>92</td>\n",
       "      <td>92</td>\n",
       "      <td>119500000.0</td>\n",
       "      <td>270000.0</td>\n",
       "      <td>32</td>\n",
       "      <td>...</td>\n",
       "      <td>60+3</td>\n",
       "      <td>60+3</td>\n",
       "      <td>60+3</td>\n",
       "      <td>61+3</td>\n",
       "      <td>19+3</td>\n",
       "      <td>https://cdn.sofifa.net/players/188/545/22_120.png</td>\n",
       "      <td>https://cdn.sofifa.net/teams/21/60.png</td>\n",
       "      <td>https://cdn.sofifa.net/flags/de.png</td>\n",
       "      <td>https://cdn.sofifa.net/teams/1353/60.png</td>\n",
       "      <td>https://cdn.sofifa.net/flags/pl.png</td>\n",
       "    </tr>\n",
       "    <tr>\n",
       "      <th>2</th>\n",
       "      <td>20801</td>\n",
       "      <td>https://sofifa.com/player/20801/c-ronaldo-dos-...</td>\n",
       "      <td>Cristiano Ronaldo</td>\n",
       "      <td>Cristiano Ronaldo dos Santos Aveiro</td>\n",
       "      <td>ST, LW</td>\n",
       "      <td>91</td>\n",
       "      <td>91</td>\n",
       "      <td>45000000.0</td>\n",
       "      <td>270000.0</td>\n",
       "      <td>36</td>\n",
       "      <td>...</td>\n",
       "      <td>53+3</td>\n",
       "      <td>53+3</td>\n",
       "      <td>53+3</td>\n",
       "      <td>60+3</td>\n",
       "      <td>20+3</td>\n",
       "      <td>https://cdn.sofifa.net/players/020/801/22_120.png</td>\n",
       "      <td>https://cdn.sofifa.net/teams/11/60.png</td>\n",
       "      <td>https://cdn.sofifa.net/flags/gb-eng.png</td>\n",
       "      <td>https://cdn.sofifa.net/teams/1354/60.png</td>\n",
       "      <td>https://cdn.sofifa.net/flags/pt.png</td>\n",
       "    </tr>\n",
       "    <tr>\n",
       "      <th>3</th>\n",
       "      <td>190871</td>\n",
       "      <td>https://sofifa.com/player/190871/neymar-da-sil...</td>\n",
       "      <td>Neymar Jr</td>\n",
       "      <td>Neymar da Silva Santos Júnior</td>\n",
       "      <td>LW, CAM</td>\n",
       "      <td>91</td>\n",
       "      <td>91</td>\n",
       "      <td>129000000.0</td>\n",
       "      <td>270000.0</td>\n",
       "      <td>29</td>\n",
       "      <td>...</td>\n",
       "      <td>50+3</td>\n",
       "      <td>50+3</td>\n",
       "      <td>50+3</td>\n",
       "      <td>62+3</td>\n",
       "      <td>20+3</td>\n",
       "      <td>https://cdn.sofifa.net/players/190/871/22_120.png</td>\n",
       "      <td>https://cdn.sofifa.net/teams/73/60.png</td>\n",
       "      <td>https://cdn.sofifa.net/flags/fr.png</td>\n",
       "      <td>NaN</td>\n",
       "      <td>https://cdn.sofifa.net/flags/br.png</td>\n",
       "    </tr>\n",
       "    <tr>\n",
       "      <th>4</th>\n",
       "      <td>192985</td>\n",
       "      <td>https://sofifa.com/player/192985/kevin-de-bruy...</td>\n",
       "      <td>K. De Bruyne</td>\n",
       "      <td>Kevin De Bruyne</td>\n",
       "      <td>CM, CAM</td>\n",
       "      <td>91</td>\n",
       "      <td>91</td>\n",
       "      <td>125500000.0</td>\n",
       "      <td>350000.0</td>\n",
       "      <td>30</td>\n",
       "      <td>...</td>\n",
       "      <td>69+3</td>\n",
       "      <td>69+3</td>\n",
       "      <td>69+3</td>\n",
       "      <td>75+3</td>\n",
       "      <td>21+3</td>\n",
       "      <td>https://cdn.sofifa.net/players/192/985/22_120.png</td>\n",
       "      <td>https://cdn.sofifa.net/teams/10/60.png</td>\n",
       "      <td>https://cdn.sofifa.net/flags/gb-eng.png</td>\n",
       "      <td>https://cdn.sofifa.net/teams/1325/60.png</td>\n",
       "      <td>https://cdn.sofifa.net/flags/be.png</td>\n",
       "    </tr>\n",
       "  </tbody>\n",
       "</table>\n",
       "<p>5 rows × 110 columns</p>\n",
       "</div>"
      ],
      "text/plain": [
       "   sofifa_id                                         player_url  \\\n",
       "0     158023  https://sofifa.com/player/158023/lionel-messi/...   \n",
       "1     188545  https://sofifa.com/player/188545/robert-lewand...   \n",
       "2      20801  https://sofifa.com/player/20801/c-ronaldo-dos-...   \n",
       "3     190871  https://sofifa.com/player/190871/neymar-da-sil...   \n",
       "4     192985  https://sofifa.com/player/192985/kevin-de-bruy...   \n",
       "\n",
       "          short_name                            long_name player_positions  \\\n",
       "0           L. Messi       Lionel Andrés Messi Cuccittini       RW, ST, CF   \n",
       "1     R. Lewandowski                   Robert Lewandowski               ST   \n",
       "2  Cristiano Ronaldo  Cristiano Ronaldo dos Santos Aveiro           ST, LW   \n",
       "3          Neymar Jr        Neymar da Silva Santos Júnior          LW, CAM   \n",
       "4       K. De Bruyne                      Kevin De Bruyne          CM, CAM   \n",
       "\n",
       "   overall  potential    value_eur  wage_eur  age  ...   lcb    cb   rcb  \\\n",
       "0       93         93   78000000.0  320000.0   34  ...  50+3  50+3  50+3   \n",
       "1       92         92  119500000.0  270000.0   32  ...  60+3  60+3  60+3   \n",
       "2       91         91   45000000.0  270000.0   36  ...  53+3  53+3  53+3   \n",
       "3       91         91  129000000.0  270000.0   29  ...  50+3  50+3  50+3   \n",
       "4       91         91  125500000.0  350000.0   30  ...  69+3  69+3  69+3   \n",
       "\n",
       "     rb    gk                                    player_face_url  \\\n",
       "0  61+3  19+3  https://cdn.sofifa.net/players/158/023/22_120.png   \n",
       "1  61+3  19+3  https://cdn.sofifa.net/players/188/545/22_120.png   \n",
       "2  60+3  20+3  https://cdn.sofifa.net/players/020/801/22_120.png   \n",
       "3  62+3  20+3  https://cdn.sofifa.net/players/190/871/22_120.png   \n",
       "4  75+3  21+3  https://cdn.sofifa.net/players/192/985/22_120.png   \n",
       "\n",
       "                            club_logo_url  \\\n",
       "0  https://cdn.sofifa.net/teams/73/60.png   \n",
       "1  https://cdn.sofifa.net/teams/21/60.png   \n",
       "2  https://cdn.sofifa.net/teams/11/60.png   \n",
       "3  https://cdn.sofifa.net/teams/73/60.png   \n",
       "4  https://cdn.sofifa.net/teams/10/60.png   \n",
       "\n",
       "                             club_flag_url  \\\n",
       "0      https://cdn.sofifa.net/flags/fr.png   \n",
       "1      https://cdn.sofifa.net/flags/de.png   \n",
       "2  https://cdn.sofifa.net/flags/gb-eng.png   \n",
       "3      https://cdn.sofifa.net/flags/fr.png   \n",
       "4  https://cdn.sofifa.net/flags/gb-eng.png   \n",
       "\n",
       "                            nation_logo_url  \\\n",
       "0  https://cdn.sofifa.net/teams/1369/60.png   \n",
       "1  https://cdn.sofifa.net/teams/1353/60.png   \n",
       "2  https://cdn.sofifa.net/teams/1354/60.png   \n",
       "3                                       NaN   \n",
       "4  https://cdn.sofifa.net/teams/1325/60.png   \n",
       "\n",
       "                       nation_flag_url  \n",
       "0  https://cdn.sofifa.net/flags/ar.png  \n",
       "1  https://cdn.sofifa.net/flags/pl.png  \n",
       "2  https://cdn.sofifa.net/flags/pt.png  \n",
       "3  https://cdn.sofifa.net/flags/br.png  \n",
       "4  https://cdn.sofifa.net/flags/be.png  \n",
       "\n",
       "[5 rows x 110 columns]"
      ]
     },
     "execution_count": 2,
     "metadata": {},
     "output_type": "execute_result"
    }
   ],
   "source": [
    "df = pd.read_csv('players_22.csv')\n",
    "df.head()"
   ]
  },
  {
   "cell_type": "code",
   "execution_count": 3,
   "id": "1e37e910-c828-4abc-83c1-11885fbb500b",
   "metadata": {},
   "outputs": [
    {
     "data": {
      "text/plain": [
       "sofifa_id                                                      158023\n",
       "player_url          https://sofifa.com/player/158023/lionel-messi/...\n",
       "short_name                                                   L. Messi\n",
       "long_name                              Lionel Andrés Messi Cuccittini\n",
       "player_positions                                           RW, ST, CF\n",
       "                                          ...                        \n",
       "player_face_url     https://cdn.sofifa.net/players/158/023/22_120.png\n",
       "club_logo_url                  https://cdn.sofifa.net/teams/73/60.png\n",
       "club_flag_url                     https://cdn.sofifa.net/flags/fr.png\n",
       "nation_logo_url              https://cdn.sofifa.net/teams/1369/60.png\n",
       "nation_flag_url                   https://cdn.sofifa.net/flags/ar.png\n",
       "Name: 0, Length: 110, dtype: object"
      ]
     },
     "execution_count": 3,
     "metadata": {},
     "output_type": "execute_result"
    }
   ],
   "source": [
    "# Lionel Messi\n",
    "df.iloc[0]\n",
    "#player_url includes image faces"
   ]
  },
  {
   "cell_type": "code",
   "execution_count": 4,
   "id": "c858389a-9f55-4d96-a19a-3123d66cdd68",
   "metadata": {},
   "outputs": [
    {
     "name": "stdout",
     "output_type": "stream",
     "text": [
      "weekly_salary:  320000.0\n",
      "Overall:  93\n"
     ]
    }
   ],
   "source": [
    "print(\"weekly_salary: \", df.iloc[0]['wage_eur']) # Weekly_salary\n",
    "print(\"Overall: \", df.iloc[0]['overall']) # player current overall attribute"
   ]
  },
  {
   "cell_type": "markdown",
   "id": "b11198c1-bb26-442b-a825-589b7eefab2e",
   "metadata": {},
   "source": [
    "# Download images from the player_url_face"
   ]
  },
  {
   "cell_type": "code",
   "execution_count": 15,
   "id": "c114ddff-b56b-41ce-afda-5d5aa963ea9d",
   "metadata": {},
   "outputs": [
    {
     "name": "stderr",
     "output_type": "stream",
     "text": [
      "19239it [45:37,  7.03it/s]\n"
     ]
    }
   ],
   "source": [
    "os.makedirs('imgs', exist_ok=True)\n",
    "\n",
    "for i, row in tqdm(df.iterrows()):\n",
    "    img_url = row['player_face_url']\n",
    "    overall = row['overall']\n",
    "\n",
    "    r = requests.get(img_url, stream=True, headers={'User-agent': 'Mozilla/5.0'})\n",
    "\n",
    "    if r.status_code == 200:\n",
    "        with open('imgs/%s_%s.png' % (i, overall), 'wb') as f:\n",
    "            r.raw.decode_content = True\n",
    "            shutil.copyfileobj(r.raw, f)\n",
    "    else:\n",
    "        print(row['short_name'])"
   ]
  },
  {
   "cell_type": "markdown",
   "id": "bb23ad68-f778-4e7a-ab01-d5e82358204e",
   "metadata": {},
   "source": [
    "# Download ArcFace Face Recognition Package"
   ]
  },
  {
   "cell_type": "code",
   "execution_count": 21,
   "id": "0854c6cb-cdbd-41ce-ab13-4076a53b8d4d",
   "metadata": {},
   "outputs": [],
   "source": [
    "!pip install -q arcface"
   ]
  },
  {
   "cell_type": "markdown",
   "id": "32aa5477-ab5c-4ea7-8c09-6269be89a1dc",
   "metadata": {},
   "source": [
    "# Face Recognition"
   ]
  },
  {
   "cell_type": "code",
   "execution_count": 5,
   "id": "711a37d8-8e66-4d21-b112-2da557503742",
   "metadata": {},
   "outputs": [
    {
     "data": {
      "text/plain": [
       "['imgs/0_93.png',\n",
       " 'imgs/1_92.png',\n",
       " 'imgs/2_91.png',\n",
       " 'imgs/3_91.png',\n",
       " 'imgs/4_91.png']"
      ]
     },
     "execution_count": 5,
     "metadata": {},
     "output_type": "execute_result"
    }
   ],
   "source": [
    "from glob import glob\n",
    "img_list = glob('imgs/*.png')\n",
    "img_list[:5]"
   ]
  },
  {
   "cell_type": "code",
   "execution_count": 6,
   "id": "25a314a2-c08e-4341-8b19-2818c9fb1b1e",
   "metadata": {},
   "outputs": [
    {
     "data": {
      "image/png": "[encoded data removed]",
      "text/plain": [
       "<PIL.PngImagePlugin.PngImageFile image mode=RGBA size=120x120>"
      ]
     },
     "execution_count": 6,
     "metadata": {},
     "output_type": "execute_result"
    }
   ],
   "source": [
    "from PIL import Image\n",
    "Image.open(img_list[0])"
   ]
  },
  {
   "cell_type": "code",
   "execution_count": 7,
   "id": "9556a9a3-6eb6-4b9e-b78c-4c61eaa7aaf8",
   "metadata": {},
   "outputs": [
    {
     "data": {
      "image/png": "[encoded data removed]",
      "text/plain": [
       "<PIL.Image.Image image mode=RGB size=72x72>"
      ]
     },
     "execution_count": 7,
     "metadata": {},
     "output_type": "execute_result"
    }
   ],
   "source": [
    "detector = dlib.get_frontal_face_detector()\n",
    "img = Image.open(img_list[0]).convert('RGB')\n",
    "dets = detector(np.array(img))\n",
    "det = dets[0]\n",
    "\n",
    "x1 = det.left()\n",
    "y1 = det.top()\n",
    "x2 = det.right()\n",
    "y2 = det.bottom()\n",
    "\n",
    "crop_img = img.crop((x1, y1, x2, y2))\n",
    "crop_img.save('temp_crop.jpg')\n",
    "\n",
    "crop_img"
   ]
  },
  {
   "cell_type": "code",
   "execution_count": 8,
   "id": "cbc4d62c-a001-4be4-bd47-67d53a172017",
   "metadata": {},
   "outputs": [
    {
     "name": "stderr",
     "output_type": "stream",
     "text": [
      "2022-09-14 18:08:15.104884: I tensorflow/core/platform/cpu_feature_guard.cc:193] This TensorFlow binary is optimized with oneAPI Deep Neural Network Library (oneDNN) to use the following CPU instructions in performance-critical operations:  AVX2 AVX512F FMA\n",
      "To enable them in other operations, rebuild TensorFlow with the appropriate compiler flags.\n",
      "2022-09-14 18:08:15.339050: W tensorflow/stream_executor/platform/default/dso_loader.cc:64] Could not load dynamic library 'libcudart.so.11.0'; dlerror: libcudart.so.11.0: cannot open shared object file: No such file or directory\n",
      "2022-09-14 18:08:15.339075: I tensorflow/stream_executor/cuda/cudart_stub.cc:29] Ignore above cudart dlerror if you do not have a GPU set up on your machine.\n",
      "2022-09-14 18:08:15.365540: E tensorflow/stream_executor/cuda/cuda_blas.cc:2981] Unable to register cuBLAS factory: Attempting to register factory for plugin cuBLAS when one has already been registered\n",
      "2022-09-14 18:08:16.772181: W tensorflow/stream_executor/platform/default/dso_loader.cc:64] Could not load dynamic library 'libnvinfer.so.7'; dlerror: libnvinfer.so.7: cannot open shared object file: No such file or directory\n",
      "2022-09-14 18:08:16.772370: W tensorflow/stream_executor/platform/default/dso_loader.cc:64] Could not load dynamic library 'libnvinfer_plugin.so.7'; dlerror: libnvinfer_plugin.so.7: cannot open shared object file: No such file or directory\n",
      "2022-09-14 18:08:16.772381: W tensorflow/compiler/tf2tensorrt/utils/py_utils.cc:38] TF-TRT Warning: Cannot dlopen some TensorRT libraries. If you would like to use Nvidia GPU with TensorRT, please make sure the missing libraries mentioned above are installed properly.\n",
      "INFO: Created TensorFlow Lite XNNPACK delegate for CPU.\n"
     ]
    },
    {
     "data": {
      "text/plain": [
       "(512,)"
      ]
     },
     "execution_count": 8,
     "metadata": {},
     "output_type": "execute_result"
    }
   ],
   "source": [
    "from arcface import ArcFace\n",
    "\n",
    "face_rec = ArcFace.ArcFace()\n",
    "\n",
    "emb = face_rec.calc_emb('temp_crop.jpg')\n",
    "\n",
    "emb.shape"
   ]
  },
  {
   "cell_type": "code",
   "execution_count": 9,
   "id": "a15398b9-38d8-4b5e-8f18-c12adb6ef08f",
   "metadata": {
    "collapsed": true,
    "jupyter": {
     "outputs_hidden": true
    },
    "tags": []
   },
   "outputs": [
    {
     "data": {
      "text/plain": [
       "array([ 8.17985274e-03,  5.26579581e-02, -1.63791664e-02,  2.72771493e-02,\n",
       "       -9.41570383e-03, -2.96307113e-02, -2.18250160e-03, -4.96064685e-02,\n",
       "       -6.65359646e-02,  4.44592275e-02,  1.74693912e-02, -3.20289284e-02,\n",
       "       -2.46205628e-02,  3.09086982e-02, -3.96010280e-02, -7.03101456e-02,\n",
       "        9.25098732e-03,  1.13457749e-02,  3.50043885e-02,  8.79960805e-02,\n",
       "       -5.76609783e-02,  4.47075032e-02,  1.88420881e-02,  4.42802906e-02,\n",
       "       -1.22972522e-02, -1.11668982e-01,  3.37831229e-02,  3.52989547e-02,\n",
       "        4.77246307e-02,  1.31487735e-02,  6.88455850e-02,  9.94007476e-03,\n",
       "        4.47572246e-02, -5.76930940e-02,  4.10332493e-02,  5.80345886e-03,\n",
       "       -2.80749351e-02,  1.87507719e-02, -6.86261952e-02,  1.58220492e-02,\n",
       "       -3.93080078e-02,  1.22232297e-02, -4.27124947e-02, -4.22309190e-02,\n",
       "        3.24350074e-02, -5.29659688e-02, -5.11041395e-02, -6.02952577e-02,\n",
       "       -3.82073522e-02,  9.22806263e-02,  5.56739718e-02, -9.66121617e-04,\n",
       "        2.08795089e-02,  1.36797339e-01, -6.54154283e-04,  1.21075042e-01,\n",
       "        3.85307334e-02,  5.71470754e-03, -3.22980173e-02, -5.57199493e-02,\n",
       "       -2.69486792e-02,  3.96314785e-02,  8.87018908e-03, -2.80227885e-02,\n",
       "       -3.21328714e-02,  1.13882413e-02, -2.77616158e-02, -1.03440303e-02,\n",
       "        2.35519689e-02,  1.07407942e-02, -2.31918767e-02, -7.66103044e-02,\n",
       "       -5.21347895e-02, -1.34444172e-02,  1.42945811e-01,  4.92840670e-02,\n",
       "        3.50416452e-02,  1.10185947e-02, -3.04325111e-02, -3.48831862e-02,\n",
       "       -2.63064019e-02,  1.41981998e-02,  2.98926374e-04,  3.74364257e-02,\n",
       "        2.13626232e-02, -7.99049996e-03, -2.11917739e-02, -4.34781611e-02,\n",
       "        1.19133055e-01, -4.00970094e-02,  6.82184100e-02, -6.76133409e-02,\n",
       "       -2.19105780e-02, -9.39477086e-02,  5.57994992e-02, -3.72673273e-02,\n",
       "        8.41042399e-02, -1.11076701e-02, -4.79547419e-02, -4.94470671e-02,\n",
       "       -5.26391808e-03, -4.34647575e-02,  1.17279096e-02,  3.14501785e-02,\n",
       "       -5.97513206e-02, -2.18130760e-02,  1.26628894e-02, -2.85397545e-02,\n",
       "       -3.84191163e-02,  3.52846691e-04, -4.44210544e-02,  4.73455526e-03,\n",
       "       -2.14159079e-02,  8.35709088e-03,  1.67801194e-02, -1.42509742e-02,\n",
       "       -3.81591693e-02,  4.23815921e-02, -3.52777056e-02, -5.02117425e-02,\n",
       "       -2.00038292e-02, -2.02969294e-02,  7.82668870e-03, -2.48829387e-02,\n",
       "        1.91103537e-02,  1.25270158e-01,  2.85501126e-03, -2.88653392e-02,\n",
       "       -2.39896104e-02,  7.51272216e-02,  1.90231130e-02, -3.83507349e-02,\n",
       "        3.05225942e-02, -1.67164602e-03, -7.12191965e-03, -3.61228175e-02,\n",
       "       -3.79864983e-02, -6.05466636e-03, -5.91071844e-02,  1.84369441e-02,\n",
       "       -2.02608798e-02, -4.09241132e-02, -1.03779258e-02, -8.58611390e-02,\n",
       "        3.82337496e-02, -5.93484603e-02, -6.73997253e-02,  5.54667562e-02,\n",
       "       -1.06582441e-03,  1.35250017e-02,  6.34870455e-02,  4.76478972e-02,\n",
       "        8.15508589e-02,  1.98314060e-02,  4.89803823e-03,  1.78675167e-02,\n",
       "       -4.97358618e-03,  3.87291536e-02, -3.37718637e-04, -4.16537262e-02,\n",
       "        5.54343536e-02, -4.71214019e-02,  7.74484947e-02, -5.72998729e-03,\n",
       "        1.95236932e-02, -1.75411366e-02,  5.00542372e-02, -4.26046252e-02,\n",
       "       -3.63721373e-03,  4.61477116e-02,  2.04946697e-02,  8.72219447e-03,\n",
       "       -2.20490620e-02,  3.86637338e-02, -3.61291878e-02, -3.34682129e-02,\n",
       "        6.45398768e-03, -2.47967876e-02, -8.23016390e-02, -5.47481962e-02,\n",
       "       -3.38493809e-02, -4.05365974e-03, -7.51328543e-02, -3.89412791e-02,\n",
       "       -4.70559075e-02,  1.15468264e-01,  3.10002938e-02,  4.06938642e-02,\n",
       "       -5.15469573e-02,  7.38556730e-03,  7.31472019e-03,  1.30098127e-03,\n",
       "       -1.15821511e-02,  5.70310131e-02, -1.10044666e-02, -3.02956682e-02,\n",
       "       -1.52275963e-02,  6.00503273e-02, -5.14143519e-03,  4.47539352e-02,\n",
       "        3.87617871e-02,  2.23785900e-02,  2.08527222e-02, -4.37809899e-02,\n",
       "        3.07235139e-04, -1.43689048e-02, -3.61575447e-02, -2.29060017e-02,\n",
       "       -1.91211179e-02,  2.25497521e-02, -1.24069527e-02, -4.11837921e-02,\n",
       "        4.93029412e-03,  7.19077140e-02, -8.82307068e-02, -4.21733223e-02,\n",
       "       -1.11057675e-02,  2.82438342e-02, -6.72961175e-02,  5.87516986e-02,\n",
       "       -7.90220872e-03, -2.64001172e-02, -5.71129285e-03, -1.18660228e-02,\n",
       "       -2.99845659e-03, -2.13811849e-03,  5.76757826e-02, -2.60035601e-03,\n",
       "       -3.42102945e-02,  1.89752895e-02, -8.34344551e-02,  2.57828198e-02,\n",
       "        2.44418290e-02,  5.55770611e-03,  2.50829346e-02, -2.24863291e-02,\n",
       "        1.41772553e-02,  6.51353449e-02, -3.94106656e-03,  1.13836001e-03,\n",
       "        5.53059615e-02, -3.08423769e-03, -3.81444246e-02,  5.62047809e-02,\n",
       "       -1.34403631e-01, -1.20871458e-02, -3.26336897e-03, -2.27685715e-03,\n",
       "       -2.36896202e-02, -2.68108249e-02, -1.40036419e-02,  6.86009973e-03,\n",
       "       -2.58575678e-02,  5.63079379e-02,  4.52482961e-02, -3.18201035e-02,\n",
       "       -7.02388808e-02, -3.67558114e-02, -3.62051986e-02, -3.25725749e-02,\n",
       "        4.73435037e-03,  2.01006643e-02,  2.35762000e-02,  4.40957807e-02,\n",
       "        1.38706248e-03,  2.21979916e-02, -2.74589490e-02, -2.74346974e-02,\n",
       "        3.58088017e-02, -2.65846886e-02,  1.85663412e-05,  2.93963309e-02,\n",
       "        1.17804758e-01,  1.34440151e-03,  1.08396560e-02,  8.64935070e-02,\n",
       "        2.47641392e-02, -7.07964674e-02, -6.14197925e-02, -5.37404157e-02,\n",
       "        5.24626533e-03, -2.98734996e-02,  2.61220112e-02,  1.28498776e-02,\n",
       "       -2.71000769e-02, -1.86800007e-02,  1.57863684e-02,  1.38484605e-03,\n",
       "       -7.24997073e-02,  4.61071804e-02,  1.54847149e-02, -6.75705373e-02,\n",
       "       -2.89736185e-02, -1.58702291e-03, -8.62437859e-02, -1.09371832e-02,\n",
       "        1.10773304e-04,  6.73905807e-03,  2.90736463e-02, -1.73188820e-02,\n",
       "       -3.92234437e-02, -1.69377383e-02,  3.24119441e-02,  3.71702649e-02,\n",
       "        4.07524705e-02,  1.48493508e-02, -3.10146585e-02,  8.47109333e-02,\n",
       "        5.89033514e-02,  2.84270532e-02,  7.27570951e-02, -3.17825051e-03,\n",
       "       -4.02270332e-02, -6.17800057e-02, -1.10196739e-01, -5.40952310e-02,\n",
       "       -8.23297724e-03,  5.27665298e-03, -5.00820018e-02, -9.41141695e-02,\n",
       "        9.81585868e-03,  1.47695029e-02, -5.56749012e-03, -4.24150079e-02,\n",
       "        6.75121173e-02, -4.02175225e-02,  4.29038964e-02, -6.45916536e-02,\n",
       "       -6.83527719e-03, -9.98929888e-02,  1.89678889e-04, -4.24124504e-04,\n",
       "        4.60885949e-02,  5.39593538e-03, -6.84524653e-03, -1.33014813e-01,\n",
       "       -2.45859139e-02, -5.28254919e-02,  4.33667941e-04, -3.93672511e-02,\n",
       "        3.18229124e-02, -9.33657587e-02,  3.02800089e-02,  8.43374059e-03,\n",
       "       -3.12908925e-02,  3.14251408e-02,  1.01235239e-02,  2.23111711e-04,\n",
       "       -3.44244950e-02, -5.18703125e-02, -4.09346223e-02, -1.06287993e-01,\n",
       "        4.40589190e-02, -3.70339490e-02,  8.36405531e-03, -4.49075885e-02,\n",
       "        3.69669907e-02,  2.34064907e-02, -3.24331820e-02,  3.47681008e-02,\n",
       "        9.13938507e-03,  8.02434161e-02, -3.35485511e-03,  1.99960824e-02,\n",
       "       -1.88583340e-02, -3.07600992e-03,  6.27174750e-02, -6.43574223e-02,\n",
       "        1.78291684e-03,  1.01045519e-02, -4.06843759e-02, -3.77326682e-02,\n",
       "        4.59573558e-03,  4.56414111e-02,  6.39489666e-03,  1.94302481e-02,\n",
       "        2.19627954e-02,  2.40511331e-03, -3.79243493e-02,  5.28915739e-03,\n",
       "       -1.64715741e-02, -6.72975034e-02,  3.90761569e-02,  7.00029582e-02,\n",
       "       -1.61511805e-02,  1.70242414e-02,  6.09602705e-02,  3.57721373e-02,\n",
       "       -5.60403913e-02,  1.64074358e-02, -7.39498809e-02, -7.89813921e-02,\n",
       "        5.71571961e-02, -1.01315929e-02, -1.93831958e-02, -4.52689044e-02,\n",
       "       -8.70661694e-04,  9.78489071e-02, -1.84129886e-02, -6.17637262e-02,\n",
       "        6.94407299e-02,  1.78052336e-02,  8.60209763e-03, -8.43421146e-02,\n",
       "       -4.29442376e-02, -4.35211509e-02,  7.27646425e-02,  8.53596479e-02,\n",
       "        1.79903526e-02,  6.74283877e-02,  3.85707170e-02,  1.32821631e-02,\n",
       "        4.66882959e-02,  5.90242147e-02,  3.15161087e-02,  1.59502367e-03,\n",
       "        1.17406752e-02, -6.96086138e-02, -5.75546399e-02, -5.85294031e-02,\n",
       "        6.81317300e-02,  4.59239483e-02, -4.32476215e-02,  2.46253610e-02,\n",
       "        3.58959958e-02,  1.22022582e-02, -6.31445274e-02,  4.02797088e-02,\n",
       "       -8.90274707e-04,  6.36734664e-02,  3.01224422e-02,  3.32463980e-02,\n",
       "       -4.03544642e-02,  1.76650914e-03, -2.60339788e-04,  5.97032113e-03,\n",
       "        3.71543551e-03, -7.55984485e-02, -7.46861771e-02,  2.94760894e-02,\n",
       "        5.66319413e-02, -7.41855241e-03, -4.56354767e-02, -1.75997093e-02,\n",
       "       -9.25487727e-02,  3.56757198e-04,  9.09141358e-03,  3.92380729e-03,\n",
       "        5.08418714e-04, -3.50981876e-02,  2.89940424e-02,  4.55570780e-02,\n",
       "        1.58185605e-04,  1.01079300e-01,  3.15690599e-02,  2.03170478e-02,\n",
       "        1.85025930e-02,  5.59309050e-02, -1.86631791e-02,  6.90472052e-02,\n",
       "       -1.82408054e-04,  1.45065999e-02, -9.82323010e-03,  1.26942638e-02,\n",
       "       -2.45909840e-02, -1.99846309e-02, -2.22927351e-02,  5.19548394e-02,\n",
       "       -4.23324704e-02, -1.31457774e-02,  3.55678834e-02,  2.14198735e-02,\n",
       "       -4.42946143e-02, -5.83632756e-03, -2.31150147e-02, -6.68033138e-02,\n",
       "       -2.29947567e-02,  6.00384772e-02, -3.00457850e-02, -2.80505437e-02,\n",
       "       -3.59875076e-02,  4.23306637e-02, -1.01010099e-01, -3.37783024e-02,\n",
       "        2.53762975e-02,  1.83522087e-02,  2.53747590e-02, -1.46189071e-02,\n",
       "       -1.15387635e-02,  2.90513318e-02,  1.24437455e-02, -3.74309719e-02,\n",
       "        6.39071455e-03, -2.41268035e-02,  6.93807453e-02, -6.32414743e-02,\n",
       "        3.25585306e-02, -9.97823700e-02, -1.64493732e-02,  8.68964344e-02,\n",
       "        4.20835521e-03,  4.43243748e-03, -2.39704009e-02,  4.00633439e-02,\n",
       "       -4.08621803e-02, -5.45825716e-03,  6.05426617e-02,  3.74834538e-02,\n",
       "       -2.16543935e-02, -5.60352355e-02, -5.27038574e-02, -1.92876458e-02],\n",
       "      dtype=float32)"
      ]
     },
     "execution_count": 9,
     "metadata": {},
     "output_type": "execute_result"
    }
   ],
   "source": [
    "emb"
   ]
  },
  {
   "cell_type": "markdown",
   "id": "d991d88b-ff76-47ca-ab72-dcc1b93694bb",
   "metadata": {},
   "source": [
    "# Dataset"
   ]
  },
  {
   "cell_type": "code",
   "execution_count": 11,
   "id": "787102b0-a394-4179-9c1e-193322187efc",
   "metadata": {},
   "outputs": [
    {
     "name": "stderr",
     "output_type": "stream",
     "text": [
      "19239it [13:27, 23.82it/s]"
     ]
    },
    {
     "name": "stdout",
     "output_type": "stream",
     "text": [
      "(19239, 512)\n",
      "(19239, 1)\n"
     ]
    },
    {
     "name": "stderr",
     "output_type": "stream",
     "text": [
      "\n"
     ]
    }
   ],
   "source": [
    "x_data = np.empty((len(img_list), 512), dtype=np.float32)\n",
    "y_data = np.empty((len(img_list), 1), dtype=np.float32)\n",
    "\n",
    "for i, img_path in tqdm(enumerate(img_list)):\n",
    "    img = Image.open(img_path).convert('RGB')\n",
    "    \n",
    "    dets = detector(np.array(img))\n",
    "    \n",
    "    if len(dets) != 1:\n",
    "        continue\n",
    "    \n",
    "    det = dets[0]\n",
    "    x1 = det.left()\n",
    "    y1 = det.top()\n",
    "    x2 = det.right()\n",
    "    y2 = det.bottom()\n",
    "    \n",
    "    crop_img = img.crop((x1, y1, x2, y2))\n",
    "    crop_img.save('temp_crop.jpg')\n",
    "    \n",
    "    emb = face_rec.calc_emb('temp_crop.jpg')\n",
    "    \n",
    "    overall = int(os.path.splitext(os.path.basename(img_path))[0].split('_')[1])\n",
    "    \n",
    "    x_data[i] = emb\n",
    "    y_data[i] = overall\n",
    "\n",
    "print(x_data.shape)\n",
    "print(y_data.shape)"
   ]
  },
  {
   "cell_type": "markdown",
   "id": "f32d03c5-2993-4fe8-9dc3-accd44b238cb",
   "metadata": {},
   "source": [
    "# Split Train/Validation data"
   ]
  },
  {
   "cell_type": "code",
   "execution_count": 12,
   "id": "87548b1d-4ce9-42c9-90f2-b0dcf58536e2",
   "metadata": {},
   "outputs": [
    {
     "name": "stdout",
     "output_type": "stream",
     "text": [
      "(15391, 512) (15391, 1)\n",
      "(3848, 512) (3848, 1)\n"
     ]
    }
   ],
   "source": [
    "from sklearn.model_selection import train_test_split\n",
    "\n",
    "x_train, x_val, y_train, y_val = train_test_split(x_data, y_data, test_size=0.2, random_state=2022)\n",
    "\n",
    "print(x_train.shape, y_train.shape)\n",
    "print(x_val.shape, y_val.shape)\n"
   ]
  },
  {
   "cell_type": "markdown",
   "id": "8454a927-738a-4236-9550-7a334dec6283",
   "metadata": {},
   "source": [
    "# Define the model\n",
    "* input: face emb\n",
    "* output: overall"
   ]
  },
  {
   "cell_type": "code",
   "execution_count": 13,
   "id": "8244901b-5283-4f6f-b3b5-7b49aa2bbcde",
   "metadata": {},
   "outputs": [
    {
     "name": "stdout",
     "output_type": "stream",
     "text": [
      "Model: \"sequential\"\n",
      "_________________________________________________________________\n",
      " Layer (type)                Output Shape              Param #   \n",
      "=================================================================\n",
      " dense (Dense)               (None, 256)               131328    \n",
      "                                                                 \n",
      " dense_1 (Dense)             (None, 1)                 257       \n",
      "                                                                 \n",
      "=================================================================\n",
      "Total params: 131,585\n",
      "Trainable params: 131,585\n",
      "Non-trainable params: 0\n",
      "_________________________________________________________________\n"
     ]
    },
    {
     "name": "stderr",
     "output_type": "stream",
     "text": [
      "2022-09-14 18:22:09.348136: W tensorflow/stream_executor/platform/default/dso_loader.cc:64] Could not load dynamic library 'libcuda.so.1'; dlerror: libcuda.so.1: cannot open shared object file: No such file or directory; LD_LIBRARY_PATH: /home/studio-lab-user/.conda/envs/default/lib/python3.9/site-packages/cv2/../../lib64:\n",
      "2022-09-14 18:22:09.348176: W tensorflow/stream_executor/cuda/cuda_driver.cc:263] failed call to cuInit: UNKNOWN ERROR (303)\n",
      "2022-09-14 18:22:09.348201: I tensorflow/stream_executor/cuda/cuda_diagnostics.cc:156] kernel driver does not appear to be running on this host (default): /proc/driver/nvidia/version does not exist\n",
      "2022-09-14 18:22:09.348690: I tensorflow/core/platform/cpu_feature_guard.cc:193] This TensorFlow binary is optimized with oneAPI Deep Neural Network Library (oneDNN) to use the following CPU instructions in performance-critical operations:  AVX2 AVX512F FMA\n",
      "To enable them in other operations, rebuild TensorFlow with the appropriate compiler flags.\n"
     ]
    }
   ],
   "source": [
    "import tensorflow as tf\n",
    "from tensorflow import keras\n",
    "from tensorflow.keras import layers\n",
    "\n",
    "model = keras.Sequential([\n",
    "    layers.Dense(256, input_shape=(512,), activation=\"relu\"),\n",
    "    layers.Dense(1),\n",
    "])\n",
    "\n",
    "model.compile(optimizer='adam', loss='mse', metrics=['mae'])\n",
    "\n",
    "model.summary()"
   ]
  },
  {
   "cell_type": "code",
   "execution_count": 14,
   "id": "1e0f6bc6-a7c7-435c-b29d-be74d753af74",
   "metadata": {
    "tags": []
   },
   "outputs": [
    {
     "name": "stdout",
     "output_type": "stream",
     "text": [
      "Epoch 1/20\n",
      "61/61 [==============================] - 1s 7ms/step - loss: nan - mae: nan - val_loss: nan - val_mae: nan  \n",
      "Epoch 2/20\n",
      "61/61 [==============================] - 0s 4ms/step - loss: nan - mae: nan - val_loss: nan - val_mae: nan\n",
      "Epoch 3/20\n",
      "61/61 [==============================] - 0s 4ms/step - loss: nan - mae: nan - val_loss: nan - val_mae: nan\n",
      "Epoch 4/20\n",
      "61/61 [==============================] - 0s 4ms/step - loss: nan - mae: nan - val_loss: nan - val_mae: nan\n",
      "Epoch 5/20\n",
      "61/61 [==============================] - 0s 4ms/step - loss: nan - mae: nan - val_loss: nan - val_mae: nan\n",
      "Epoch 6/20\n",
      "61/61 [==============================] - 0s 4ms/step - loss: nan - mae: nan - val_loss: nan - val_mae: nan\n",
      "Epoch 7/20\n",
      "61/61 [==============================] - 0s 4ms/step - loss: nan - mae: nan - val_loss: nan - val_mae: nan\n",
      "Epoch 8/20\n",
      "61/61 [==============================] - 0s 4ms/step - loss: nan - mae: nan - val_loss: nan - val_mae: nan\n",
      "Epoch 9/20\n",
      "61/61 [==============================] - 0s 4ms/step - loss: nan - mae: nan - val_loss: nan - val_mae: nan\n",
      "Epoch 10/20\n",
      "61/61 [==============================] - 0s 4ms/step - loss: nan - mae: nan - val_loss: nan - val_mae: nan\n",
      "Epoch 11/20\n",
      "61/61 [==============================] - 0s 4ms/step - loss: nan - mae: nan - val_loss: nan - val_mae: nan\n",
      "Epoch 12/20\n",
      "61/61 [==============================] - 0s 4ms/step - loss: nan - mae: nan - val_loss: nan - val_mae: nan\n",
      "Epoch 13/20\n",
      "61/61 [==============================] - 0s 4ms/step - loss: nan - mae: nan - val_loss: nan - val_mae: nan\n",
      "Epoch 14/20\n",
      "61/61 [==============================] - 0s 4ms/step - loss: nan - mae: nan - val_loss: nan - val_mae: nan\n",
      "Epoch 15/20\n",
      "61/61 [==============================] - 0s 4ms/step - loss: nan - mae: nan - val_loss: nan - val_mae: nan\n",
      "Epoch 16/20\n",
      "61/61 [==============================] - 0s 4ms/step - loss: nan - mae: nan - val_loss: nan - val_mae: nan\n",
      "Epoch 17/20\n",
      "61/61 [==============================] - 0s 4ms/step - loss: nan - mae: nan - val_loss: nan - val_mae: nan\n",
      "Epoch 18/20\n",
      "61/61 [==============================] - 0s 4ms/step - loss: nan - mae: nan - val_loss: nan - val_mae: nan\n",
      "Epoch 19/20\n",
      "61/61 [==============================] - 0s 4ms/step - loss: nan - mae: nan - val_loss: nan - val_mae: nan\n",
      "Epoch 20/20\n",
      "61/61 [==============================] - 0s 4ms/step - loss: nan - mae: nan - val_loss: nan - val_mae: nan\n"
     ]
    }
   ],
   "source": [
    "history = model.fit(\n",
    "    x_train,\n",
    "    y_train,\n",
    "    batch_size=256,\n",
    "    epochs=20,\n",
    "    validation_data=(x_val, y_val)\n",
    ")"
   ]
  },
  {
   "cell_type": "code",
   "execution_count": 15,
   "id": "f62968ab-33b9-479e-bcad-2fc777959690",
   "metadata": {},
   "outputs": [
    {
     "data": {
      "image/png": "[encoded data removed]",
      "text/plain": [
       "<Figure size 432x288 with 1 Axes>"
      ]
     },
     "metadata": {
      "needs_background": "light"
     },
     "output_type": "display_data"
    }
   ],
   "source": [
    "plt.plot(history.history['mae'])\n",
    "plt.plot(history.history['val_mae'])\n",
    "plt.title('model mae')\n",
    "plt.ylabel('mae')\n",
    "plt.xlabel('epoch')\n",
    "plt.legend(['train', 'val'], loc='upper left')\n",
    "plt.show()"
   ]
  },
  {
   "cell_type": "code",
   "execution_count": null,
   "id": "afd720e2-1973-4efc-84a1-5ec2527295c8",
   "metadata": {},
   "outputs": [],
   "source": []
  },
  {
   "cell_type": "code",
   "execution_count": null,
   "id": "dd07bba9-278f-4a59-939d-77953d8152be",
   "metadata": {},
   "outputs": [],
   "source": []
  },
  {
   "cell_type": "code",
   "execution_count": null,
   "id": "ea75b18f-a4e7-4e46-b857-228be263c729",
   "metadata": {},
   "outputs": [],
   "source": []
  }
 ],
 "metadata": {
  "kernelspec": {
   "display_name": "default:Python",
   "language": "python",
   "name": "conda-env-default-py"
  },
  "language_info": {
   "codemirror_mode": {
    "name": "ipython",
    "version": 3
   },
   "file_extension": ".py",
   "mimetype": "text/x-python",
   "name": "python",
   "nbconvert_exporter": "python",
   "pygments_lexer": "ipython3",
   "version": "3.9.10"
  }
 },
 "nbformat": 4,
 "nbformat_minor": 5
}
