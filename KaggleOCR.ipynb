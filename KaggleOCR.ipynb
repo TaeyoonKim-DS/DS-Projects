{
  "nbformat": 4,
  "nbformat_minor": 0,
  "metadata": {
    "colab": {
      "name": "KaggleOCR.ipynb",
      "provenance": [],
      "collapsed_sections": [],
      "authorship_tag": "ABX9TyMKevmanUQDyFky//cG0DW/",
      "include_colab_link": true
    },
    "kernelspec": {
      "name": "python3",
      "display_name": "Python 3"
    },
    "language_info": {
      "name": "python"
    },
    "accelerator": "GPU"
  },
  "cells": [
    {
      "cell_type": "markdown",
      "metadata": {
        "id": "view-in-github",
        "colab_type": "text"
      },
      "source": [
        "<a href=\"https://colab.research.google.com/github/ewankim1023/Projects/blob/master/KaggleOCR.ipynb\" target=\"_parent\"><img src=\"https://colab.research.google.com/assets/colab-badge.svg\" alt=\"Open In Colab\"/></a>"
      ]
    },
    {
      "cell_type": "code",
      "execution_count": 1,
      "metadata": {
        "colab": {
          "base_uri": "https://localhost:8080/"
        },
        "id": "M5RoTsAPZudz",
        "outputId": "df899291-c760-46d2-eea8-2fbf8cf63c84"
      },
      "outputs": [
        {
          "output_type": "stream",
          "name": "stdout",
          "text": [
            "\u001b[31mERROR: torch-0.4.1-cp36-cp36m-linux_x86_64.whl is not a supported wheel on this platform.\u001b[0m\n",
            "Collecting easyocr\n",
            "  Downloading easyocr-1.4.1-py3-none-any.whl (63.6 MB)\n",
            "\u001b[K     |████████████████████████████████| 63.6 MB 56 kB/s \n",
            "\u001b[?25hRequirement already satisfied: scikit-image in /usr/local/lib/python3.7/dist-packages (from easyocr) (0.18.3)\n",
            "Requirement already satisfied: Pillow<8.3.0 in /usr/local/lib/python3.7/dist-packages (from easyocr) (7.1.2)\n",
            "Requirement already satisfied: scipy in /usr/local/lib/python3.7/dist-packages (from easyocr) (1.4.1)\n",
            "Requirement already satisfied: torch in /usr/local/lib/python3.7/dist-packages (from easyocr) (1.10.0+cu111)\n",
            "Collecting python-bidi\n",
            "  Downloading python_bidi-0.4.2-py2.py3-none-any.whl (30 kB)\n",
            "Requirement already satisfied: PyYAML in /usr/local/lib/python3.7/dist-packages (from easyocr) (3.13)\n",
            "Requirement already satisfied: torchvision>=0.5 in /usr/local/lib/python3.7/dist-packages (from easyocr) (0.11.1+cu111)\n",
            "Collecting opencv-python-headless\n",
            "  Downloading opencv_python_headless-4.5.4.60-cp37-cp37m-manylinux_2_17_x86_64.manylinux2014_x86_64.whl (47.6 MB)\n",
            "\u001b[K     |████████████████████████████████| 47.6 MB 1.4 MB/s \n",
            "\u001b[?25hRequirement already satisfied: numpy in /usr/local/lib/python3.7/dist-packages (from easyocr) (1.19.5)\n",
            "Requirement already satisfied: typing-extensions in /usr/local/lib/python3.7/dist-packages (from torch->easyocr) (3.10.0.2)\n",
            "Requirement already satisfied: six in /usr/local/lib/python3.7/dist-packages (from python-bidi->easyocr) (1.15.0)\n",
            "Requirement already satisfied: imageio>=2.3.0 in /usr/local/lib/python3.7/dist-packages (from scikit-image->easyocr) (2.4.1)\n",
            "Requirement already satisfied: tifffile>=2019.7.26 in /usr/local/lib/python3.7/dist-packages (from scikit-image->easyocr) (2021.11.2)\n",
            "Requirement already satisfied: matplotlib!=3.0.0,>=2.0.0 in /usr/local/lib/python3.7/dist-packages (from scikit-image->easyocr) (3.2.2)\n",
            "Requirement already satisfied: networkx>=2.0 in /usr/local/lib/python3.7/dist-packages (from scikit-image->easyocr) (2.6.3)\n",
            "Requirement already satisfied: PyWavelets>=1.1.1 in /usr/local/lib/python3.7/dist-packages (from scikit-image->easyocr) (1.2.0)\n",
            "Requirement already satisfied: pyparsing!=2.0.4,!=2.1.2,!=2.1.6,>=2.0.1 in /usr/local/lib/python3.7/dist-packages (from matplotlib!=3.0.0,>=2.0.0->scikit-image->easyocr) (3.0.6)\n",
            "Requirement already satisfied: python-dateutil>=2.1 in /usr/local/lib/python3.7/dist-packages (from matplotlib!=3.0.0,>=2.0.0->scikit-image->easyocr) (2.8.2)\n",
            "Requirement already satisfied: kiwisolver>=1.0.1 in /usr/local/lib/python3.7/dist-packages (from matplotlib!=3.0.0,>=2.0.0->scikit-image->easyocr) (1.3.2)\n",
            "Requirement already satisfied: cycler>=0.10 in /usr/local/lib/python3.7/dist-packages (from matplotlib!=3.0.0,>=2.0.0->scikit-image->easyocr) (0.11.0)\n",
            "Installing collected packages: python-bidi, opencv-python-headless, easyocr\n",
            "Successfully installed easyocr-1.4.1 opencv-python-headless-4.5.4.60 python-bidi-0.4.2\n"
          ]
        }
      ],
      "source": [
        "# https://www.kaggle.com/badhansen/text-extraction-from-images-easyocr-pytesseract/notebook\n",
        "#GPU version\n",
        "!pip3 install http://download.pytorch.org/whl/cu92/torch-0.4.1-cp36-cp36m-linux_x86_64.whl\n",
        "!pip install easyocr"
      ]
    },
    {
      "cell_type": "code",
      "source": [
        "!pip install opencv-python\n",
        "!pip install matplotlib\n",
        "!pip install numpy"
      ],
      "metadata": {
        "colab": {
          "base_uri": "https://localhost:8080/"
        },
        "id": "lHoxc-Hwcgex",
        "outputId": "9a179d67-687c-4a93-cea1-c6f91d3001bf"
      },
      "execution_count": 2,
      "outputs": [
        {
          "output_type": "stream",
          "name": "stdout",
          "text": [
            "Requirement already satisfied: opencv-python in /usr/local/lib/python3.7/dist-packages (4.1.2.30)\n",
            "Requirement already satisfied: numpy>=1.14.5 in /usr/local/lib/python3.7/dist-packages (from opencv-python) (1.19.5)\n",
            "Requirement already satisfied: matplotlib in /usr/local/lib/python3.7/dist-packages (3.2.2)\n",
            "Requirement already satisfied: python-dateutil>=2.1 in /usr/local/lib/python3.7/dist-packages (from matplotlib) (2.8.2)\n",
            "Requirement already satisfied: kiwisolver>=1.0.1 in /usr/local/lib/python3.7/dist-packages (from matplotlib) (1.3.2)\n",
            "Requirement already satisfied: cycler>=0.10 in /usr/local/lib/python3.7/dist-packages (from matplotlib) (0.11.0)\n",
            "Requirement already satisfied: pyparsing!=2.0.4,!=2.1.2,!=2.1.6,>=2.0.1 in /usr/local/lib/python3.7/dist-packages (from matplotlib) (3.0.6)\n",
            "Requirement already satisfied: numpy>=1.11 in /usr/local/lib/python3.7/dist-packages (from matplotlib) (1.19.5)\n",
            "Requirement already satisfied: six>=1.5 in /usr/local/lib/python3.7/dist-packages (from python-dateutil>=2.1->matplotlib) (1.15.0)\n",
            "Requirement already satisfied: numpy in /usr/local/lib/python3.7/dist-packages (1.19.5)\n"
          ]
        }
      ]
    },
    {
      "cell_type": "code",
      "source": [
        "import warnings\n",
        "warnings.filterwarnings(\"ignore\")\n",
        "import torch\n",
        "import cv2\n",
        "import numpy as np\n",
        "import easyocr\n",
        "import matplotlib.pyplot as plt\n",
        "import os\n",
        "%matplotlib inline"
      ],
      "metadata": {
        "id": "cSE_0A68cqTl"
      },
      "execution_count": 3,
      "outputs": []
    },
    {
      "cell_type": "code",
      "source": [
        "#Check GPU type\n",
        "torch.cuda.get_device_name(0)"
      ],
      "metadata": {
        "id": "pTDuIroycx0b",
        "outputId": "3afa19b3-7366-474b-e6d4-91f99cda8024",
        "colab": {
          "base_uri": "https://localhost:8080/",
          "height": 35
        }
      },
      "execution_count": 4,
      "outputs": [
        {
          "output_type": "execute_result",
          "data": {
            "application/vnd.google.colaboratory.intrinsic+json": {
              "type": "string"
            },
            "text/plain": [
              "'Tesla K80'"
            ]
          },
          "metadata": {},
          "execution_count": 4
        }
      ]
    },
    {
      "cell_type": "code",
      "source": [
        "# Google Drive 접근을 위한 Mount 적용. \n",
        "import os, sys \n",
        "\n",
        "from google.colab import drive \n",
        "\n",
        "drive.mount('/content/gdrive')"
      ],
      "metadata": {
        "id": "5HWDu8g9dQ5f",
        "outputId": "b04370df-1853-4c0b-fa91-71b58f294589",
        "colab": {
          "base_uri": "https://localhost:8080/"
        }
      },
      "execution_count": 6,
      "outputs": [
        {
          "output_type": "stream",
          "name": "stdout",
          "text": [
            "Mounted at /content/gdrive\n"
          ]
        }
      ]
    },
    {
      "cell_type": "code",
      "source": [
        "# soft link로 Google Drive Directory 연결. \n",
        "!ln -s /content/gdrive/My\\ Drive/ /mydrive\n",
        "!ls /mydrive\n",
        "# Google Drive 밑에 Directory 생성. 이미 생성 되어 있을 시 오류 발생. \n",
        "!mkdir \"/mydrive/Colab Notebooks/SD_DLCV/OCR/images\""
      ],
      "metadata": {
        "id": "a_22BbTSdUhC",
        "outputId": "055ab1d2-76f1-4f88-ff57-81a531dc2717",
        "colab": {
          "base_uri": "https://localhost:8080/"
        }
      },
      "execution_count": 7,
      "outputs": [
        {
          "output_type": "stream",
          "name": "stdout",
          "text": [
            " 백업파일\n",
            "'계약서_(태윤외1).pdf'\n",
            "'Colab Notebooks'\n",
            "'Conveyancercopyofapplicantoffer - 2021-09-03T092944.070.gdoc'\n",
            "'Conveyancercopyofapplicantoffer - 2021-09-03T092944.070.pdf'\n",
            " GraduationCeremony\n",
            " HBR.zip\n",
            " images\n",
            " Indical\n",
            "'My Drive'\n",
            " OneDrive_1_29-08-2021.zip\n",
            "'PPT sample.pptx'\n",
            " ultra_workdir\n",
            " ultra_workdir2\n",
            "'Vaccination Status.pdf'\n",
            "'Wedding Photos'\n",
            "mkdir: cannot create directory ‘/mydrive/Colab Notebooks/SD_DLCV/OCR/images’: File exists\n"
          ]
        }
      ]
    },
    {
      "cell_type": "code",
      "source": [
        "reader = easyocr.Reader(['en', 'en'])\n",
        "\n",
        "img_text = reader.readtext('/mydrive/Colab Notebooks/SD_DLCV/OCR/images/Test1000.jpg')\n",
        "final_text = \"\"\n",
        "\n",
        "for _, text, __ in img_text: # _ = bounding box, text = text and __ = confident level\n",
        "    final_text += \" \"\n",
        "    final_text += text\n",
        "final_text"
      ],
      "metadata": {
        "colab": {
          "base_uri": "https://localhost:8080/",
          "height": 87
        },
        "id": "Tj3nSKKBZyhD",
        "outputId": "aed13a66-96d0-4f88-db6b-f6dad3baefc6"
      },
      "execution_count": 8,
      "outputs": [
        {
          "output_type": "execute_result",
          "data": {
            "application/vnd.google.colaboratory.intrinsic+json": {
              "type": "string"
            },
            "text/plain": [
              "' Filing Complaint Please click \"IPR Certificates(s)\" to maintain your IPR before filing the IPR complaint for the first time . Back to Homepage Searching Reset Processing Complain: No. IPR Type Platiorm Complain: Listing Submitting Time Operation Status Complain: 2021-11-22 PD-2021-1637579359453183 Design JD COM https \\'litem. com/10023432350891. Delete Rejected 19-10-16 https \\'litem. com/10035772093875. Complain: 2021-09-03 PD-2021-1630666556558479 Design JD COM https  {item jd.com/10035772093876. Delete Rejected 18-56-20 https  {item jd.com/10035772093883 https H{item jd.com/10035520033761. Complain: 2021-09-03 PD-2021-1630666517268410 Design JD COM https H{item jd.com/ 10035520033775 Delete Rejected 18.55.39 https H{item jd.com/10035520033786. https  {item jd.com/10035733408071. https  {item jd.com/10035733618126. Complain: 2021-09-03 PD-2021-1630666254280993 Design JD COM Delete https  {item jd.com/10035733618141. Rejected 18.51-20 https  {item jd.com/10035733624254. Complain: 2021-09-03 PD-2021-1630666198416690 Design JD COM https  {item jd.com/10034382339789. Delete Rejected 18.50-20 https  {item jd.com/10033266564230.. Complain: 2021-09-03 PD-2021-1630666153439664 Design JD COM Delete https  {item jd.com/10033266564247 . Rejected 18.49-37 https Hfitem jd.com/10031848815744. Complain: 2021-09-03 PD-2021-1630666094990663 Design JD COM Delete https {fitem jd.com/10031848815750.. Rejected 18.48.42 https  {item jd.com/10030745934026. Complain: 2021-09-03 PD-2021-1630665982028959 Design JD COM https  {item jd.com/10030745934028 Delete Rejected 18.47-37 https  {item jd.com/10030745934035. Complain: 2021-09-03 PD-2021-1630665393981157 Design JD COM https  {item jd.com/10024498439304. Delete Rejected 18.45-12 Complain: 2021-08-11 PD-2021-1628680143875129 Design JD COM https {fitem jd.com/10034733110219. Delete Rejected 19-17-14 From to 10 / 7Ointotal'"
            ]
          },
          "metadata": {},
          "execution_count": 8
        }
      ]
    },
    {
      "cell_type": "code",
      "source": [
        "def bulk_image(directory):\n",
        "    path, directory, files = next(os.walk(directory))\n",
        "    return files"
      ],
      "metadata": {
        "id": "NRWefJ7tZzok"
      },
      "execution_count": 18,
      "outputs": []
    },
    {
      "cell_type": "code",
      "source": [
        "directory = '/mydrive/Colab Notebooks/SD_DLCV/OCR/images'\n",
        "files_list = bulk_image(directory)"
      ],
      "metadata": {
        "id": "bXlv9Gh-bMHD"
      },
      "execution_count": 19,
      "outputs": []
    },
    {
      "cell_type": "code",
      "source": [
        "files_list"
      ],
      "metadata": {
        "colab": {
          "base_uri": "https://localhost:8080/"
        },
        "id": "FGHUyketbN5u",
        "outputId": "39fb2723-8a0c-44e4-d0b2-00fc4a02d72b"
      },
      "execution_count": 20,
      "outputs": [
        {
          "output_type": "execute_result",
          "data": {
            "text/plain": [
              "['Test1002.jpg',\n",
              " 'Test1000.jpg',\n",
              " 'Test1001.jpg',\n",
              " 'Test1003.jpg',\n",
              " 'Test1004.jpg',\n",
              " 'Test1005.jpg']"
            ]
          },
          "metadata": {},
          "execution_count": 20
        }
      ]
    },
    {
      "cell_type": "code",
      "source": [
        "# Doing OCR using GPU\n",
        "# save the images text to dict\n",
        "\n",
        "images_text = {}\n",
        "for files in files_list:\n",
        "    img_text = reader.readtext(directory + '/' +  files)\n",
        "    final_text = \"\"\n",
        "    for _, text, __ in img_text:\n",
        "        final_text += \" \"\n",
        "        final_text += text\n",
        "    images_text[files] = final_text"
      ],
      "metadata": {
        "id": "H5EB232BbPxz"
      },
      "execution_count": 15,
      "outputs": []
    },
    {
      "cell_type": "code",
      "source": [
        "# For sorting the image file name\n",
        "\n",
        "keys = list(images_text.keys())\n",
        "new_keys = [int(k[4:-4]) for k in keys]\n",
        "new_keys.sort()"
      ],
      "metadata": {
        "id": "t91NR2EHbTYW"
      },
      "execution_count": 16,
      "outputs": []
    },
    {
      "cell_type": "code",
      "source": [
        "import csv\n",
        "\n",
        "with open('image_easy_ocr.csv', 'w') as file:\n",
        "    writer = csv.writer(file)\n",
        "    writer.writerow([\"Filename\", \"Text\"])\n",
        "    \n",
        "    for n in new_keys:\n",
        "        writer.writerow(['Test' + str(n) + '.jpg', images_text['Test' + str(n) + '.jpg']])"
      ],
      "metadata": {
        "id": "Go6BeEjCbYRq"
      },
      "execution_count": 17,
      "outputs": []
    },
    {
      "cell_type": "code",
      "source": [
        ""
      ],
      "metadata": {
        "id": "B5Kx_jU6bZm_"
      },
      "execution_count": null,
      "outputs": []
    },
    {
      "cell_type": "code",
      "source": [
        ""
      ],
      "metadata": {
        "id": "RW4BIwu9bZot"
      },
      "execution_count": null,
      "outputs": []
    },
    {
      "cell_type": "code",
      "source": [
        ""
      ],
      "metadata": {
        "id": "F6zuoSWybZq3"
      },
      "execution_count": null,
      "outputs": []
    },
    {
      "cell_type": "code",
      "source": [
        ""
      ],
      "metadata": {
        "id": "Wd-nQ29mbZsn"
      },
      "execution_count": null,
      "outputs": []
    },
    {
      "cell_type": "code",
      "source": [
        ""
      ],
      "metadata": {
        "id": "pCEysx4JbZus"
      },
      "execution_count": null,
      "outputs": []
    }
  ]
}