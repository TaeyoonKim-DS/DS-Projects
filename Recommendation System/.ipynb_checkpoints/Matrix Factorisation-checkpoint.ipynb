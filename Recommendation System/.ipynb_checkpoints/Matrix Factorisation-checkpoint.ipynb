{
 "cells": [
  {
   "cell_type": "markdown",
   "id": "3fa7fa99-2c0a-422b-b1fa-685bfcd7e640",
   "metadata": {},
   "source": [
    "### 희소행렬을 밀집행렬로 분해하여 비어있는 공간까지 채워 넣는 기법. User2,3이 선택하지 않은 아이템에 대해서 다른 유저가 선택을 했기 때문에 해당 아이템에 대한 factor가 정보로서 남아 있다는 것이다."
   ]
  },
  {
   "cell_type": "code",
   "execution_count": 16,
   "id": "a72cb133-0ee5-4ab0-aba3-7159b2d49717",
   "metadata": {},
   "outputs": [],
   "source": [
    "import numpy as np\n",
    "R = np.array([[4, np.NaN, np.NaN, 2, np.NaN],\n",
    "              [np.NaN, 5, np.NaN, 3, 1],\n",
    "              [np.NaN, np.NaN, 3, 4, 4],\n",
    "              [5, 2, 1, 2, np.NaN]])\n",
    "num_users, num_items = R.shape\n",
    "K=3"
   ]
  },
  {
   "cell_type": "code",
   "execution_count": 17,
   "id": "a1d25756-0931-4c9a-b6fc-253d9f1b7a0e",
   "metadata": {},
   "outputs": [],
   "source": [
    "np.random.seed(1)\n",
    "P = np.random.normal(scale=1./K, size=(num_users, K))"
   ]
  },
  {
   "cell_type": "code",
   "execution_count": 18,
   "id": "7dfe39e0-d727-400b-a791-a1acce078e11",
   "metadata": {},
   "outputs": [],
   "source": [
    "Q = np.random.normal(scale=1./K, size=(num_users, K))"
   ]
  },
  {
   "cell_type": "code",
   "execution_count": 19,
   "id": "c0a36baa-fea5-46df-a6df-efe4592a4249",
   "metadata": {},
   "outputs": [],
   "source": [
    "from sklearn.metrics import mean_squared_error\n",
    "\n",
    "def get_rmse(R, P, Q, non_zeros):\n",
    "    error = 0\n",
    "    full_pred_matrix = np.dot(P, Q.T)\n",
    "    \n",
    "    x_non_zero_ind = [non_zero[0] for non_zero in non_zeros]\n",
    "    y_non_zero_ind = [non_zero[1] for non_zero in non_zeros]\n",
    "    R_non_zeros = R[x_non_zero_ind, y_non_zero_ind]\n",
    "    full_pred_matrix_non_zeros = full_pred_matrix[x_non_zero_ind, y_non_zero_ind]\n",
    "    mse = mean_squared_error(R_non_zero_ind)\n",
    "    \n",
    "    return rmse"
   ]
  },
  {
   "cell_type": "markdown",
   "id": "29a6d108-b890-40e3-8806-37c0a47b8fe7",
   "metadata": {},
   "source": [
    "### SVD (Singular Value Decomposition)방식을 사용하려면 NaN값이 없어야 하므로, SGD나 Alternating Least Suqares 방식을 이용한다."
   ]
  },
  {
   "cell_type": "code",
   "execution_count": 32,
   "id": "53d66c1d-24ab-4254-a517-59225b126655",
   "metadata": {},
   "outputs": [
    {
     "data": {
      "text/plain": [
       "[(0, 0, 4.0),\n",
       " (0, 3, 2.0),\n",
       " (1, 1, 5.0),\n",
       " (1, 3, 3.0),\n",
       " (1, 4, 1.0),\n",
       " (2, 2, 3.0),\n",
       " (2, 3, 4.0),\n",
       " (2, 4, 4.0),\n",
       " (3, 0, 5.0),\n",
       " (3, 1, 2.0),\n",
       " (3, 2, 1.0),\n",
       " (3, 3, 2.0)]"
      ]
     },
     "execution_count": 32,
     "metadata": {},
     "output_type": "execute_result"
    }
   ],
   "source": [
    "non_zeros = [ (i, j, R[i, j]) for i in range(num_users) for j in range(num_items) if R[i, j] > 0]\n",
    "non_zeros"
   ]
  },
  {
   "cell_type": "code",
   "execution_count": null,
   "id": "86fa75f1-809d-4e48-b7d1-2a12a21852ae",
   "metadata": {},
   "outputs": [],
   "source": [
    "steps=1000\n",
    "learning_rate = 0.01\n",
    "r_lambda=0.01\n",
    "\n",
    "for step in range(steps):\n",
    "    for i, j, r in non_zeros:\n",
    "        eij = r - np.dot(P[i,:], Q[j,:])\n",
    "        P[i, :] = P[i, :] + learning_rate*(eij * Q[j, :] - r_lambda*P[i, :])\n",
    "        Q[j, :] = Q[j, :] + learning_rate*(eij * P[i, :] - r_lambda*Q[j, :])\n",
    "        \n",
    "        rmse = get_rmse(R, P, Q, non_zeros)\n",
    "        if (step % 50) ==0:\n",
    "            print(\"### iteration step: \", step, \"rmse: \", rmse)"
   ]
  },
  {
   "cell_type": "code",
   "execution_count": 27,
   "id": "c4d096eb-0803-439c-933d-44823a5f7345",
   "metadata": {},
   "outputs": [
    {
     "name": "stdout",
     "output_type": "stream",
     "text": [
      "predict matirx:\n",
      " [[-0.035 -0.155  0.013  0.121]\n",
      " [-0.31   0.381  0.337 -0.156]\n",
      " [ 0.053 -0.247 -0.08   0.158]\n",
      " [-0.319  0.236  0.345  0.022]]\n"
     ]
    }
   ],
   "source": [
    "pred_matrix = np.dot(P, Q.T)\n",
    "print('predict matirx:\\n', np.round(pred_matrix,3))"
   ]
  },
  {
   "cell_type": "markdown",
   "id": "2b07a3db-6b78-4a66-b854-a49ba2db8d4f",
   "metadata": {},
   "source": [
    "## Contents based filerting"
   ]
  },
  {
   "cell_type": "code",
   "execution_count": 34,
   "id": "07c4ddeb-f634-4ed3-a762-15c26f696528",
   "metadata": {},
   "outputs": [
    {
     "name": "stdout",
     "output_type": "stream",
     "text": [
      "(4803, 20)\n"
     ]
    },
    {
     "data": {
      "text/html": [
       "<div>\n",
       "<style scoped>\n",
       "    .dataframe tbody tr th:only-of-type {\n",
       "        vertical-align: middle;\n",
       "    }\n",
       "\n",
       "    .dataframe tbody tr th {\n",
       "        vertical-align: top;\n",
       "    }\n",
       "\n",
       "    .dataframe thead th {\n",
       "        text-align: right;\n",
       "    }\n",
       "</style>\n",
       "<table border=\"1\" class=\"dataframe\">\n",
       "  <thead>\n",
       "    <tr style=\"text-align: right;\">\n",
       "      <th></th>\n",
       "      <th>budget</th>\n",
       "      <th>genres</th>\n",
       "      <th>homepage</th>\n",
       "      <th>id</th>\n",
       "      <th>keywords</th>\n",
       "      <th>original_language</th>\n",
       "      <th>original_title</th>\n",
       "      <th>overview</th>\n",
       "      <th>popularity</th>\n",
       "      <th>production_companies</th>\n",
       "      <th>production_countries</th>\n",
       "      <th>release_date</th>\n",
       "      <th>revenue</th>\n",
       "      <th>runtime</th>\n",
       "      <th>spoken_languages</th>\n",
       "      <th>status</th>\n",
       "      <th>tagline</th>\n",
       "      <th>title</th>\n",
       "      <th>vote_average</th>\n",
       "      <th>vote_count</th>\n",
       "    </tr>\n",
       "  </thead>\n",
       "  <tbody>\n",
       "    <tr>\n",
       "      <th>0</th>\n",
       "      <td>237000000</td>\n",
       "      <td>[{\"id\": 28, \"name\": \"Action\"}, {\"id\": 12, \"nam...</td>\n",
       "      <td>http://www.avatarmovie.com/</td>\n",
       "      <td>19995</td>\n",
       "      <td>[{\"id\": 1463, \"name\": \"culture clash\"}, {\"id\":...</td>\n",
       "      <td>en</td>\n",
       "      <td>Avatar</td>\n",
       "      <td>In the 22nd century, a paraplegic Marine is di...</td>\n",
       "      <td>150.437577</td>\n",
       "      <td>[{\"name\": \"Ingenious Film Partners\", \"id\": 289...</td>\n",
       "      <td>[{\"iso_3166_1\": \"US\", \"name\": \"United States o...</td>\n",
       "      <td>2009-12-10</td>\n",
       "      <td>2787965087</td>\n",
       "      <td>162.0</td>\n",
       "      <td>[{\"iso_639_1\": \"en\", \"name\": \"English\"}, {\"iso...</td>\n",
       "      <td>Released</td>\n",
       "      <td>Enter the World of Pandora.</td>\n",
       "      <td>Avatar</td>\n",
       "      <td>7.2</td>\n",
       "      <td>11800</td>\n",
       "    </tr>\n",
       "  </tbody>\n",
       "</table>\n",
       "</div>"
      ],
      "text/plain": [
       "      budget                                             genres  \\\n",
       "0  237000000  [{\"id\": 28, \"name\": \"Action\"}, {\"id\": 12, \"nam...   \n",
       "\n",
       "                      homepage     id  \\\n",
       "0  http://www.avatarmovie.com/  19995   \n",
       "\n",
       "                                            keywords original_language  \\\n",
       "0  [{\"id\": 1463, \"name\": \"culture clash\"}, {\"id\":...                en   \n",
       "\n",
       "  original_title                                           overview  \\\n",
       "0         Avatar  In the 22nd century, a paraplegic Marine is di...   \n",
       "\n",
       "   popularity                               production_companies  \\\n",
       "0  150.437577  [{\"name\": \"Ingenious Film Partners\", \"id\": 289...   \n",
       "\n",
       "                                production_countries release_date     revenue  \\\n",
       "0  [{\"iso_3166_1\": \"US\", \"name\": \"United States o...   2009-12-10  2787965087   \n",
       "\n",
       "   runtime                                   spoken_languages    status  \\\n",
       "0    162.0  [{\"iso_639_1\": \"en\", \"name\": \"English\"}, {\"iso...  Released   \n",
       "\n",
       "                       tagline   title  vote_average  vote_count  \n",
       "0  Enter the World of Pandora.  Avatar           7.2       11800  "
      ]
     },
     "execution_count": 34,
     "metadata": {},
     "output_type": "execute_result"
    }
   ],
   "source": [
    "import pandas as pd\n",
    "import numpy as np\n",
    "import warnings; warnings.filterwarnings('ignore')\n",
    "\n",
    "movies = pd.read_csv('tmdb_5000_movies.csv')\n",
    "print(movies.shape)\n",
    "movies.head(1)"
   ]
  },
  {
   "cell_type": "code",
   "execution_count": 38,
   "id": "03433540-3589-4f9e-bbad-bbc308d5b908",
   "metadata": {},
   "outputs": [],
   "source": [
    "movies_df = movies[['id', 'title', 'genres', 'vote_average', 'vote_count', 'popularity', 'keywords', 'overview']]"
   ]
  },
  {
   "cell_type": "code",
   "execution_count": 39,
   "id": "c2f97fea-2f1c-49c2-a101-722c43c25365",
   "metadata": {},
   "outputs": [
    {
     "data": {
      "text/html": [
       "<div>\n",
       "<style scoped>\n",
       "    .dataframe tbody tr th:only-of-type {\n",
       "        vertical-align: middle;\n",
       "    }\n",
       "\n",
       "    .dataframe tbody tr th {\n",
       "        vertical-align: top;\n",
       "    }\n",
       "\n",
       "    .dataframe thead th {\n",
       "        text-align: right;\n",
       "    }\n",
       "</style>\n",
       "<table border=\"1\" class=\"dataframe\">\n",
       "  <thead>\n",
       "    <tr style=\"text-align: right;\">\n",
       "      <th></th>\n",
       "      <th>genres</th>\n",
       "      <th>keywords</th>\n",
       "    </tr>\n",
       "  </thead>\n",
       "  <tbody>\n",
       "    <tr>\n",
       "      <th>0</th>\n",
       "      <td>[{\"id\": 28, \"name\": \"Action\"}, {\"id\": 12, \"name\": \"Adventure\"}, {\"id\": 14, \"name\": \"Fantasy\"}, {...</td>\n",
       "      <td>[{\"id\": 1463, \"name\": \"culture clash\"}, {\"id\": 2964, \"name\": \"future\"}, {\"id\": 3386, \"name\": \"sp...</td>\n",
       "    </tr>\n",
       "  </tbody>\n",
       "</table>\n",
       "</div>"
      ],
      "text/plain": [
       "                                                                                                genres  \\\n",
       "0  [{\"id\": 28, \"name\": \"Action\"}, {\"id\": 12, \"name\": \"Adventure\"}, {\"id\": 14, \"name\": \"Fantasy\"}, {...   \n",
       "\n",
       "                                                                                              keywords  \n",
       "0  [{\"id\": 1463, \"name\": \"culture clash\"}, {\"id\": 2964, \"name\": \"future\"}, {\"id\": 3386, \"name\": \"sp...  "
      ]
     },
     "execution_count": 39,
     "metadata": {},
     "output_type": "execute_result"
    }
   ],
   "source": [
    "pd.set_option('max_colwidth', 100)\n",
    "movies_df[['genres', 'keywords']][:1]"
   ]
  },
  {
   "cell_type": "code",
   "execution_count": null,
   "id": "453b9d83-cfb3-401f-8b41-2251007eb928",
   "metadata": {},
   "outputs": [],
   "source": []
  }
 ],
 "metadata": {
  "kernelspec": {
   "display_name": "default:Python",
   "language": "python",
   "name": "conda-env-default-py"
  },
  "language_info": {
   "codemirror_mode": {
    "name": "ipython",
    "version": 3
   },
   "file_extension": ".py",
   "mimetype": "text/x-python",
   "name": "python",
   "nbconvert_exporter": "python",
   "pygments_lexer": "ipython3",
   "version": "3.9.10"
  }
 },
 "nbformat": 4,
 "nbformat_minor": 5
}
