{
 "cells": [
  {
   "cell_type": "code",
   "execution_count": 2,
   "id": "c110c4bd-a41e-4927-a50c-86edf4ddda51",
   "metadata": {},
   "outputs": [
    {
     "name": "stdout",
     "output_type": "stream",
     "text": [
      "/home/studio-lab-user/yolov6\n"
     ]
    }
   ],
   "source": [
    "!pwd"
   ]
  },
  {
   "cell_type": "code",
   "execution_count": 5,
   "id": "676afad4-6da8-458c-9369-2d449ee14274",
   "metadata": {},
   "outputs": [],
   "source": [
    "import pandas as pd\n",
    "import numpy as np\n",
    "import os\n",
    "import tempfile\n",
    "from sklearn.metrics import roc_auc_score"
   ]
  },
  {
   "cell_type": "code",
   "execution_count": 7,
   "id": "7d076e3f-af0c-4367-9980-e0bda96b149f",
   "metadata": {},
   "outputs": [
    {
     "data": {
      "text/plain": [
       "'/tmp/tmpx3bt4stt'"
      ]
     },
     "execution_count": 7,
     "metadata": {},
     "output_type": "execute_result"
    }
   ],
   "source": [
    "tmp_dir = tempfile.mkdtemp()\n",
    "\n",
    "def create_temporary_directory(tmp_dir):\n",
    "    tmp_dir = tempfile.mkdtemp()\n",
    "    return tmp_dir\n",
    "\n",
    "tmp_dir = create_temporary_directory(tmp_dir)\n",
    "tmp_dir"
   ]
  },
  {
   "cell_type": "code",
   "execution_count": 8,
   "id": "5670a55c-4e1c-43eb-a360-21e269022dc5",
   "metadata": {},
   "outputs": [],
   "source": [
    "os.chdir(tmp_dir)"
   ]
  },
  {
   "cell_type": "code",
   "execution_count": 9,
   "id": "918006bc-c7b5-425d-8ea3-1dfb1f93705d",
   "metadata": {},
   "outputs": [
    {
     "name": "stdout",
     "output_type": "stream",
     "text": [
      "Cloning into 'YOLOv6'...\n",
      "remote: Enumerating objects: 819, done.\u001b[K\n",
      "remote: Counting objects: 100% (313/313), done.\u001b[K\n",
      "remote: Compressing objects: 100% (115/115), done.\u001b[K\n",
      "remote: Total 819 (delta 248), reused 199 (delta 198), pack-reused 506\u001b[K\n",
      "Receiving objects: 100% (819/819), 1.70 MiB | 7.19 MiB/s, done.\n",
      "Resolving deltas: 100% (418/418), done.\n"
     ]
    }
   ],
   "source": [
    "!git clone https://github.com/meituan/YOLOv6"
   ]
  },
  {
   "cell_type": "code",
   "execution_count": 12,
   "id": "98a321d9-961f-4f93-bd8b-0172ccb63946",
   "metadata": {},
   "outputs": [],
   "source": [
    "os.chdir(tmp_dir + '/YOLOv6')"
   ]
  },
  {
   "cell_type": "code",
   "execution_count": 13,
   "id": "d9dba4b9-a5eb-4b59-9a14-dbe389eb4e11",
   "metadata": {},
   "outputs": [
    {
     "name": "stdout",
     "output_type": "stream",
     "text": [
      "Requirement already satisfied: nvidia-ml-py3 in /home/studio-lab-user/.conda/envs/default/lib/python3.9/site-packages (7.352.0)\n",
      "Requirement already satisfied: tensorflow-io in /home/studio-lab-user/.conda/envs/default/lib/python3.9/site-packages (0.26.0)\n",
      "Requirement already satisfied: tensorflow-io-gcs-filesystem==0.26.0 in /home/studio-lab-user/.conda/envs/default/lib/python3.9/site-packages (from tensorflow-io) (0.26.0)\n"
     ]
    }
   ],
   "source": [
    "# Download requirements\n",
    "!pip install nvidia-ml-py3\n",
    "!pip install tensorflow-io\n",
    "!pip install -qr requirements.txt  # install"
   ]
  },
  {
   "cell_type": "code",
   "execution_count": 14,
   "id": "a06aad6a-609a-4ea0-8b0b-d1b099f49427",
   "metadata": {},
   "outputs": [],
   "source": [
    "# importing yaml, torch and display library\n",
    "import yaml\n",
    "import torch\n",
    "from IPython.display import Image, clear_output"
   ]
  },
  {
   "cell_type": "code",
   "execution_count": 15,
   "id": "6ac9f3de-5485-430e-8088-6e4c8357bef7",
   "metadata": {},
   "outputs": [
    {
     "name": "stdout",
     "output_type": "stream",
     "text": [
      "Torch: 1.11.0+cu102 (CPU)\n"
     ]
    }
   ],
   "source": [
    "# Check if we are using GPU\n",
    "print(f\"Torch: {torch.__version__} ({torch.cuda.get_device_properties(0).name if torch.cuda.is_available() else 'CPU'})\")"
   ]
  },
  {
   "cell_type": "code",
   "execution_count": null,
   "id": "f9ccd5f7-24b3-497d-ab55-7b0e80b8a6d8",
   "metadata": {},
   "outputs": [],
   "source": []
  }
 ],
 "metadata": {
  "kernelspec": {
   "display_name": "default:Python",
   "language": "python",
   "name": "conda-env-default-py"
  },
  "language_info": {
   "codemirror_mode": {
    "name": "ipython",
    "version": 3
   },
   "file_extension": ".py",
   "mimetype": "text/x-python",
   "name": "python",
   "nbconvert_exporter": "python",
   "pygments_lexer": "ipython3",
   "version": "3.9.10"
  }
 },
 "nbformat": 4,
 "nbformat_minor": 5
}
