{
 "cells": [
  {
   "cell_type": "markdown",
   "id": "8c0b3feb-9c8a-49c3-ac82-f044d8d5cdaf",
   "metadata": {},
   "source": [
    "## Install libraries\n",
    "* !python -m pip install paddlepaddle -i https://mirror.baidu.com/pypi/simple\n",
    "* !pip install paddleocr\n",
    "\n",
    "## cloning a repository may crash, so make the folder name differently. i.e) yolov5_\n",
    "* !git clone https://github.com/PaddlePaddle/PaddleOCR.git\n",
    "* !pip install \"opencv-python-headless<4.3\"\n",
    "\n",
    "## Import libraries\n",
    "* Import PaddleOCR and others.\n"
   ]
  },
  {
   "cell_type": "code",
   "execution_count": null,
   "id": "3589bf9f-f6c3-4e02-8b5d-584324ffd40d",
   "metadata": {},
   "outputs": [],
   "source": [
    "targets = [\"among us\", \"imposter\"]"
   ]
  },
  {
   "cell_type": "code",
   "execution_count": null,
   "id": "7c1fc759-feb3-4b16-a6b6-1eb2b5ac9984",
   "metadata": {
    "collapsed": true,
    "jupyter": {
     "outputs_hidden": true
    },
    "tags": []
   },
   "outputs": [],
   "source": [
    "from PaddleOCR.ocr_model import CharacterModel"
   ]
  },
  {
   "cell_type": "code",
   "execution_count": null,
   "id": "47ab73dc-60ab-4423-8902-7e7734d5cfdf",
   "metadata": {},
   "outputs": [],
   "source": [
    "a = CharacterModel(targets)"
   ]
  },
  {
   "cell_type": "code",
   "execution_count": null,
   "id": "0cd7fa47-4e3f-4491-82a3-066a8d688a7e",
   "metadata": {
    "collapsed": true,
    "jupyter": {
     "outputs_hidden": true
    },
    "tags": []
   },
   "outputs": [
    {
     "name": "stdout",
     "output_type": "stream",
     "text": [
      "[2023/03/20 14:03:31] ppocr DEBUG: Namespace(help='==SUPPRESS==', use_gpu=False, use_xpu=False, ir_optim=True, use_tensorrt=False, min_subgraph_size=15, shape_info_filename=None, precision='fp32', gpu_mem=500, image_dir=None, det_algorithm='DB', det_model_dir='/home/studio-lab-user/.paddleocr/whl/det/en/en_PP-OCRv3_det_infer', det_limit_side_len=960, det_limit_type='max', det_db_thresh=0.3, det_db_box_thresh=0.6, det_db_unclip_ratio=1.5, max_batch_size=10, use_dilation=False, det_db_score_mode='fast', det_east_score_thresh=0.8, det_east_cover_thresh=0.1, det_east_nms_thresh=0.2, det_sast_score_thresh=0.5, det_sast_nms_thresh=0.2, det_sast_polygon=False, det_pse_thresh=0, det_pse_box_thresh=0.85, det_pse_min_area=16, det_pse_box_type='quad', det_pse_scale=1, scales=[8, 16, 32], alpha=1.0, beta=1.0, fourier_degree=5, det_fce_box_type='poly', rec_algorithm='SVTR_LCNet', rec_model_dir='/home/studio-lab-user/.paddleocr/whl/rec/en/en_PP-OCRv3_rec_infer', rec_image_shape='3, 48, 320', rec_batch_num=6, max_text_length=25, rec_char_dict_path='/home/studio-lab-user/DS-Projects/OCR_Module/PaddleOCR/ppocr/utils/en_dict.txt', use_space_char=True, vis_font_path='./doc/fonts/simfang.ttf', drop_score=0.5, e2e_algorithm='PGNet', e2e_model_dir=None, e2e_limit_side_len=768, e2e_limit_type='max', e2e_pgnet_score_thresh=0.5, e2e_char_dict_path='./ppocr/utils/ic15_dict.txt', e2e_pgnet_valid_set='totaltext', e2e_pgnet_mode='fast', use_angle_cls=True, cls_model_dir='/home/studio-lab-user/.paddleocr/whl/cls/ch_ppocr_mobile_v2.0_cls_infer', cls_image_shape='3, 48, 192', label_list=['0', '180'], cls_batch_num=6, cls_thresh=0.9, enable_mkldnn=False, cpu_threads=10, use_pdserving=False, warmup=False, sr_model_dir=None, sr_image_shape='3, 32, 128', sr_batch_num=1, draw_img_save_dir='./inference_results', save_crop_res=False, crop_res_save_dir='./output', use_mp=False, total_process_num=1, process_id=0, benchmark=False, save_log_path='./log_output/', show_log=True, use_onnx=False, output='./output', table_max_len=488, table_algorithm='TableAttn', table_model_dir=None, merge_no_span_structure=True, table_char_dict_path=None, layout_model_dir=None, layout_dict_path=None, layout_score_threshold=0.5, layout_nms_threshold=0.5, kie_algorithm='LayoutXLM', ser_model_dir=None, ser_dict_path='../train_data/XFUND/class_list_xfun.txt', ocr_order_method=None, mode='structure', image_orientation=False, layout=True, table=True, ocr=True, recovery=False, save_pdf=False, lang='en', det=True, rec=True, type='ocr', ocr_version='PP-OCRv3', structure_version='PP-Structurev2')\n"
     ]
    },
    {
     "name": "stderr",
     "output_type": "stream",
     "text": [
      "\u001b[37m---    Fused 0 subgraphs into layer_norm op.\u001b[0m\n",
      "\u001b[37m---    Fused 0 subgraphs into layer_norm op.\u001b[0m\n",
      "\u001b[37m---    Fused 0 subgraphs into layer_norm op.\u001b[0m\n"
     ]
    },
    {
     "name": "stdout",
     "output_type": "stream",
     "text": [
      "[2023/03/20 14:03:34] ppocr DEBUG: dt_boxes num : 2, elapse : 1.003675937652588\n",
      "[2023/03/20 14:03:34] ppocr DEBUG: rec_res num  : 2, elapse : 0.22385716438293457\n",
      "[2023/03/20 14:03:35] ppocr DEBUG: dt_boxes num : 1, elapse : 1.2531523704528809\n",
      "[2023/03/20 14:03:35] ppocr DEBUG: rec_res num  : 1, elapse : 0.15093064308166504\n",
      "[2023/03/20 14:03:35] ppocr DEBUG: dt_boxes num : 0, elapse : 0.14855074882507324\n",
      "[2023/03/20 14:03:35] ppocr DEBUG: rec_res num  : 0, elapse : 1.6689300537109375e-06\n",
      "[2023/03/20 14:03:36] ppocr DEBUG: dt_boxes num : 1, elapse : 0.8152322769165039\n",
      "[2023/03/20 14:03:36] ppocr DEBUG: rec_res num  : 1, elapse : 0.14798903465270996\n",
      "[2023/03/20 14:03:38] ppocr DEBUG: dt_boxes num : 2, elapse : 1.4531164169311523\n",
      "[2023/03/20 14:03:38] ppocr DEBUG: rec_res num  : 2, elapse : 0.35764575004577637\n",
      "roc_auc_score:  1.0\n",
      "                                      image  relevant  \\\n",
      "0  968bf5e6c99211c2ad8ac27fa55e4651b941d137         1   \n",
      "1  68ece3fab138feb537eee296f3348f3543e23a1d         0   \n",
      "2  a31d8c30452d17221b0d8d4f9ccf50bf8dfff0cf         0   \n",
      "3  a278812a832f24a822e2602b91a7b1f5749926cb         1   \n",
      "4  3f7fc0f877323f4b74cb9a4c3847d3eea6f3ae5a         0   \n",
      "\n",
      "                                               words  OCR_score  \n",
      "0                   [[amongus], [82.79706239700317]]  72.447430  \n",
      "1       [[zfsz en alibaba com], [92.13441610336304]]   0.000000  \n",
      "2                                           [[], []]   0.000000  \n",
      "3                  [[impostor], [97.47896194458008]]  85.294092  \n",
      "4  [[press, to, make, a, sound], [99.687016010284...  24.921754  \n"
     ]
    }
   ],
   "source": [
    "key = a.predict()"
   ]
  },
  {
   "cell_type": "code",
   "execution_count": null,
   "id": "0c72aca5-d635-41a8-b092-aaa03791e4cb",
   "metadata": {
    "tags": []
   },
   "outputs": [
    {
     "data": {
      "text/html": [
       "<div>\n",
       "<style scoped>\n",
       "    .dataframe tbody tr th:only-of-type {\n",
       "        vertical-align: middle;\n",
       "    }\n",
       "\n",
       "    .dataframe tbody tr th {\n",
       "        vertical-align: top;\n",
       "    }\n",
       "\n",
       "    .dataframe thead th {\n",
       "        text-align: right;\n",
       "    }\n",
       "</style>\n",
       "<table border=\"1\" class=\"dataframe\">\n",
       "  <thead>\n",
       "    <tr style=\"text-align: right;\">\n",
       "      <th></th>\n",
       "      <th>image</th>\n",
       "      <th>relevant</th>\n",
       "      <th>words</th>\n",
       "      <th>OCR_score</th>\n",
       "    </tr>\n",
       "  </thead>\n",
       "  <tbody>\n",
       "    <tr>\n",
       "      <th>3</th>\n",
       "      <td>a278812a832f24a822e2602b91a7b1f5749926cb</td>\n",
       "      <td>1</td>\n",
       "      <td>[[impostor], [97.47896194458008]]</td>\n",
       "      <td>85.294092</td>\n",
       "    </tr>\n",
       "    <tr>\n",
       "      <th>0</th>\n",
       "      <td>968bf5e6c99211c2ad8ac27fa55e4651b941d137</td>\n",
       "      <td>1</td>\n",
       "      <td>[[amongus], [82.79706239700317]]</td>\n",
       "      <td>72.447430</td>\n",
       "    </tr>\n",
       "    <tr>\n",
       "      <th>4</th>\n",
       "      <td>3f7fc0f877323f4b74cb9a4c3847d3eea6f3ae5a</td>\n",
       "      <td>0</td>\n",
       "      <td>[[press, to, make, a, sound], [99.687016010284...</td>\n",
       "      <td>24.921754</td>\n",
       "    </tr>\n",
       "    <tr>\n",
       "      <th>1</th>\n",
       "      <td>68ece3fab138feb537eee296f3348f3543e23a1d</td>\n",
       "      <td>0</td>\n",
       "      <td>[[zfsz en alibaba com], [92.13441610336304]]</td>\n",
       "      <td>0.000000</td>\n",
       "    </tr>\n",
       "    <tr>\n",
       "      <th>2</th>\n",
       "      <td>a31d8c30452d17221b0d8d4f9ccf50bf8dfff0cf</td>\n",
       "      <td>0</td>\n",
       "      <td>[[], []]</td>\n",
       "      <td>0.000000</td>\n",
       "    </tr>\n",
       "  </tbody>\n",
       "</table>\n",
       "</div>"
      ],
      "text/plain": [
       "                                      image  relevant  \\\n",
       "3  a278812a832f24a822e2602b91a7b1f5749926cb         1   \n",
       "0  968bf5e6c99211c2ad8ac27fa55e4651b941d137         1   \n",
       "4  3f7fc0f877323f4b74cb9a4c3847d3eea6f3ae5a         0   \n",
       "1  68ece3fab138feb537eee296f3348f3543e23a1d         0   \n",
       "2  a31d8c30452d17221b0d8d4f9ccf50bf8dfff0cf         0   \n",
       "\n",
       "                                               words  OCR_score  \n",
       "3                  [[impostor], [97.47896194458008]]  85.294092  \n",
       "0                   [[amongus], [82.79706239700317]]  72.447430  \n",
       "4  [[press, to, make, a, sound], [99.687016010284...  24.921754  \n",
       "1       [[zfsz en alibaba com], [92.13441610336304]]   0.000000  \n",
       "2                                           [[], []]   0.000000  "
      ]
     },
     "execution_count": 8,
     "metadata": {},
     "output_type": "execute_result"
    }
   ],
   "source": [
    "a.data.sort_values(\"OCR_score\", ascending=False).head(5)"
   ]
  },
  {
   "cell_type": "code",
   "execution_count": 6,
   "id": "042a1ea9-4313-43e3-81eb-fc2f837b9e53",
   "metadata": {},
   "outputs": [
    {
     "data": {
      "text/plain": [
       "1.0"
      ]
     },
     "execution_count": 6,
     "metadata": {},
     "output_type": "execute_result"
    }
   ],
   "source": [
    "a.roc_auc_score"
   ]
  },
  {
   "cell_type": "code",
   "execution_count": 9,
   "id": "0ae0ee70-e73a-4988-907d-98b761b408b6",
   "metadata": {},
   "outputs": [],
   "source": [
    "result = [[[[[70.0, 53.0], [120.0, 53.0], [120.0, 64.0], [70.0, 64.0]], ('POPSOCKE', 0.9624342918395996)],\n",
    "           [[[87.0, 166.0], [115.0, 166.0], [115.0, 173.0], [87.0, 173.0]], ('POPGRIP', 0.9883114099502563)]]]"
   ]
  },
  {
   "cell_type": "code",
   "execution_count": 10,
   "id": "4ca84821-ab95-4584-9361-d378c01c3252",
   "metadata": {},
   "outputs": [
    {
     "data": {
      "text/plain": [
       "['POPSOCKE', 'POPGRIP']"
      ]
     },
     "execution_count": 10,
     "metadata": {},
     "output_type": "execute_result"
    }
   ],
   "source": [
    "texts = [res[1][0] for item in result for res in item]\n",
    "texts"
   ]
  },
  {
   "cell_type": "code",
   "execution_count": 20,
   "id": "b10c907e-6dbf-4a0b-8ef0-c4f552b35be4",
   "metadata": {},
   "outputs": [
    {
     "data": {
      "text/plain": [
       "[[[[70.0, 53.0], [120.0, 53.0], [120.0, 64.0], [70.0, 64.0]],\n",
       "  ('POPSOCKE', 0.9624342918395996)],\n",
       " [[[87.0, 166.0], [115.0, 166.0], [115.0, 173.0], [87.0, 173.0]],\n",
       "  ('POPGRIP', 0.9883114099502563)]]"
      ]
     },
     "execution_count": 20,
     "metadata": {},
     "output_type": "execute_result"
    }
   ],
   "source": [
    "texts = [res\n",
    "         for item in result\n",
    "             for res in item]\n",
    "texts"
   ]
  },
  {
   "cell_type": "code",
   "execution_count": 21,
   "id": "10d584e2-db74-458e-a6df-884c14747f37",
   "metadata": {},
   "outputs": [
    {
     "data": {
      "text/plain": [
       "[('POPSOCKE', 0.9624342918395996), ('POPGRIP', 0.9883114099502563)]"
      ]
     },
     "execution_count": 21,
     "metadata": {},
     "output_type": "execute_result"
    }
   ],
   "source": [
    "texts = [res[1]\n",
    "         for item in result\n",
    "             for res in item]\n",
    "texts"
   ]
  },
  {
   "cell_type": "code",
   "execution_count": 25,
   "id": "e4ab9488-57c2-40d6-b01d-f5cb4be2a61f",
   "metadata": {},
   "outputs": [
    {
     "data": {
      "text/plain": [
       "[('POPSOCKE', 0.9624342918395996), ('POPGRIP', 0.9883114099502563)]"
      ]
     },
     "execution_count": 25,
     "metadata": {},
     "output_type": "execute_result"
    }
   ],
   "source": [
    "texts = [res[1]\n",
    "         for item in result\n",
    "             for res in item]\n",
    "texts"
   ]
  }
 ],
 "metadata": {
  "kernelspec": {
   "display_name": "default:Python",
   "language": "python",
   "name": "conda-env-default-py"
  },
  "language_info": {
   "codemirror_mode": {
    "name": "ipython",
    "version": 3
   },
   "file_extension": ".py",
   "mimetype": "text/x-python",
   "name": "python",
   "nbconvert_exporter": "python",
   "pygments_lexer": "ipython3",
   "version": "3.9.10"
  }
 },
 "nbformat": 4,
 "nbformat_minor": 5
}
